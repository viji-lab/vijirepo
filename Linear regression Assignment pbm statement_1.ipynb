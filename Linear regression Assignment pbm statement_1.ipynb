{
 "cells": [
  {
   "cell_type": "markdown",
   "id": "84e63184",
   "metadata": {},
   "source": [
    "Dataset: data.csv\n",
    "Tasks to be performed:\n",
    "1. Load the dataset using pandas\n",
    "2. Extract data fromYearsExperience column is a variable named X\n",
    "3. Extract data from salary column is a variable named Y\n",
    "4. Divide the dataset into two parts for training and testing in 66% and 33% proportion\n",
    "5. Create and train LinearRegression Model on training set\n",
    "6. Make predictions based on the testing set using the trained model\n",
    "7. Check the performance by calculating the r2 score of the model"
   ]
  },
  {
   "cell_type": "code",
   "execution_count": 1,
   "id": "eb61c4df",
   "metadata": {},
   "outputs": [],
   "source": [
    "import pandas as pd\n",
    "import numpy as np\n",
    "import matplotlib.pyplot as plt\n",
    "from sklearn.metrics import *"
   ]
  },
  {
   "cell_type": "code",
   "execution_count": 2,
   "id": "4f3ebbcc",
   "metadata": {},
   "outputs": [],
   "source": [
    "#1. Load the dataset using pandas\n",
    "\n",
    "linear=pd.read_csv(r\"C:\\Users\\Lenovo\\OneDrive\\Desktop\\data.csv\")"
   ]
  },
  {
   "cell_type": "code",
   "execution_count": 3,
   "id": "601a81a4",
   "metadata": {},
   "outputs": [
    {
     "data": {
      "text/html": [
       "<div>\n",
       "<style scoped>\n",
       "    .dataframe tbody tr th:only-of-type {\n",
       "        vertical-align: middle;\n",
       "    }\n",
       "\n",
       "    .dataframe tbody tr th {\n",
       "        vertical-align: top;\n",
       "    }\n",
       "\n",
       "    .dataframe thead th {\n",
       "        text-align: right;\n",
       "    }\n",
       "</style>\n",
       "<table border=\"1\" class=\"dataframe\">\n",
       "  <thead>\n",
       "    <tr style=\"text-align: right;\">\n",
       "      <th></th>\n",
       "      <th>YearsExperience</th>\n",
       "      <th>Salary</th>\n",
       "    </tr>\n",
       "  </thead>\n",
       "  <tbody>\n",
       "    <tr>\n",
       "      <th>0</th>\n",
       "      <td>1.1</td>\n",
       "      <td>39343.0</td>\n",
       "    </tr>\n",
       "    <tr>\n",
       "      <th>1</th>\n",
       "      <td>1.3</td>\n",
       "      <td>46205.0</td>\n",
       "    </tr>\n",
       "    <tr>\n",
       "      <th>2</th>\n",
       "      <td>1.5</td>\n",
       "      <td>37731.0</td>\n",
       "    </tr>\n",
       "    <tr>\n",
       "      <th>3</th>\n",
       "      <td>2.0</td>\n",
       "      <td>43525.0</td>\n",
       "    </tr>\n",
       "    <tr>\n",
       "      <th>4</th>\n",
       "      <td>2.2</td>\n",
       "      <td>39891.0</td>\n",
       "    </tr>\n",
       "  </tbody>\n",
       "</table>\n",
       "</div>"
      ],
      "text/plain": [
       "   YearsExperience   Salary\n",
       "0              1.1  39343.0\n",
       "1              1.3  46205.0\n",
       "2              1.5  37731.0\n",
       "3              2.0  43525.0\n",
       "4              2.2  39891.0"
      ]
     },
     "execution_count": 3,
     "metadata": {},
     "output_type": "execute_result"
    }
   ],
   "source": [
    "linear.head()"
   ]
  },
  {
   "cell_type": "code",
   "execution_count": 4,
   "id": "4f348f79",
   "metadata": {},
   "outputs": [
    {
     "data": {
      "text/html": [
       "<div>\n",
       "<style scoped>\n",
       "    .dataframe tbody tr th:only-of-type {\n",
       "        vertical-align: middle;\n",
       "    }\n",
       "\n",
       "    .dataframe tbody tr th {\n",
       "        vertical-align: top;\n",
       "    }\n",
       "\n",
       "    .dataframe thead th {\n",
       "        text-align: right;\n",
       "    }\n",
       "</style>\n",
       "<table border=\"1\" class=\"dataframe\">\n",
       "  <thead>\n",
       "    <tr style=\"text-align: right;\">\n",
       "      <th></th>\n",
       "      <th>YearsExperience</th>\n",
       "      <th>Salary</th>\n",
       "    </tr>\n",
       "  </thead>\n",
       "  <tbody>\n",
       "    <tr>\n",
       "      <th>25</th>\n",
       "      <td>9.0</td>\n",
       "      <td>105582.0</td>\n",
       "    </tr>\n",
       "    <tr>\n",
       "      <th>26</th>\n",
       "      <td>9.5</td>\n",
       "      <td>116969.0</td>\n",
       "    </tr>\n",
       "    <tr>\n",
       "      <th>27</th>\n",
       "      <td>9.6</td>\n",
       "      <td>112635.0</td>\n",
       "    </tr>\n",
       "    <tr>\n",
       "      <th>28</th>\n",
       "      <td>10.3</td>\n",
       "      <td>122391.0</td>\n",
       "    </tr>\n",
       "    <tr>\n",
       "      <th>29</th>\n",
       "      <td>10.5</td>\n",
       "      <td>121872.0</td>\n",
       "    </tr>\n",
       "  </tbody>\n",
       "</table>\n",
       "</div>"
      ],
      "text/plain": [
       "    YearsExperience    Salary\n",
       "25              9.0  105582.0\n",
       "26              9.5  116969.0\n",
       "27              9.6  112635.0\n",
       "28             10.3  122391.0\n",
       "29             10.5  121872.0"
      ]
     },
     "execution_count": 4,
     "metadata": {},
     "output_type": "execute_result"
    }
   ],
   "source": [
    "linear.tail()"
   ]
  },
  {
   "cell_type": "code",
   "execution_count": 5,
   "id": "a7b8199d",
   "metadata": {},
   "outputs": [],
   "source": [
    "#2. Extract data fromYearsExperience column is a variable named X\n",
    "\n",
    "X=linear['YearsExperience']\n",
    "x=X.to_frame()"
   ]
  },
  {
   "cell_type": "code",
   "execution_count": 6,
   "id": "34be9fa1",
   "metadata": {},
   "outputs": [],
   "source": [
    "#3. Extract data from salary column is a variable named Y\n",
    "\n",
    "Y=linear['Salary']\n",
    "y=Y.to_frame()"
   ]
  },
  {
   "cell_type": "code",
   "execution_count": 7,
   "id": "0f6a4e78",
   "metadata": {},
   "outputs": [],
   "source": [
    "#4. Divide the dataset into two parts for training and testing in 66% and 33% proportion\n",
    "\n",
    "from sklearn.model_selection import train_test_split\n",
    "\n",
    "x_train,x_test,y_train,y_test=train_test_split(x,y,test_size=0.33,random_state=0)"
   ]
  },
  {
   "cell_type": "code",
   "execution_count": 8,
   "id": "12734d95",
   "metadata": {},
   "outputs": [
    {
     "data": {
      "text/plain": [
       "LinearRegression()"
      ]
     },
     "execution_count": 8,
     "metadata": {},
     "output_type": "execute_result"
    }
   ],
   "source": [
    "#5. Create and train LinearRegression Model on training set\n",
    "\n",
    "from sklearn.linear_model import LinearRegression\n",
    "l_model=LinearRegression()\n",
    "l_model.fit(x_train,y_train)"
   ]
  },
  {
   "cell_type": "code",
   "execution_count": 9,
   "id": "8c2bea14",
   "metadata": {},
   "outputs": [],
   "source": [
    "#6. Make predictions based on the testing set using the trained model\n",
    "\n",
    "y_pred=l_model.predict(x_test)"
   ]
  },
  {
   "cell_type": "code",
   "execution_count": 10,
   "id": "1b47fcab",
   "metadata": {},
   "outputs": [
    {
     "data": {
      "text/plain": [
       "array([[ 40835.10590871],\n",
       "       [123079.39940819],\n",
       "       [ 65134.55626083],\n",
       "       [ 63265.36777221],\n",
       "       [115602.64545369],\n",
       "       [108125.8914992 ],\n",
       "       [116537.23969801],\n",
       "       [ 64199.96201652],\n",
       "       [ 76349.68719258],\n",
       "       [100649.1375447 ]])"
      ]
     },
     "execution_count": 10,
     "metadata": {},
     "output_type": "execute_result"
    }
   ],
   "source": [
    "y_pred"
   ]
  },
  {
   "cell_type": "code",
   "execution_count": 11,
   "id": "e45693e5",
   "metadata": {},
   "outputs": [],
   "source": [
    "error_pred=pd.DataFrame(columns={'Actual_data','Prediciton_data'})"
   ]
  },
  {
   "cell_type": "code",
   "execution_count": 12,
   "id": "1f2175ba",
   "metadata": {},
   "outputs": [],
   "source": [
    "error_pred['Actual_data']=y_test"
   ]
  },
  {
   "cell_type": "code",
   "execution_count": 13,
   "id": "a9da0a24",
   "metadata": {},
   "outputs": [],
   "source": [
    "error_pred['Prediction_data']=y_pred"
   ]
  },
  {
   "cell_type": "code",
   "execution_count": 14,
   "id": "25ae6538",
   "metadata": {},
   "outputs": [
    {
     "data": {
      "text/html": [
       "<div>\n",
       "<style scoped>\n",
       "    .dataframe tbody tr th:only-of-type {\n",
       "        vertical-align: middle;\n",
       "    }\n",
       "\n",
       "    .dataframe tbody tr th {\n",
       "        vertical-align: top;\n",
       "    }\n",
       "\n",
       "    .dataframe thead th {\n",
       "        text-align: right;\n",
       "    }\n",
       "</style>\n",
       "<table border=\"1\" class=\"dataframe\">\n",
       "  <thead>\n",
       "    <tr style=\"text-align: right;\">\n",
       "      <th></th>\n",
       "      <th>Actual_data</th>\n",
       "      <th>Prediciton_data</th>\n",
       "      <th>Prediction_data</th>\n",
       "    </tr>\n",
       "  </thead>\n",
       "  <tbody>\n",
       "    <tr>\n",
       "      <th>2</th>\n",
       "      <td>37731.0</td>\n",
       "      <td>NaN</td>\n",
       "      <td>40835.105909</td>\n",
       "    </tr>\n",
       "    <tr>\n",
       "      <th>28</th>\n",
       "      <td>122391.0</td>\n",
       "      <td>NaN</td>\n",
       "      <td>123079.399408</td>\n",
       "    </tr>\n",
       "    <tr>\n",
       "      <th>13</th>\n",
       "      <td>57081.0</td>\n",
       "      <td>NaN</td>\n",
       "      <td>65134.556261</td>\n",
       "    </tr>\n",
       "    <tr>\n",
       "      <th>10</th>\n",
       "      <td>63218.0</td>\n",
       "      <td>NaN</td>\n",
       "      <td>63265.367772</td>\n",
       "    </tr>\n",
       "    <tr>\n",
       "      <th>26</th>\n",
       "      <td>116969.0</td>\n",
       "      <td>NaN</td>\n",
       "      <td>115602.645454</td>\n",
       "    </tr>\n",
       "    <tr>\n",
       "      <th>24</th>\n",
       "      <td>109431.0</td>\n",
       "      <td>NaN</td>\n",
       "      <td>108125.891499</td>\n",
       "    </tr>\n",
       "    <tr>\n",
       "      <th>27</th>\n",
       "      <td>112635.0</td>\n",
       "      <td>NaN</td>\n",
       "      <td>116537.239698</td>\n",
       "    </tr>\n",
       "    <tr>\n",
       "      <th>11</th>\n",
       "      <td>55794.0</td>\n",
       "      <td>NaN</td>\n",
       "      <td>64199.962017</td>\n",
       "    </tr>\n",
       "    <tr>\n",
       "      <th>17</th>\n",
       "      <td>83088.0</td>\n",
       "      <td>NaN</td>\n",
       "      <td>76349.687193</td>\n",
       "    </tr>\n",
       "    <tr>\n",
       "      <th>22</th>\n",
       "      <td>101302.0</td>\n",
       "      <td>NaN</td>\n",
       "      <td>100649.137545</td>\n",
       "    </tr>\n",
       "  </tbody>\n",
       "</table>\n",
       "</div>"
      ],
      "text/plain": [
       "    Actual_data Prediciton_data  Prediction_data\n",
       "2       37731.0             NaN     40835.105909\n",
       "28     122391.0             NaN    123079.399408\n",
       "13      57081.0             NaN     65134.556261\n",
       "10      63218.0             NaN     63265.367772\n",
       "26     116969.0             NaN    115602.645454\n",
       "24     109431.0             NaN    108125.891499\n",
       "27     112635.0             NaN    116537.239698\n",
       "11      55794.0             NaN     64199.962017\n",
       "17      83088.0             NaN     76349.687193\n",
       "22     101302.0             NaN    100649.137545"
      ]
     },
     "execution_count": 14,
     "metadata": {},
     "output_type": "execute_result"
    }
   ],
   "source": [
    "error_pred"
   ]
  },
  {
   "cell_type": "code",
   "execution_count": 15,
   "id": "8b616874",
   "metadata": {},
   "outputs": [
    {
     "data": {
      "text/plain": [
       "(10, 3)"
      ]
     },
     "execution_count": 15,
     "metadata": {},
     "output_type": "execute_result"
    }
   ],
   "source": [
    "error_pred.shape"
   ]
  },
  {
   "cell_type": "code",
   "execution_count": 16,
   "id": "09b77f20",
   "metadata": {},
   "outputs": [],
   "source": [
    "error_pred['Error']=error_pred['Actual_data']-error_pred['Prediction_data']"
   ]
  },
  {
   "cell_type": "code",
   "execution_count": 17,
   "id": "01ad639b",
   "metadata": {},
   "outputs": [
    {
     "data": {
      "text/plain": [
       "2    -3104.105909\n",
       "28    -688.399408\n",
       "13   -8053.556261\n",
       "10     -47.367772\n",
       "26    1366.354546\n",
       "24    1305.108501\n",
       "27   -3902.239698\n",
       "11   -8405.962017\n",
       "17    6738.312807\n",
       "22     652.862455\n",
       "Name: Error, dtype: float64"
      ]
     },
     "execution_count": 17,
     "metadata": {},
     "output_type": "execute_result"
    }
   ],
   "source": [
    "error_pred['Error']"
   ]
  },
  {
   "cell_type": "code",
   "execution_count": 18,
   "id": "10bd3ea7",
   "metadata": {},
   "outputs": [
    {
     "data": {
      "text/html": [
       "<div>\n",
       "<style scoped>\n",
       "    .dataframe tbody tr th:only-of-type {\n",
       "        vertical-align: middle;\n",
       "    }\n",
       "\n",
       "    .dataframe tbody tr th {\n",
       "        vertical-align: top;\n",
       "    }\n",
       "\n",
       "    .dataframe thead th {\n",
       "        text-align: right;\n",
       "    }\n",
       "</style>\n",
       "<table border=\"1\" class=\"dataframe\">\n",
       "  <thead>\n",
       "    <tr style=\"text-align: right;\">\n",
       "      <th></th>\n",
       "      <th>Actual_data</th>\n",
       "      <th>Prediciton_data</th>\n",
       "      <th>Prediction_data</th>\n",
       "      <th>Error</th>\n",
       "    </tr>\n",
       "  </thead>\n",
       "  <tbody>\n",
       "    <tr>\n",
       "      <th>2</th>\n",
       "      <td>37731.0</td>\n",
       "      <td>NaN</td>\n",
       "      <td>40835.105909</td>\n",
       "      <td>-3104.105909</td>\n",
       "    </tr>\n",
       "    <tr>\n",
       "      <th>28</th>\n",
       "      <td>122391.0</td>\n",
       "      <td>NaN</td>\n",
       "      <td>123079.399408</td>\n",
       "      <td>-688.399408</td>\n",
       "    </tr>\n",
       "    <tr>\n",
       "      <th>13</th>\n",
       "      <td>57081.0</td>\n",
       "      <td>NaN</td>\n",
       "      <td>65134.556261</td>\n",
       "      <td>-8053.556261</td>\n",
       "    </tr>\n",
       "    <tr>\n",
       "      <th>10</th>\n",
       "      <td>63218.0</td>\n",
       "      <td>NaN</td>\n",
       "      <td>63265.367772</td>\n",
       "      <td>-47.367772</td>\n",
       "    </tr>\n",
       "    <tr>\n",
       "      <th>26</th>\n",
       "      <td>116969.0</td>\n",
       "      <td>NaN</td>\n",
       "      <td>115602.645454</td>\n",
       "      <td>1366.354546</td>\n",
       "    </tr>\n",
       "  </tbody>\n",
       "</table>\n",
       "</div>"
      ],
      "text/plain": [
       "    Actual_data Prediciton_data  Prediction_data        Error\n",
       "2       37731.0             NaN     40835.105909 -3104.105909\n",
       "28     122391.0             NaN    123079.399408  -688.399408\n",
       "13      57081.0             NaN     65134.556261 -8053.556261\n",
       "10      63218.0             NaN     63265.367772   -47.367772\n",
       "26     116969.0             NaN    115602.645454  1366.354546"
      ]
     },
     "execution_count": 18,
     "metadata": {},
     "output_type": "execute_result"
    }
   ],
   "source": [
    "error_pred.head()"
   ]
  },
  {
   "cell_type": "code",
   "execution_count": 19,
   "id": "baad1a39",
   "metadata": {},
   "outputs": [
    {
     "data": {
      "text/plain": [
       "0.9749154407708353"
      ]
     },
     "execution_count": 19,
     "metadata": {},
     "output_type": "execute_result"
    }
   ],
   "source": [
    "#7. Check the performance by calculating the r2 score of the model\n",
    "\n",
    "r2_on_test=r2_score(y_test,y_pred)   \n",
    "r2_on_test"
   ]
  },
  {
   "cell_type": "markdown",
   "id": "199247b3",
   "metadata": {},
   "source": [
    "\n",
    "The result 0.97 shows that there is a strong linear relationship between X and Y. So we can use for future predictions.\n"
   ]
  },
  {
   "cell_type": "code",
   "execution_count": 20,
   "id": "eaf3a818",
   "metadata": {},
   "outputs": [
    {
     "data": {
      "image/png": "[encoded data removed]",
      "text/plain": [
       "<Figure size 432x288 with 1 Axes>"
      ]
     },
     "metadata": {
      "needs_background": "light"
     },
     "output_type": "display_data"
    }
   ],
   "source": [
    "X=linear['YearsExperience']\n",
    "Y=linear['Salary']\n",
    "plt.scatter(X,Y)\n",
    "plt.show()"
   ]
  },
  {
   "cell_type": "code",
   "execution_count": 21,
   "id": "bbbc1974",
   "metadata": {},
   "outputs": [
    {
     "data": {
      "image/png": "[encoded data removed]",
      "text/plain": [
       "<Figure size 432x288 with 1 Axes>"
      ]
     },
     "metadata": {
      "needs_background": "light"
     },
     "output_type": "display_data"
    }
   ],
   "source": [
    "import matplotlib.pyplot as plt\n",
    "from scipy import stats\n",
    "\n",
    "\n",
    "X=linear['YearsExperience']\n",
    "Y=linear['Salary']\n",
    "\n",
    "\n",
    "slope, intercept, r, p, std_err = stats.linregress(X, Y)\n",
    "\n",
    "def myfunc(X):\n",
    "  return slope * X + intercept\n",
    "\n",
    "mymodel = list(map(myfunc, X))\n",
    "\n",
    "plt.scatter(X, Y)\n",
    "plt.plot(X, mymodel)\n",
    "plt.show()"
   ]
  },
  {
   "cell_type": "code",
   "execution_count": 22,
   "id": "c48f7434",
   "metadata": {},
   "outputs": [
    {
     "name": "stdout",
     "output_type": "stream",
     "text": [
      "0.9782416184887599\n"
     ]
    }
   ],
   "source": [
    "print(r)"
   ]
  },
  {
   "cell_type": "code",
   "execution_count": 23,
   "id": "41777018",
   "metadata": {},
   "outputs": [
    {
     "data": {
      "text/plain": [
       "134466.76689540208"
      ]
     },
     "execution_count": 23,
     "metadata": {},
     "output_type": "execute_result"
    }
   ],
   "source": [
    "exp_sal=myfunc(11.5)\n",
    "exp_sal"
   ]
  },
  {
   "cell_type": "code",
   "execution_count": null,
   "id": "7a35ce85",
   "metadata": {},
   "outputs": [],
   "source": []
  },
  {
   "cell_type": "raw",
   "id": "ffa85c0f",
   "metadata": {},
   "source": [
    "Problem Statement:\n",
    "1. You have access to the salary information of several employees along with their Years of\n",
    "Experience. Using Linear regression analysis in machine learning, create a linear\n",
    "regression model can predict the salary of an employee based on the years of\n",
    "experience.\n",
    "2. House prices can be an ever changing trend, but it does change based on certain\n",
    "parameters. You are provided with housing data that has information on various houses\n",
    "and their prices. Use the data at hand to predict the prices of the house using linear\n",
    "regression in machine learning.\n"
   ]
  },
  {
   "cell_type": "raw",
   "id": "23c1f3d3",
   "metadata": {},
   "source": [
    "Dataset Information:\n",
    "1. Data.csv - This dataset contains two columns with 30 entries each for employee years\n",
    "of experience and their salary.\n",
    "Column Name Description\n",
    "YearsExperience The column contains 30 entries of the\n",
    "employee’s years of experience.\n",
    "Salary The salary column contains 30 entries of their\n",
    "respective salary for their years of\n",
    "experience.\n"
   ]
  },
  {
   "cell_type": "raw",
   "id": "549a213f",
   "metadata": {},
   "source": [
    "Use the data.csv for the questions mentioned below\n"
   ]
  },
  {
   "cell_type": "raw",
   "id": "478717fb",
   "metadata": {},
   "source": [
    "1. How many employees having more than 5 years experience are earning more than 60000?\n",
    "a. 41\n",
    "b. 12\n",
    "c. 21\n",
    "d. 14\n",
    "\n",
    "#Ans: d. 14"
   ]
  },
  {
   "cell_type": "code",
   "execution_count": 24,
   "id": "de0ec6c3",
   "metadata": {},
   "outputs": [],
   "source": [
    "expabv5_salabv60k=linear[(linear['YearsExperience']>5) & (linear['Salary']>60000)]"
   ]
  },
  {
   "cell_type": "code",
   "execution_count": 25,
   "id": "a7d2148a",
   "metadata": {},
   "outputs": [
    {
     "data": {
      "text/plain": [
       "14"
      ]
     },
     "execution_count": 25,
     "metadata": {},
     "output_type": "execute_result"
    }
   ],
   "source": [
    "expabv5_salabv60k.value_counts().sum()"
   ]
  },
  {
   "cell_type": "raw",
   "id": "09cde241",
   "metadata": {},
   "source": [
    "2. How many employees are earning between 50000-80000?\n",
    "a. 14\n",
    "b. 12\n",
    "c. 10\n",
    "d. 13\n",
    "\n",
    "#Ans: b. 12"
   ]
  },
  {
   "cell_type": "code",
   "execution_count": 26,
   "id": "a49d29d3",
   "metadata": {},
   "outputs": [],
   "source": [
    "sal50_80=linear[(linear['Salary']>50000) & (linear['Salary']< 80000)]"
   ]
  },
  {
   "cell_type": "code",
   "execution_count": 27,
   "id": "630c1d93",
   "metadata": {},
   "outputs": [
    {
     "data": {
      "text/plain": [
       "12"
      ]
     },
     "execution_count": 27,
     "metadata": {},
     "output_type": "execute_result"
    }
   ],
   "source": [
    "sal50_80.value_counts().sum()"
   ]
  },
  {
   "cell_type": "raw",
   "id": "a28119e3",
   "metadata": {},
   "source": [
    "3. The scatter plot in the following image shows the relationship between the\n",
    "“YearsExperience” and “Salary” columns. What possible inferences can be drawn from the\n",
    "plot?\n",
    "\n",
    "\n",
    "a. The plot shows a positive correlation between the ‘YearsExperience” and “Salary”\n",
    "column.\n",
    "b. The plot shows no significant relationship between the “YearExperience” and\n",
    "“Salary” column.\n",
    "c. The plot shows a negative correlation between the “YearsExperience” and\n",
    "“Salary” column.\n",
    "d. None of the above.\n",
    "\n",
    "#Ans: a. The plot shows a positive correlation between the ‘YearsExperience” and “Salary” column."
   ]
  },
  {
   "cell_type": "code",
   "execution_count": 28,
   "id": "dc898c62",
   "metadata": {},
   "outputs": [
    {
     "data": {
      "image/png": "[encoded data removed]",
      "text/plain": [
       "<Figure size 432x288 with 1 Axes>"
      ]
     },
     "metadata": {
      "needs_background": "light"
     },
     "output_type": "display_data"
    }
   ],
   "source": [
    "X=linear['YearsExperience']\n",
    "Y=linear['Salary']\n",
    "plt.scatter(X,Y)\n",
    "plt.show()"
   ]
  },
  {
   "cell_type": "code",
   "execution_count": 29,
   "id": "4886a38f",
   "metadata": {},
   "outputs": [
    {
     "data": {
      "text/html": [
       "<div>\n",
       "<style scoped>\n",
       "    .dataframe tbody tr th:only-of-type {\n",
       "        vertical-align: middle;\n",
       "    }\n",
       "\n",
       "    .dataframe tbody tr th {\n",
       "        vertical-align: top;\n",
       "    }\n",
       "\n",
       "    .dataframe thead th {\n",
       "        text-align: right;\n",
       "    }\n",
       "</style>\n",
       "<table border=\"1\" class=\"dataframe\">\n",
       "  <thead>\n",
       "    <tr style=\"text-align: right;\">\n",
       "      <th></th>\n",
       "      <th>YearsExperience</th>\n",
       "      <th>Salary</th>\n",
       "    </tr>\n",
       "  </thead>\n",
       "  <tbody>\n",
       "    <tr>\n",
       "      <th>YearsExperience</th>\n",
       "      <td>1.000000</td>\n",
       "      <td>0.978242</td>\n",
       "    </tr>\n",
       "    <tr>\n",
       "      <th>Salary</th>\n",
       "      <td>0.978242</td>\n",
       "      <td>1.000000</td>\n",
       "    </tr>\n",
       "  </tbody>\n",
       "</table>\n",
       "</div>"
      ],
      "text/plain": [
       "                 YearsExperience    Salary\n",
       "YearsExperience         1.000000  0.978242\n",
       "Salary                  0.978242  1.000000"
      ]
     },
     "execution_count": 29,
     "metadata": {},
     "output_type": "execute_result"
    }
   ],
   "source": [
    "linear.corr()"
   ]
  },
  {
   "cell_type": "code",
   "execution_count": 30,
   "id": "aa85e13d",
   "metadata": {},
   "outputs": [
    {
     "data": {
      "text/plain": [
       "<AxesSubplot:>"
      ]
     },
     "execution_count": 30,
     "metadata": {},
     "output_type": "execute_result"
    },
    {
     "data": {
      "image/png": "[encoded data removed]",
      "text/plain": [
       "<Figure size 432x288 with 2 Axes>"
      ]
     },
     "metadata": {
      "needs_background": "light"
     },
     "output_type": "display_data"
    }
   ],
   "source": [
    "import seaborn as sns\n",
    "sns.heatmap(linear.corr(),annot=True)"
   ]
  },
  {
   "cell_type": "raw",
   "id": "3cd720fc",
   "metadata": {},
   "source": [
    "4. The distribution plot of the column “YearsExperience” is shown in the image below,\n",
    "what possible inferences can be drawn from the plot.\n",
    "\n",
    "a. “YearsExperience” data is normally distributed.\n",
    "b. “YearsExperience” data is positively skewed.\n",
    "c. “YearsExperience” data is negatively skewed.\n",
    "d. None of the above.\n",
    "\n",
    "#Ans: b. “YearsExperience” data is positively skewed."
   ]
  },
  {
   "cell_type": "code",
   "execution_count": 31,
   "id": "765df9df",
   "metadata": {},
   "outputs": [
    {
     "name": "stderr",
     "output_type": "stream",
     "text": [
      "C:\\Users\\Lenovo\\anaconda3\\lib\\site-packages\\seaborn\\distributions.py:2619: FutureWarning: `distplot` is a deprecated function and will be removed in a future version. Please adapt your code to use either `displot` (a figure-level function with similar flexibility) or `histplot` (an axes-level function for histograms).\n",
      "  warnings.warn(msg, FutureWarning)\n"
     ]
    },
    {
     "data": {
      "text/plain": [
       "<AxesSubplot:xlabel='YearsExperience', ylabel='Density'>"
      ]
     },
     "execution_count": 31,
     "metadata": {},
     "output_type": "execute_result"
    },
    {
     "data": {
      "image/png": "[encoded data removed]",
      "text/plain": [
       "<Figure size 432x288 with 1 Axes>"
      ]
     },
     "metadata": {
      "needs_background": "light"
     },
     "output_type": "display_data"
    }
   ],
   "source": [
    "sns.distplot(X)"
   ]
  },
  {
   "cell_type": "raw",
   "id": "2fac87e3",
   "metadata": {},
   "source": [
    "5. What all inferences can be drawn from the table shown below:\n",
    "    \n",
    "a. The range of the “YearsExperience” and “Salary” data is (9.4 , 84660 )\n",
    "b. The range of the “YearsExperience” and “Salary” data is (4.7 , 65237 )\n",
    "c. The range of the “YearsExperience” and “Salary” data is (10.5, 122391)\n",
    "d. The range of the “YearsExperience” and “Salary” data is (7.7 ,100544)\n",
    "\n",
    "#Ans: c. The range of the “YearsExperience” and “Salary” data is (10.5, 122391)\n"
   ]
  },
  {
   "cell_type": "code",
   "execution_count": 32,
   "id": "a3e1fc7e",
   "metadata": {},
   "outputs": [
    {
     "data": {
      "text/html": [
       "<div>\n",
       "<style scoped>\n",
       "    .dataframe tbody tr th:only-of-type {\n",
       "        vertical-align: middle;\n",
       "    }\n",
       "\n",
       "    .dataframe tbody tr th {\n",
       "        vertical-align: top;\n",
       "    }\n",
       "\n",
       "    .dataframe thead th {\n",
       "        text-align: right;\n",
       "    }\n",
       "</style>\n",
       "<table border=\"1\" class=\"dataframe\">\n",
       "  <thead>\n",
       "    <tr style=\"text-align: right;\">\n",
       "      <th></th>\n",
       "      <th>YearsExperience</th>\n",
       "      <th>Salary</th>\n",
       "    </tr>\n",
       "  </thead>\n",
       "  <tbody>\n",
       "    <tr>\n",
       "      <th>count</th>\n",
       "      <td>30.000000</td>\n",
       "      <td>30.000000</td>\n",
       "    </tr>\n",
       "    <tr>\n",
       "      <th>mean</th>\n",
       "      <td>5.313333</td>\n",
       "      <td>76003.000000</td>\n",
       "    </tr>\n",
       "    <tr>\n",
       "      <th>std</th>\n",
       "      <td>2.837888</td>\n",
       "      <td>27414.429785</td>\n",
       "    </tr>\n",
       "    <tr>\n",
       "      <th>min</th>\n",
       "      <td>1.100000</td>\n",
       "      <td>37731.000000</td>\n",
       "    </tr>\n",
       "    <tr>\n",
       "      <th>25%</th>\n",
       "      <td>3.200000</td>\n",
       "      <td>56720.750000</td>\n",
       "    </tr>\n",
       "    <tr>\n",
       "      <th>50%</th>\n",
       "      <td>4.700000</td>\n",
       "      <td>65237.000000</td>\n",
       "    </tr>\n",
       "    <tr>\n",
       "      <th>75%</th>\n",
       "      <td>7.700000</td>\n",
       "      <td>100544.750000</td>\n",
       "    </tr>\n",
       "    <tr>\n",
       "      <th>max</th>\n",
       "      <td>10.500000</td>\n",
       "      <td>122391.000000</td>\n",
       "    </tr>\n",
       "  </tbody>\n",
       "</table>\n",
       "</div>"
      ],
      "text/plain": [
       "       YearsExperience         Salary\n",
       "count        30.000000      30.000000\n",
       "mean          5.313333   76003.000000\n",
       "std           2.837888   27414.429785\n",
       "min           1.100000   37731.000000\n",
       "25%           3.200000   56720.750000\n",
       "50%           4.700000   65237.000000\n",
       "75%           7.700000  100544.750000\n",
       "max          10.500000  122391.000000"
      ]
     },
     "execution_count": 32,
     "metadata": {},
     "output_type": "execute_result"
    }
   ],
   "source": [
    "linear.describe()"
   ]
  },
  {
   "cell_type": "raw",
   "id": "db96d719",
   "metadata": {},
   "source": [
    "6. To split the dataset into training and testing data, if we use the following\n",
    "code. X = data['YearsExperience']\n",
    "y = data['Salary']\n",
    "X_train, X_test, y_train, y_test = train_test_split(X, y, test_size=0.2,\n",
    "random_state=0) What does it mean when we write the test size as 0.2?\n",
    "a. The testing data will be 2% accurate.\n",
    "b. The testing data will have 80% samples from the total population.\n",
    "c. The testing data will have 2% samples from the total population.\n",
    "d. The training data will consist of 80% of the samples from the total population.\n",
    "\n",
    "#Ans: d. The training data will consist of 80% of the samples from the total population."
   ]
  },
  {
   "cell_type": "raw",
   "id": "052c1dc4",
   "metadata": {},
   "source": [
    "7. In the above example code, we have taken the random state as 0, if we change the\n",
    "random state as 42, what does it mean for our training and testing data?\n",
    "a. The shape of the training data will become (42,)\n",
    "b. The shape of the training data will become (42,2)\n",
    "c. The random state does not have any effect on the shape of the data.\n",
    "d. The random state will increase the efficiency of the model by 42%.\n",
    "\n",
    "#Ans: c. The random state does not have any effect on the shape of the data.\n"
   ]
  },
  {
   "cell_type": "raw",
   "id": "97281fb7",
   "metadata": {},
   "source": [
    "8. If the r2 score calculated in the above example is 0.98 , change the sample size of\n",
    "the training and testing set in the ratio 60:40, and build a linear regression model again.\n",
    "After plotting the best fit line on the test data, calculate the r2_score for the new model.\n",
    "a. 0.98\n",
    "b. 0.96\n",
    "c. 1.0\n",
    "d. 0.0\n",
    "\n",
    "#Ans: b. 0.96"
   ]
  },
  {
   "cell_type": "code",
   "execution_count": 33,
   "id": "3f9beafb",
   "metadata": {},
   "outputs": [
    {
     "data": {
      "text/plain": [
       "LinearRegression()"
      ]
     },
     "execution_count": 33,
     "metadata": {},
     "output_type": "execute_result"
    }
   ],
   "source": [
    "#Divide the dataset into two parts for training and testing in 60% and 40% proportion\n",
    "\n",
    "from sklearn.model_selection import train_test_split\n",
    "x_train,x_test,y_train,y_test=train_test_split(x,y,test_size=0.40,random_state=0)\n",
    "l_model_1=LinearRegression()\n",
    "l_model_1.fit(x_train,y_train)"
   ]
  },
  {
   "cell_type": "code",
   "execution_count": 34,
   "id": "a5481ea5",
   "metadata": {},
   "outputs": [],
   "source": [
    "y_pred1=l_model_1.predict(x_test)"
   ]
  },
  {
   "cell_type": "code",
   "execution_count": 35,
   "id": "6e990e48",
   "metadata": {},
   "outputs": [
    {
     "data": {
      "text/plain": [
       "array([[ 40950.03066143],\n",
       "       [123734.76796394],\n",
       "       [ 65409.15759172],\n",
       "       [ 63527.68628939],\n",
       "       [116208.88275462],\n",
       "       [108682.9975453 ],\n",
       "       [117149.61840578],\n",
       "       [ 64468.42194055],\n",
       "       [ 76697.98540569],\n",
       "       [101157.11233598],\n",
       "       [ 54120.32977774],\n",
       "       [ 74816.51410337]])"
      ]
     },
     "execution_count": 35,
     "metadata": {},
     "output_type": "execute_result"
    }
   ],
   "source": [
    "y_pred1"
   ]
  },
  {
   "cell_type": "code",
   "execution_count": 36,
   "id": "b58f96ed",
   "metadata": {},
   "outputs": [
    {
     "data": {
      "text/plain": [
       "0.9679117063698979"
      ]
     },
     "execution_count": 36,
     "metadata": {},
     "output_type": "execute_result"
    }
   ],
   "source": [
    "r2_on_test=r2_score(y_test,y_pred1)   \n",
    "r2_on_test"
   ]
  },
  {
   "cell_type": "code",
   "execution_count": 37,
   "id": "1475df78",
   "metadata": {},
   "outputs": [
    {
     "name": "stdout",
     "output_type": "stream",
     "text": [
      "0.9782416184887599\n"
     ]
    }
   ],
   "source": [
    "print(r)"
   ]
  },
  {
   "cell_type": "raw",
   "id": "ebb13f69",
   "metadata": {},
   "source": [
    "9. If while fitting the model with training and testing data, you get the following error\n",
    "ValueError: Expected 2D array, got 1D array instead: What could be\n",
    "the issue with the data, and how can you solve it?\n",
    "a. Reshape the data to a two dimensional array\n",
    "b. Reshape the data to two arrays of 1-D each.\n",
    "c. Both A and B\n",
    "d. None of the above\n",
    "\n",
    "#Ans: a. Reshape the data to a two dimensional array\n"
   ]
  }
 ],
 "metadata": {
  "kernelspec": {
   "display_name": "Python 3 (ipykernel)",
   "language": "python",
   "name": "python3"
  },
  "language_info": {
   "codemirror_mode": {
    "name": "ipython",
    "version": 3
   },
   "file_extension": ".py",
   "mimetype": "text/x-python",
   "name": "python",
   "nbconvert_exporter": "python",
   "pygments_lexer": "ipython3",
   "version": "3.9.12"
  }
 },
 "nbformat": 4,
 "nbformat_minor": 5
}
