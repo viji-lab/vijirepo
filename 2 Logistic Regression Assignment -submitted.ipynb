{
 "cells": [
  {
   "cell_type": "raw",
   "id": "8e3c4737",
   "metadata": {},
   "source": [
    "Problem Statement:\n",
    "Census-income data plays the most important role in the democratic system of\n",
    "government, highly affecting the economic sectors. Census-related figures are used\n",
    "to allocate federal funding by the government to different states and localities.\n",
    "Census data is also used for post census residents estimates and predictions,\n",
    "economic and social science research, and many other such applications.\n",
    "Therefore, the importance of this data and its accurate predictions is very clear to us.\n",
    "The main aim is to increase awareness about how the income factor actually has an\n",
    "impact not only on the individual lives of citizens but also an effect on the nation and\n",
    "its betterment. You will have a look at the data pulled out from the 1994 Census\n",
    "bureau database, and try to find insights into how various features have an effect on\n",
    "the income of an individual.\n",
    "The data contains approximately 32,000 observations with over 15 variables.\n",
    "The strategy is to analyze the data and perform a predictive task of classification to\n",
    "predict whether an individual makes over 50K a year or less by using a logistic\n",
    "regression algorithm"
   ]
  },
  {
   "cell_type": "raw",
   "id": "e793c28a",
   "metadata": {},
   "source": [
    "Column Names                                                         Description\n",
    "\n",
    "Age                                                              Age of the individual\n",
    "Workclass                                                        department of the working individual\n",
    "fnlwgt                                                           Final weight of the individual\n",
    "education                                                        The education degree of the individual\n",
    "education-num                                                    Number of years of education\n",
    "marital-status                                                   Marital status of the individual\n",
    "occupation                                                       Occupation of the individual\n",
    "relationship                                                     Relation value\n",
    "race                                                             Ethnicity of the individual\n",
    "sex                                                              Female, Male\n",
    "capital-gain                                                     capital gain of the individual\n",
    "capital-loss                                                     capital loss of the individual\n",
    "hours-per-week                                                   number of working hours\n",
    "native-country                                                   The native country of the individual\n",
    "Annual-Income                                                    Annual income either >50K or <=50K"
   ]
  },
  {
   "cell_type": "code",
   "execution_count": 1,
   "id": "ac1b1023",
   "metadata": {},
   "outputs": [],
   "source": [
    "import numpy as np\n",
    "import pandas as pd\n",
    "import io\n",
    "import requests\n",
    "import seaborn as sns\n",
    "from matplotlib import pyplot as plt\n",
    "import pickle\n",
    "import os\n",
    "from pandas.api.types import CategoricalDtype\n",
    "from sklearn.base import BaseEstimator, TransformerMixin\n",
    "from sklearn.pipeline import Pipeline\n",
    "from sklearn.metrics import accuracy_score\n",
    "from sklearn.linear_model import LogisticRegression\n",
    "from sklearn.model_selection import GridSearchCV\n",
    "from sklearn.metrics import classification_report\n",
    "from sklearn.metrics import confusion_matrix\n",
    "from sklearn.preprocessing import StandardScaler\n",
    "from sklearn.pipeline import FeatureUnion\n",
    "from sklearn.model_selection import cross_val_score\n",
    "%matplotlib inline"
   ]
  },
  {
   "cell_type": "code",
   "execution_count": 2,
   "id": "931a5374",
   "metadata": {},
   "outputs": [],
   "source": [
    "import pandas as pd\n",
    "\n",
    "census=pd.read_csv(r\"C:\\Users\\Lenovo\\OneDrive\\Desktop\\datasets\\census-income .csv\",na_values='?')"
   ]
  },
  {
   "cell_type": "code",
   "execution_count": 3,
   "id": "3b1757ba",
   "metadata": {},
   "outputs": [
    {
     "data": {
      "text/html": [
       "<div>\n",
       "<style scoped>\n",
       "    .dataframe tbody tr th:only-of-type {\n",
       "        vertical-align: middle;\n",
       "    }\n",
       "\n",
       "    .dataframe tbody tr th {\n",
       "        vertical-align: top;\n",
       "    }\n",
       "\n",
       "    .dataframe thead th {\n",
       "        text-align: right;\n",
       "    }\n",
       "</style>\n",
       "<table border=\"1\" class=\"dataframe\">\n",
       "  <thead>\n",
       "    <tr style=\"text-align: right;\">\n",
       "      <th></th>\n",
       "      <th>age</th>\n",
       "      <th>workclass</th>\n",
       "      <th>fnlwgt</th>\n",
       "      <th>education</th>\n",
       "      <th>education-num</th>\n",
       "      <th>marital-status</th>\n",
       "      <th>occupation</th>\n",
       "      <th>relationship</th>\n",
       "      <th>race</th>\n",
       "      <th>sex</th>\n",
       "      <th>capital-gain</th>\n",
       "      <th>capital-loss</th>\n",
       "      <th>hours-per-week</th>\n",
       "      <th>native-country</th>\n",
       "      <th>annual_income</th>\n",
       "    </tr>\n",
       "  </thead>\n",
       "  <tbody>\n",
       "    <tr>\n",
       "      <th>0</th>\n",
       "      <td>39</td>\n",
       "      <td>State-gov</td>\n",
       "      <td>77516</td>\n",
       "      <td>Bachelors</td>\n",
       "      <td>13</td>\n",
       "      <td>Never-married</td>\n",
       "      <td>Adm-clerical</td>\n",
       "      <td>Not-in-family</td>\n",
       "      <td>White</td>\n",
       "      <td>Male</td>\n",
       "      <td>2174</td>\n",
       "      <td>0</td>\n",
       "      <td>40</td>\n",
       "      <td>United-States</td>\n",
       "      <td>&lt;=50K</td>\n",
       "    </tr>\n",
       "    <tr>\n",
       "      <th>1</th>\n",
       "      <td>50</td>\n",
       "      <td>Self-emp-not-inc</td>\n",
       "      <td>83311</td>\n",
       "      <td>Bachelors</td>\n",
       "      <td>13</td>\n",
       "      <td>Married-civ-spouse</td>\n",
       "      <td>Exec-managerial</td>\n",
       "      <td>Husband</td>\n",
       "      <td>White</td>\n",
       "      <td>Male</td>\n",
       "      <td>0</td>\n",
       "      <td>0</td>\n",
       "      <td>13</td>\n",
       "      <td>United-States</td>\n",
       "      <td>&lt;=50K</td>\n",
       "    </tr>\n",
       "    <tr>\n",
       "      <th>2</th>\n",
       "      <td>38</td>\n",
       "      <td>Private</td>\n",
       "      <td>215646</td>\n",
       "      <td>HS-grad</td>\n",
       "      <td>9</td>\n",
       "      <td>Divorced</td>\n",
       "      <td>Handlers-cleaners</td>\n",
       "      <td>Not-in-family</td>\n",
       "      <td>White</td>\n",
       "      <td>Male</td>\n",
       "      <td>0</td>\n",
       "      <td>0</td>\n",
       "      <td>40</td>\n",
       "      <td>United-States</td>\n",
       "      <td>&lt;=50K</td>\n",
       "    </tr>\n",
       "    <tr>\n",
       "      <th>3</th>\n",
       "      <td>53</td>\n",
       "      <td>Private</td>\n",
       "      <td>234721</td>\n",
       "      <td>11th</td>\n",
       "      <td>7</td>\n",
       "      <td>Married-civ-spouse</td>\n",
       "      <td>Handlers-cleaners</td>\n",
       "      <td>Husband</td>\n",
       "      <td>Black</td>\n",
       "      <td>Male</td>\n",
       "      <td>0</td>\n",
       "      <td>0</td>\n",
       "      <td>40</td>\n",
       "      <td>United-States</td>\n",
       "      <td>&lt;=50K</td>\n",
       "    </tr>\n",
       "    <tr>\n",
       "      <th>4</th>\n",
       "      <td>28</td>\n",
       "      <td>Private</td>\n",
       "      <td>338409</td>\n",
       "      <td>Bachelors</td>\n",
       "      <td>13</td>\n",
       "      <td>Married-civ-spouse</td>\n",
       "      <td>Prof-specialty</td>\n",
       "      <td>Wife</td>\n",
       "      <td>Black</td>\n",
       "      <td>Female</td>\n",
       "      <td>0</td>\n",
       "      <td>0</td>\n",
       "      <td>40</td>\n",
       "      <td>Cuba</td>\n",
       "      <td>&lt;=50K</td>\n",
       "    </tr>\n",
       "    <tr>\n",
       "      <th>...</th>\n",
       "      <td>...</td>\n",
       "      <td>...</td>\n",
       "      <td>...</td>\n",
       "      <td>...</td>\n",
       "      <td>...</td>\n",
       "      <td>...</td>\n",
       "      <td>...</td>\n",
       "      <td>...</td>\n",
       "      <td>...</td>\n",
       "      <td>...</td>\n",
       "      <td>...</td>\n",
       "      <td>...</td>\n",
       "      <td>...</td>\n",
       "      <td>...</td>\n",
       "      <td>...</td>\n",
       "    </tr>\n",
       "    <tr>\n",
       "      <th>32556</th>\n",
       "      <td>27</td>\n",
       "      <td>Private</td>\n",
       "      <td>257302</td>\n",
       "      <td>Assoc-acdm</td>\n",
       "      <td>12</td>\n",
       "      <td>Married-civ-spouse</td>\n",
       "      <td>Tech-support</td>\n",
       "      <td>Wife</td>\n",
       "      <td>White</td>\n",
       "      <td>Female</td>\n",
       "      <td>0</td>\n",
       "      <td>0</td>\n",
       "      <td>38</td>\n",
       "      <td>United-States</td>\n",
       "      <td>&lt;=50K</td>\n",
       "    </tr>\n",
       "    <tr>\n",
       "      <th>32557</th>\n",
       "      <td>40</td>\n",
       "      <td>Private</td>\n",
       "      <td>154374</td>\n",
       "      <td>HS-grad</td>\n",
       "      <td>9</td>\n",
       "      <td>Married-civ-spouse</td>\n",
       "      <td>Machine-op-inspct</td>\n",
       "      <td>Husband</td>\n",
       "      <td>White</td>\n",
       "      <td>Male</td>\n",
       "      <td>0</td>\n",
       "      <td>0</td>\n",
       "      <td>40</td>\n",
       "      <td>United-States</td>\n",
       "      <td>&gt;50K</td>\n",
       "    </tr>\n",
       "    <tr>\n",
       "      <th>32558</th>\n",
       "      <td>58</td>\n",
       "      <td>Private</td>\n",
       "      <td>151910</td>\n",
       "      <td>HS-grad</td>\n",
       "      <td>9</td>\n",
       "      <td>Widowed</td>\n",
       "      <td>Adm-clerical</td>\n",
       "      <td>Unmarried</td>\n",
       "      <td>White</td>\n",
       "      <td>Female</td>\n",
       "      <td>0</td>\n",
       "      <td>0</td>\n",
       "      <td>40</td>\n",
       "      <td>United-States</td>\n",
       "      <td>&lt;=50K</td>\n",
       "    </tr>\n",
       "    <tr>\n",
       "      <th>32559</th>\n",
       "      <td>22</td>\n",
       "      <td>Private</td>\n",
       "      <td>201490</td>\n",
       "      <td>HS-grad</td>\n",
       "      <td>9</td>\n",
       "      <td>Never-married</td>\n",
       "      <td>Adm-clerical</td>\n",
       "      <td>Own-child</td>\n",
       "      <td>White</td>\n",
       "      <td>Male</td>\n",
       "      <td>0</td>\n",
       "      <td>0</td>\n",
       "      <td>20</td>\n",
       "      <td>United-States</td>\n",
       "      <td>&lt;=50K</td>\n",
       "    </tr>\n",
       "    <tr>\n",
       "      <th>32560</th>\n",
       "      <td>52</td>\n",
       "      <td>Self-emp-inc</td>\n",
       "      <td>287927</td>\n",
       "      <td>HS-grad</td>\n",
       "      <td>9</td>\n",
       "      <td>Married-civ-spouse</td>\n",
       "      <td>Exec-managerial</td>\n",
       "      <td>Wife</td>\n",
       "      <td>White</td>\n",
       "      <td>Female</td>\n",
       "      <td>15024</td>\n",
       "      <td>0</td>\n",
       "      <td>40</td>\n",
       "      <td>United-States</td>\n",
       "      <td>&gt;50K</td>\n",
       "    </tr>\n",
       "  </tbody>\n",
       "</table>\n",
       "<p>32561 rows × 15 columns</p>\n",
       "</div>"
      ],
      "text/plain": [
       "       age         workclass  fnlwgt   education  education-num  \\\n",
       "0       39         State-gov   77516   Bachelors             13   \n",
       "1       50  Self-emp-not-inc   83311   Bachelors             13   \n",
       "2       38           Private  215646     HS-grad              9   \n",
       "3       53           Private  234721        11th              7   \n",
       "4       28           Private  338409   Bachelors             13   \n",
       "...    ...               ...     ...         ...            ...   \n",
       "32556   27           Private  257302  Assoc-acdm             12   \n",
       "32557   40           Private  154374     HS-grad              9   \n",
       "32558   58           Private  151910     HS-grad              9   \n",
       "32559   22           Private  201490     HS-grad              9   \n",
       "32560   52      Self-emp-inc  287927     HS-grad              9   \n",
       "\n",
       "           marital-status         occupation   relationship   race     sex  \\\n",
       "0           Never-married       Adm-clerical  Not-in-family  White    Male   \n",
       "1      Married-civ-spouse    Exec-managerial        Husband  White    Male   \n",
       "2                Divorced  Handlers-cleaners  Not-in-family  White    Male   \n",
       "3      Married-civ-spouse  Handlers-cleaners        Husband  Black    Male   \n",
       "4      Married-civ-spouse     Prof-specialty           Wife  Black  Female   \n",
       "...                   ...                ...            ...    ...     ...   \n",
       "32556  Married-civ-spouse       Tech-support           Wife  White  Female   \n",
       "32557  Married-civ-spouse  Machine-op-inspct        Husband  White    Male   \n",
       "32558             Widowed       Adm-clerical      Unmarried  White  Female   \n",
       "32559       Never-married       Adm-clerical      Own-child  White    Male   \n",
       "32560  Married-civ-spouse    Exec-managerial           Wife  White  Female   \n",
       "\n",
       "       capital-gain  capital-loss  hours-per-week native-country annual_income  \n",
       "0              2174             0              40  United-States         <=50K  \n",
       "1                 0             0              13  United-States         <=50K  \n",
       "2                 0             0              40  United-States         <=50K  \n",
       "3                 0             0              40  United-States         <=50K  \n",
       "4                 0             0              40           Cuba         <=50K  \n",
       "...             ...           ...             ...            ...           ...  \n",
       "32556             0             0              38  United-States         <=50K  \n",
       "32557             0             0              40  United-States          >50K  \n",
       "32558             0             0              40  United-States         <=50K  \n",
       "32559             0             0              20  United-States         <=50K  \n",
       "32560         15024             0              40  United-States          >50K  \n",
       "\n",
       "[32561 rows x 15 columns]"
      ]
     },
     "execution_count": 3,
     "metadata": {},
     "output_type": "execute_result"
    }
   ],
   "source": [
    "census"
   ]
  },
  {
   "cell_type": "code",
   "execution_count": 4,
   "id": "a6571ce1",
   "metadata": {},
   "outputs": [
    {
     "name": "stdout",
     "output_type": "stream",
     "text": [
      "<class 'pandas.core.frame.DataFrame'>\n",
      "RangeIndex: 32561 entries, 0 to 32560\n",
      "Data columns (total 15 columns):\n",
      " #   Column          Non-Null Count  Dtype \n",
      "---  ------          --------------  ----- \n",
      " 0   age             32561 non-null  int64 \n",
      " 1   workclass       30725 non-null  object\n",
      " 2   fnlwgt          32561 non-null  int64 \n",
      " 3   education       32561 non-null  object\n",
      " 4   education-num   32561 non-null  int64 \n",
      " 5   marital-status  32561 non-null  object\n",
      " 6   occupation      30718 non-null  object\n",
      " 7   relationship    32561 non-null  object\n",
      " 8   race            32561 non-null  object\n",
      " 9   sex             32561 non-null  object\n",
      " 10  capital-gain    32561 non-null  int64 \n",
      " 11  capital-loss    32561 non-null  int64 \n",
      " 12  hours-per-week  32561 non-null  int64 \n",
      " 13  native-country  31978 non-null  object\n",
      " 14  annual_income   32561 non-null  object\n",
      "dtypes: int64(6), object(9)\n",
      "memory usage: 3.7+ MB\n"
     ]
    }
   ],
   "source": [
    "census.info()"
   ]
  },
  {
   "cell_type": "markdown",
   "id": "8a92ee2c",
   "metadata": {},
   "source": [
    "Handling Numerical Columns\n",
    "We select the numerical columns using the select_dtypes function.\n"
   ]
  },
  {
   "cell_type": "code",
   "execution_count": 5,
   "id": "c91a2da0",
   "metadata": {},
   "outputs": [
    {
     "name": "stdout",
     "output_type": "stream",
     "text": [
      "Index(['age', 'fnlwgt', 'education-num', 'capital-gain', 'capital-loss',\n",
      "       'hours-per-week'],\n",
      "      dtype='object')\n"
     ]
    }
   ],
   "source": [
    "num_cols=census.select_dtypes(include=['int'])\n",
    "print(num_cols.columns)"
   ]
  },
  {
   "cell_type": "raw",
   "id": "448c5caa",
   "metadata": {},
   "source": [
    "The variables age, hours-per-week are self-explanatory.\n",
    "\n",
    "fnlwgt: sampling weight\n",
    "education-num: number of years of education in total\n",
    "capital-gain/capital-loss: income from investment sources other than salary/wages\n",
    "fnlwgt is not related to the target variable income and will be removed before building the model"
   ]
  },
  {
   "cell_type": "code",
   "execution_count": 6,
   "id": "79fccaf7",
   "metadata": {},
   "outputs": [
    {
     "data": {
      "text/plain": [
       "array([[<AxesSubplot:title={'center':'age'}>,\n",
       "        <AxesSubplot:title={'center':'fnlwgt'}>],\n",
       "       [<AxesSubplot:title={'center':'education-num'}>,\n",
       "        <AxesSubplot:title={'center':'capital-gain'}>],\n",
       "       [<AxesSubplot:title={'center':'capital-loss'}>,\n",
       "        <AxesSubplot:title={'center':'hours-per-week'}>]], dtype=object)"
      ]
     },
     "execution_count": 6,
     "metadata": {},
     "output_type": "execute_result"
    },
    {
     "data": {
      "image/png": "[encoded data removed]",
      "text/plain": [
       "<Figure size 720x720 with 6 Axes>"
      ]
     },
     "metadata": {
      "needs_background": "light"
     },
     "output_type": "display_data"
    }
   ],
   "source": [
    "num_cols.hist(figsize=(10,10))\n"
   ]
  },
  {
   "cell_type": "code",
   "execution_count": 7,
   "id": "6f410eca",
   "metadata": {},
   "outputs": [
    {
     "data": {
      "text/html": [
       "<div>\n",
       "<style scoped>\n",
       "    .dataframe tbody tr th:only-of-type {\n",
       "        vertical-align: middle;\n",
       "    }\n",
       "\n",
       "    .dataframe tbody tr th {\n",
       "        vertical-align: top;\n",
       "    }\n",
       "\n",
       "    .dataframe thead th {\n",
       "        text-align: right;\n",
       "    }\n",
       "</style>\n",
       "<table border=\"1\" class=\"dataframe\">\n",
       "  <thead>\n",
       "    <tr style=\"text-align: right;\">\n",
       "      <th></th>\n",
       "      <th>age</th>\n",
       "      <th>fnlwgt</th>\n",
       "      <th>education-num</th>\n",
       "      <th>capital-gain</th>\n",
       "      <th>capital-loss</th>\n",
       "      <th>hours-per-week</th>\n",
       "    </tr>\n",
       "  </thead>\n",
       "  <tbody>\n",
       "    <tr>\n",
       "      <th>count</th>\n",
       "      <td>32561.000000</td>\n",
       "      <td>3.256100e+04</td>\n",
       "      <td>32561.000000</td>\n",
       "      <td>32561.000000</td>\n",
       "      <td>32561.000000</td>\n",
       "      <td>32561.000000</td>\n",
       "    </tr>\n",
       "    <tr>\n",
       "      <th>mean</th>\n",
       "      <td>38.581647</td>\n",
       "      <td>1.897784e+05</td>\n",
       "      <td>10.080679</td>\n",
       "      <td>1077.648844</td>\n",
       "      <td>87.303830</td>\n",
       "      <td>40.437456</td>\n",
       "    </tr>\n",
       "    <tr>\n",
       "      <th>std</th>\n",
       "      <td>13.640433</td>\n",
       "      <td>1.055500e+05</td>\n",
       "      <td>2.572720</td>\n",
       "      <td>7385.292085</td>\n",
       "      <td>402.960219</td>\n",
       "      <td>12.347429</td>\n",
       "    </tr>\n",
       "    <tr>\n",
       "      <th>min</th>\n",
       "      <td>17.000000</td>\n",
       "      <td>1.228500e+04</td>\n",
       "      <td>1.000000</td>\n",
       "      <td>0.000000</td>\n",
       "      <td>0.000000</td>\n",
       "      <td>1.000000</td>\n",
       "    </tr>\n",
       "    <tr>\n",
       "      <th>25%</th>\n",
       "      <td>28.000000</td>\n",
       "      <td>1.178270e+05</td>\n",
       "      <td>9.000000</td>\n",
       "      <td>0.000000</td>\n",
       "      <td>0.000000</td>\n",
       "      <td>40.000000</td>\n",
       "    </tr>\n",
       "    <tr>\n",
       "      <th>50%</th>\n",
       "      <td>37.000000</td>\n",
       "      <td>1.783560e+05</td>\n",
       "      <td>10.000000</td>\n",
       "      <td>0.000000</td>\n",
       "      <td>0.000000</td>\n",
       "      <td>40.000000</td>\n",
       "    </tr>\n",
       "    <tr>\n",
       "      <th>75%</th>\n",
       "      <td>48.000000</td>\n",
       "      <td>2.370510e+05</td>\n",
       "      <td>12.000000</td>\n",
       "      <td>0.000000</td>\n",
       "      <td>0.000000</td>\n",
       "      <td>45.000000</td>\n",
       "    </tr>\n",
       "    <tr>\n",
       "      <th>max</th>\n",
       "      <td>90.000000</td>\n",
       "      <td>1.484705e+06</td>\n",
       "      <td>16.000000</td>\n",
       "      <td>99999.000000</td>\n",
       "      <td>4356.000000</td>\n",
       "      <td>99.000000</td>\n",
       "    </tr>\n",
       "  </tbody>\n",
       "</table>\n",
       "</div>"
      ],
      "text/plain": [
       "                age        fnlwgt  education-num  capital-gain  capital-loss  \\\n",
       "count  32561.000000  3.256100e+04   32561.000000  32561.000000  32561.000000   \n",
       "mean      38.581647  1.897784e+05      10.080679   1077.648844     87.303830   \n",
       "std       13.640433  1.055500e+05       2.572720   7385.292085    402.960219   \n",
       "min       17.000000  1.228500e+04       1.000000      0.000000      0.000000   \n",
       "25%       28.000000  1.178270e+05       9.000000      0.000000      0.000000   \n",
       "50%       37.000000  1.783560e+05      10.000000      0.000000      0.000000   \n",
       "75%       48.000000  2.370510e+05      12.000000      0.000000      0.000000   \n",
       "max       90.000000  1.484705e+06      16.000000  99999.000000   4356.000000   \n",
       "\n",
       "       hours-per-week  \n",
       "count    32561.000000  \n",
       "mean        40.437456  \n",
       "std         12.347429  \n",
       "min          1.000000  \n",
       "25%         40.000000  \n",
       "50%         40.000000  \n",
       "75%         45.000000  \n",
       "max         99.000000  "
      ]
     },
     "execution_count": 7,
     "metadata": {},
     "output_type": "execute_result"
    }
   ],
   "source": [
    "census.describe()"
   ]
  },
  {
   "cell_type": "raw",
   "id": "095320f1",
   "metadata": {},
   "source": [
    "Observations\n",
    "\n",
    "None of the numerical attributes have missing values\n",
    "The values are on different scales. Many machine learning models require the values to be on the same scale. We will use StandardScaler from the sklearn library to scale the features."
   ]
  },
  {
   "cell_type": "raw",
   "id": "f36d4910",
   "metadata": {},
   "source": [
    "Handling Categorical Columns\n",
    "We select the categorical columns using the select_dtypes function."
   ]
  },
  {
   "cell_type": "code",
   "execution_count": 8,
   "id": "967e8e8f",
   "metadata": {},
   "outputs": [
    {
     "name": "stdout",
     "output_type": "stream",
     "text": [
      "Index(['workclass', 'education', 'marital-status', 'occupation',\n",
      "       'relationship', 'race', 'sex', 'native-country', 'annual_income'],\n",
      "      dtype='object')\n"
     ]
    }
   ],
   "source": [
    "cat_cols = census.select_dtypes(include=['object'])\n",
    "print(cat_cols.columns)"
   ]
  },
  {
   "cell_type": "code",
   "execution_count": 9,
   "id": "ea1ec160",
   "metadata": {},
   "outputs": [
    {
     "data": {
      "text/plain": [
       "<AxesSubplot:xlabel='count', ylabel='workclass'>"
      ]
     },
     "execution_count": 9,
     "metadata": {},
     "output_type": "execute_result"
    },
    {
     "data": {
      "image/png": "[encoded data removed]",
      "text/plain": [
       "<Figure size 432x288 with 1 Axes>"
      ]
     },
     "metadata": {
      "needs_background": "light"
     },
     "output_type": "display_data"
    }
   ],
   "source": [
    "sns.countplot(y='workclass', hue='annual_income', data = cat_cols)"
   ]
  },
  {
   "cell_type": "code",
   "execution_count": 10,
   "id": "d9b5a0fa",
   "metadata": {},
   "outputs": [
    {
     "data": {
      "text/plain": [
       "<AxesSubplot:xlabel='count', ylabel='occupation'>"
      ]
     },
     "execution_count": 10,
     "metadata": {},
     "output_type": "execute_result"
    },
    {
     "data": {
      "image/png": "[encoded data removed]",
      "text/plain": [
       "<Figure size 432x288 with 1 Axes>"
      ]
     },
     "metadata": {
      "needs_background": "light"
     },
     "output_type": "display_data"
    }
   ],
   "source": [
    "sns.countplot(y='occupation', hue='annual_income', data = cat_cols)\n"
   ]
  },
  {
   "cell_type": "raw",
   "id": "a6d9370a",
   "metadata": {},
   "source": [
    "Observations\n",
    "\n",
    "The column education is just a string representation of the column education-num. We will drop the education column.\n",
    "The variables workclass, occupation, native-country have missing values. We will replace the missing values in each column with the most_frequent occurring value of that column.\n",
    "We need to handle the numerical and categorical attributes differently. Numerical attributes need to be scaled, whereas for categorical columns we need to fill the missing values and then encode the categorical values into numerical values. To apply these sequence of transformations we will use the sklearn’s Pipeline class. We will also build custom transformers that can be directly used with Pipeline."
   ]
  },
  {
   "cell_type": "raw",
   "id": "a0558759",
   "metadata": {},
   "source": [
    "1. How many types of occupations do we have?\n",
    "a. 13\n",
    "b. 14\n",
    "c. 15\n",
    "d. 11\n",
    "\n",
    "\n",
    "#Ans:b.14"
   ]
  },
  {
   "cell_type": "code",
   "execution_count": 11,
   "id": "a1e66c4f",
   "metadata": {},
   "outputs": [
    {
     "data": {
      "text/plain": [
       "14"
      ]
     },
     "execution_count": 11,
     "metadata": {},
     "output_type": "execute_result"
    }
   ],
   "source": [
    "census['occupation'].nunique()"
   ]
  },
  {
   "cell_type": "raw",
   "id": "13190700",
   "metadata": {},
   "source": [
    "2. How many people are working as tech support and have an annual income\n",
    "greater than 50k?\n",
    "a. 278\n",
    "b. 389\n",
    "c. 289\n",
    "d. 934\n",
    "\n",
    "#Ans: a.278"
   ]
  },
  {
   "cell_type": "code",
   "execution_count": 12,
   "id": "261f326d",
   "metadata": {},
   "outputs": [
    {
     "data": {
      "text/plain": [
       "278"
      ]
     },
     "execution_count": 12,
     "metadata": {},
     "output_type": "execute_result"
    }
   ],
   "source": [
    "census.loc[(census.occupation=='Tech-support')&(census.annual_income== '>50K')].value_counts().count()"
   ]
  },
  {
   "cell_type": "raw",
   "id": "9c44a7df",
   "metadata": {},
   "source": [
    "3. How many total missing values are present in the dataset?\n",
    "a. 4262\n",
    "b. 5000\n",
    "c. 5349\n",
    "d. 4302\n",
    "\n",
    "#Ans:a.4262"
   ]
  },
  {
   "cell_type": "code",
   "execution_count": 13,
   "id": "8352e0fa",
   "metadata": {},
   "outputs": [
    {
     "data": {
      "text/plain": [
       "4262"
      ]
     },
     "execution_count": 13,
     "metadata": {},
     "output_type": "execute_result"
    }
   ],
   "source": [
    "census.isnull().sum().sum()"
   ]
  },
  {
   "cell_type": "raw",
   "id": "36608354",
   "metadata": {},
   "source": [
    "4. If there are missing values in the Marital Status column, which option among\n",
    "the following should be used for replacing the missing values:\n",
    "a. Mean\n",
    "b. Median\n",
    "c. Mode\n",
    "d. All of the above\n",
    "\n",
    "#Ans:c. Mode"
   ]
  },
  {
   "cell_type": "raw",
   "id": "80a19ce2",
   "metadata": {},
   "source": [
    "5. How many people are having private work classes and are not from the\n",
    "United States of America?\n",
    "a. 2151\n",
    "b. 2300\n",
    "c. 2000\n",
    "d. 2190\n",
    "\n",
    "#Ans: a.2151"
   ]
  },
  {
   "cell_type": "code",
   "execution_count": 14,
   "id": "2fe79256",
   "metadata": {},
   "outputs": [
    {
     "data": {
      "text/plain": [
       "2151"
      ]
     },
     "execution_count": 14,
     "metadata": {},
     "output_type": "execute_result"
    }
   ],
   "source": [
    "census.loc[(census['workclass']=='Private') & (census['native-country']!='United-States')].value_counts().sum()"
   ]
  },
  {
   "cell_type": "raw",
   "id": "677633eb",
   "metadata": {},
   "source": [
    "6. How many people are either having Annual Income(last column) less than or\n",
    "equal to 50k or their working hours is greater than or equal to 40 hrs:\n",
    "a. 23008\n",
    "b. 23448\n",
    "c. 29505\n",
    "d. 25903\n",
    "\n",
    "#Ans:b. 23448"
   ]
  },
  {
   "cell_type": "code",
   "execution_count": 15,
   "id": "e60bdc3a",
   "metadata": {},
   "outputs": [
    {
     "data": {
      "text/plain": [
       "29505"
      ]
     },
     "execution_count": 15,
     "metadata": {},
     "output_type": "execute_result"
    }
   ],
   "source": [
    "census.loc[(census['annual_income']=='<=50K' ) | (census['hours-per-week']>=40)].value_counts().sum()"
   ]
  },
  {
   "cell_type": "raw",
   "id": "3a3645ab",
   "metadata": {},
   "source": [
    "7. Which of the following methods can you use for handling outliers?\n",
    "a. Interquartile Range(IQR) Method\n",
    "b. Z Score method\n",
    "c. Both of the above methods\n",
    "d. None of the above\n",
    "\n",
    "\n",
    "#Ans: c. Both of the above methods"
   ]
  },
  {
   "cell_type": "raw",
   "id": "3b8191ba",
   "metadata": {},
   "source": [
    "8. Chi-square is used to analyze:\n",
    "a. Determine the relationship b/w the variables\n",
    "b. Compare observed results with expected results\n",
    "c. both a and b\n",
    "d. None of the above\n",
    "\n",
    "#Ans:c. both a and b"
   ]
  },
  {
   "cell_type": "raw",
   "id": "660701de",
   "metadata": {},
   "source": [
    "9. What is VIF?\n",
    "a. It can detect multicollinearity\n",
    "b. If the VIF value is greater than 10, then there is no correlation between\n",
    "the independent variables\n",
    "c. It stands for Variance Impact Factor\n",
    "d. VIF is when there is no correlation between one predictor and the other\n",
    "predictors in a model.\n",
    "\n",
    "#Ans:a. It can detect multicollinearity"
   ]
  },
  {
   "cell_type": "raw",
   "id": "0866d848",
   "metadata": {},
   "source": [
    "10.What predict_proba will tell you?\n",
    "a. It will predict the class probabilities\n",
    "b. It will tell you the target value\n",
    "c. Both are correct\n",
    "d. None of the above\n",
    "\n",
    "#Ans: a. It will predict the class probabilities"
   ]
  },
  {
   "cell_type": "raw",
   "id": "e77ef0b6",
   "metadata": {},
   "source": [
    "11.Logistic regression is useful for regression problems:\n",
    "a. True\n",
    "b. False\n",
    "\n",
    "Ans:b. False"
   ]
  },
  {
   "cell_type": "raw",
   "id": "1fc478b0",
   "metadata": {},
   "source": [
    "12.In logistic regression, if the predicted logit is 0, what’s the\n",
    "transformed probability?\n",
    "a. 0.5\n",
    "b. 0.05\n",
    "c. Both of the above\n",
    "d. None of the above\n",
    "\n",
    "#Ans:a. 0.5"
   ]
  },
  {
   "cell_type": "raw",
   "id": "4b1954f2",
   "metadata": {},
   "source": [
    "13.Which variant of logistic regression is recommended when you have a categorical dependent variable with more than two values?\n",
    "a. Multiple Logistic regression\n",
    "b. Multinomial logistic regression\n",
    "c. Ordered logit regression\n",
    "d. Poisson regression\n",
    "\n",
    "#Ans:b. Multinomial logistic regression"
   ]
  },
  {
   "cell_type": "raw",
   "id": "8a2eb599",
   "metadata": {},
   "source": [
    "Perform the following tasks for answering the remaining questions\n",
    "● Rename the last column as Annual Income\n",
    "● Remove the missing values from the dataset\n",
    "● Change the labels of categorical data into numerical data using Label\n",
    "Encoder.\n",
    "● Split the dataset into a train and test of proportions 70:30 and set the random\n",
    "state to 0.\n",
    "● Build a Logistic Regression Model on the data.\n"
   ]
  },
  {
   "cell_type": "code",
   "execution_count": 16,
   "id": "98e38722",
   "metadata": {},
   "outputs": [
    {
     "data": {
      "text/html": [
       "<div>\n",
       "<style scoped>\n",
       "    .dataframe tbody tr th:only-of-type {\n",
       "        vertical-align: middle;\n",
       "    }\n",
       "\n",
       "    .dataframe tbody tr th {\n",
       "        vertical-align: top;\n",
       "    }\n",
       "\n",
       "    .dataframe thead th {\n",
       "        text-align: right;\n",
       "    }\n",
       "</style>\n",
       "<table border=\"1\" class=\"dataframe\">\n",
       "  <thead>\n",
       "    <tr style=\"text-align: right;\">\n",
       "      <th></th>\n",
       "      <th>age</th>\n",
       "      <th>workclass</th>\n",
       "      <th>fnlwgt</th>\n",
       "      <th>education</th>\n",
       "      <th>education-num</th>\n",
       "      <th>marital-status</th>\n",
       "      <th>occupation</th>\n",
       "      <th>relationship</th>\n",
       "      <th>race</th>\n",
       "      <th>sex</th>\n",
       "      <th>capital-gain</th>\n",
       "      <th>capital-loss</th>\n",
       "      <th>hours-per-week</th>\n",
       "      <th>native-country</th>\n",
       "      <th>Annual_Income</th>\n",
       "    </tr>\n",
       "  </thead>\n",
       "  <tbody>\n",
       "    <tr>\n",
       "      <th>0</th>\n",
       "      <td>39</td>\n",
       "      <td>State-gov</td>\n",
       "      <td>77516</td>\n",
       "      <td>Bachelors</td>\n",
       "      <td>13</td>\n",
       "      <td>Never-married</td>\n",
       "      <td>Adm-clerical</td>\n",
       "      <td>Not-in-family</td>\n",
       "      <td>White</td>\n",
       "      <td>Male</td>\n",
       "      <td>2174</td>\n",
       "      <td>0</td>\n",
       "      <td>40</td>\n",
       "      <td>United-States</td>\n",
       "      <td>&lt;=50K</td>\n",
       "    </tr>\n",
       "  </tbody>\n",
       "</table>\n",
       "</div>"
      ],
      "text/plain": [
       "   age  workclass  fnlwgt  education  education-num marital-status  \\\n",
       "0   39  State-gov   77516  Bachelors             13  Never-married   \n",
       "\n",
       "     occupation   relationship   race   sex  capital-gain  capital-loss  \\\n",
       "0  Adm-clerical  Not-in-family  White  Male          2174             0   \n",
       "\n",
       "   hours-per-week native-country Annual_Income  \n",
       "0              40  United-States         <=50K  "
      ]
     },
     "execution_count": 16,
     "metadata": {},
     "output_type": "execute_result"
    }
   ],
   "source": [
    "#● Rename the last column as Annual Income\n",
    "\n",
    "census=census.rename(columns={'annual_income':'Annual_Income'},inplace=False)\n",
    "census.head(1)"
   ]
  },
  {
   "cell_type": "code",
   "execution_count": 17,
   "id": "238e4406",
   "metadata": {},
   "outputs": [
    {
     "data": {
      "text/plain": [
       "Index(['workclass', 'occupation', 'native-country'], dtype='object')"
      ]
     },
     "execution_count": 17,
     "metadata": {},
     "output_type": "execute_result"
    }
   ],
   "source": [
    "census.loc[:,census.isnull().any()].columns"
   ]
  },
  {
   "cell_type": "code",
   "execution_count": 18,
   "id": "10a3115d",
   "metadata": {},
   "outputs": [
    {
     "data": {
      "text/plain": [
       "4262"
      ]
     },
     "execution_count": 18,
     "metadata": {},
     "output_type": "execute_result"
    }
   ],
   "source": [
    "census.isnull().sum().sum()"
   ]
  },
  {
   "cell_type": "code",
   "execution_count": 19,
   "id": "cd4adc6a",
   "metadata": {},
   "outputs": [],
   "source": [
    "#● Remove the missing values from the dataset"
   ]
  },
  {
   "cell_type": "code",
   "execution_count": 20,
   "id": "bf177791",
   "metadata": {},
   "outputs": [],
   "source": [
    "census.dropna(inplace=True)"
   ]
  },
  {
   "cell_type": "code",
   "execution_count": 21,
   "id": "f9cb05b6",
   "metadata": {},
   "outputs": [
    {
     "data": {
      "text/plain": [
       "Index([], dtype='object')"
      ]
     },
     "execution_count": 21,
     "metadata": {},
     "output_type": "execute_result"
    }
   ],
   "source": [
    "census.loc[:,census.isnull().any()].columns"
   ]
  },
  {
   "cell_type": "code",
   "execution_count": 22,
   "id": "3c13fae2",
   "metadata": {},
   "outputs": [
    {
     "name": "stdout",
     "output_type": "stream",
     "text": [
      "<class 'pandas.core.frame.DataFrame'>\n",
      "Int64Index: 30162 entries, 0 to 32560\n",
      "Data columns (total 15 columns):\n",
      " #   Column          Non-Null Count  Dtype \n",
      "---  ------          --------------  ----- \n",
      " 0   age             30162 non-null  int64 \n",
      " 1   workclass       30162 non-null  object\n",
      " 2   fnlwgt          30162 non-null  int64 \n",
      " 3   education       30162 non-null  object\n",
      " 4   education-num   30162 non-null  int64 \n",
      " 5   marital-status  30162 non-null  object\n",
      " 6   occupation      30162 non-null  object\n",
      " 7   relationship    30162 non-null  object\n",
      " 8   race            30162 non-null  object\n",
      " 9   sex             30162 non-null  object\n",
      " 10  capital-gain    30162 non-null  int64 \n",
      " 11  capital-loss    30162 non-null  int64 \n",
      " 12  hours-per-week  30162 non-null  int64 \n",
      " 13  native-country  30162 non-null  object\n",
      " 14  Annual_Income   30162 non-null  object\n",
      "dtypes: int64(6), object(9)\n",
      "memory usage: 3.7+ MB\n"
     ]
    }
   ],
   "source": [
    "census.info()"
   ]
  },
  {
   "cell_type": "code",
   "execution_count": 23,
   "id": "dc0793f5",
   "metadata": {},
   "outputs": [
    {
     "data": {
      "text/plain": [
       "0"
      ]
     },
     "execution_count": 23,
     "metadata": {},
     "output_type": "execute_result"
    }
   ],
   "source": [
    "census.isnull().sum().sum()"
   ]
  },
  {
   "cell_type": "code",
   "execution_count": 24,
   "id": "1d334374",
   "metadata": {},
   "outputs": [
    {
     "data": {
      "text/plain": [
       "<=50K    22654\n",
       ">50K      7508\n",
       "Name: Annual_Income, dtype: int64"
      ]
     },
     "execution_count": 24,
     "metadata": {},
     "output_type": "execute_result"
    }
   ],
   "source": [
    "census[\"Annual_Income\"].value_counts()"
   ]
  },
  {
   "cell_type": "code",
   "execution_count": 25,
   "id": "557d77a1",
   "metadata": {},
   "outputs": [],
   "source": [
    "col_list = list(census.columns)"
   ]
  },
  {
   "cell_type": "code",
   "execution_count": 26,
   "id": "0f8a4fb9",
   "metadata": {},
   "outputs": [],
   "source": [
    "col_list.remove('Annual_Income')"
   ]
  },
  {
   "cell_type": "code",
   "execution_count": 27,
   "id": "b8ffedeb",
   "metadata": {},
   "outputs": [
    {
     "data": {
      "text/plain": [
       "['age',\n",
       " 'workclass',\n",
       " 'fnlwgt',\n",
       " 'education',\n",
       " 'education-num',\n",
       " 'marital-status',\n",
       " 'occupation',\n",
       " 'relationship',\n",
       " 'race',\n",
       " 'sex',\n",
       " 'capital-gain',\n",
       " 'capital-loss',\n",
       " 'hours-per-week',\n",
       " 'native-country']"
      ]
     },
     "execution_count": 27,
     "metadata": {},
     "output_type": "execute_result"
    }
   ],
   "source": [
    "col_list"
   ]
  },
  {
   "cell_type": "code",
   "execution_count": 28,
   "id": "8be8a802",
   "metadata": {},
   "outputs": [
    {
     "data": {
      "image/png": "[encoded data removed]",
      "text/plain": [
       "<Figure size 432x288 with 1 Axes>"
      ]
     },
     "metadata": {
      "needs_background": "light"
     },
     "output_type": "display_data"
    },
    {
     "data": {
      "image/png": "[encoded data removed]",
      "text/plain": [
       "<Figure size 432x288 with 1 Axes>"
      ]
     },
     "metadata": {
      "needs_background": "light"
     },
     "output_type": "display_data"
    },
    {
     "data": {
      "image/png": "[encoded data removed]",
      "text/plain": [
       "<Figure size 432x288 with 1 Axes>"
      ]
     },
     "metadata": {
      "needs_background": "light"
     },
     "output_type": "display_data"
    },
    {
     "data": {
      "image/png": "[encoded data removed]",
      "text/plain": [
       "<Figure size 432x288 with 1 Axes>"
      ]
     },
     "metadata": {
      "needs_background": "light"
     },
     "output_type": "display_data"
    },
    {
     "data": {
      "image/png": "[encoded data removed]",
      "text/plain": [
       "<Figure size 432x288 with 1 Axes>"
      ]
     },
     "metadata": {
      "needs_background": "light"
     },
     "output_type": "display_data"
    },
    {
     "data": {
      "image/png": "[encoded data removed]",
      "text/plain": [
       "<Figure size 432x288 with 1 Axes>"
      ]
     },
     "metadata": {
      "needs_background": "light"
     },
     "output_type": "display_data"
    }
   ],
   "source": [
    "#Outlier detection\n",
    "  #boxplot\n",
    "for i in col_list:\n",
    "    if(census[i].dtype =='int64' or census[i].dtype == 'float64'):\n",
    "        plt.boxplot(census[i],showmeans = True)\n",
    "        plt.xlabel(i)\n",
    "        plt.ylabel('count')\n",
    "        plt.show()"
   ]
  },
  {
   "cell_type": "code",
   "execution_count": 29,
   "id": "1f1b9f51",
   "metadata": {},
   "outputs": [
    {
     "data": {
      "image/png": "[encoded data removed]",
      "text/plain": [
       "<Figure size 432x288 with 1 Axes>"
      ]
     },
     "metadata": {
      "needs_background": "light"
     },
     "output_type": "display_data"
    },
    {
     "data": {
      "image/png": "[encoded data removed]",
      "text/plain": [
       "<Figure size 432x288 with 1 Axes>"
      ]
     },
     "metadata": {
      "needs_background": "light"
     },
     "output_type": "display_data"
    },
    {
     "data": {
      "image/png": "[encoded data removed]",
      "text/plain": [
       "<Figure size 432x288 with 1 Axes>"
      ]
     },
     "metadata": {
      "needs_background": "light"
     },
     "output_type": "display_data"
    },
    {
     "data": {
      "image/png": "[encoded data removed]",
      "text/plain": [
       "<Figure size 432x288 with 1 Axes>"
      ]
     },
     "metadata": {
      "needs_background": "light"
     },
     "output_type": "display_data"
    },
    {
     "data": {
      "image/png": "[encoded data removed]",
      "text/plain": [
       "<Figure size 432x288 with 1 Axes>"
      ]
     },
     "metadata": {
      "needs_background": "light"
     },
     "output_type": "display_data"
    },
    {
     "data": {
      "image/png": "[encoded data removed]",
      "text/plain": [
       "<Figure size 432x288 with 1 Axes>"
      ]
     },
     "metadata": {
      "needs_background": "light"
     },
     "output_type": "display_data"
    }
   ],
   "source": [
    "#checking the distribution of data\n",
    "for i in col_list:\n",
    "  if(census[i].dtypes == 'int64' or census[i].dtypes == 'float64'):\n",
    "    plt.hist(census[i])\n",
    "    plt.xlabel(i)\n",
    "    plt.ylabel('count')\n",
    "    plt.show()"
   ]
  },
  {
   "cell_type": "code",
   "execution_count": 30,
   "id": "2353daf3",
   "metadata": {},
   "outputs": [
    {
     "data": {
      "text/plain": [
       "age                int64\n",
       "workclass         object\n",
       "fnlwgt             int64\n",
       "education         object\n",
       "education-num      int64\n",
       "marital-status    object\n",
       "occupation        object\n",
       "relationship      object\n",
       "race              object\n",
       "sex               object\n",
       "capital-gain       int64\n",
       "capital-loss       int64\n",
       "hours-per-week     int64\n",
       "native-country    object\n",
       "Annual_Income     object\n",
       "dtype: object"
      ]
     },
     "execution_count": 30,
     "metadata": {},
     "output_type": "execute_result"
    }
   ],
   "source": [
    "census.dtypes\n"
   ]
  },
  {
   "cell_type": "code",
   "execution_count": 31,
   "id": "b2d71cf6",
   "metadata": {},
   "outputs": [],
   "source": [
    "census[\"Annual_Income\"]=census[\"Annual_Income\"].map({\"<=50K\":0,\">50K\":1})"
   ]
  },
  {
   "cell_type": "code",
   "execution_count": 32,
   "id": "1415319b",
   "metadata": {},
   "outputs": [
    {
     "data": {
      "text/plain": [
       "age                int64\n",
       "workclass         object\n",
       "fnlwgt             int64\n",
       "education         object\n",
       "education-num      int64\n",
       "marital-status    object\n",
       "occupation        object\n",
       "relationship      object\n",
       "race              object\n",
       "sex               object\n",
       "capital-gain       int64\n",
       "capital-loss       int64\n",
       "hours-per-week     int64\n",
       "native-country    object\n",
       "Annual_Income      int64\n",
       "dtype: object"
      ]
     },
     "execution_count": 32,
     "metadata": {},
     "output_type": "execute_result"
    }
   ],
   "source": [
    "census.dtypes"
   ]
  },
  {
   "cell_type": "code",
   "execution_count": 33,
   "id": "7631d006",
   "metadata": {},
   "outputs": [],
   "source": [
    "#● Change the labels of categorical data into numerical data using LabelEncoder."
   ]
  },
  {
   "cell_type": "code",
   "execution_count": 34,
   "id": "39673190",
   "metadata": {},
   "outputs": [],
   "source": [
    "#● Change the labels of categorical data into numerical data using LabelEncoder.\n",
    "\n",
    "from sklearn import preprocessing\n",
    "\n",
    "categorical=['workclass','education','marital-status','occupation','relationship','race','sex','native-country']\n",
    "for feature in categorical:\n",
    "    le=preprocessing.LabelEncoder()\n",
    "    for i in col_list:\n",
    "        census[i]=le.fit_transform(census[i])\n",
    "    "
   ]
  },
  {
   "cell_type": "code",
   "execution_count": 35,
   "id": "aa52f33b",
   "metadata": {},
   "outputs": [
    {
     "data": {
      "text/plain": [
       "age               int64\n",
       "workclass         int64\n",
       "fnlwgt            int64\n",
       "education         int64\n",
       "education-num     int64\n",
       "marital-status    int64\n",
       "occupation        int64\n",
       "relationship      int64\n",
       "race              int64\n",
       "sex               int64\n",
       "capital-gain      int64\n",
       "capital-loss      int64\n",
       "hours-per-week    int64\n",
       "native-country    int64\n",
       "Annual_Income     int64\n",
       "dtype: object"
      ]
     },
     "execution_count": 35,
     "metadata": {},
     "output_type": "execute_result"
    }
   ],
   "source": [
    "census.dtypes"
   ]
  },
  {
   "cell_type": "code",
   "execution_count": 36,
   "id": "60eb113d",
   "metadata": {},
   "outputs": [
    {
     "data": {
      "text/html": [
       "<div>\n",
       "<style scoped>\n",
       "    .dataframe tbody tr th:only-of-type {\n",
       "        vertical-align: middle;\n",
       "    }\n",
       "\n",
       "    .dataframe tbody tr th {\n",
       "        vertical-align: top;\n",
       "    }\n",
       "\n",
       "    .dataframe thead th {\n",
       "        text-align: right;\n",
       "    }\n",
       "</style>\n",
       "<table border=\"1\" class=\"dataframe\">\n",
       "  <thead>\n",
       "    <tr style=\"text-align: right;\">\n",
       "      <th></th>\n",
       "      <th>age</th>\n",
       "      <th>workclass</th>\n",
       "      <th>fnlwgt</th>\n",
       "      <th>education</th>\n",
       "      <th>education-num</th>\n",
       "      <th>marital-status</th>\n",
       "      <th>occupation</th>\n",
       "      <th>relationship</th>\n",
       "      <th>race</th>\n",
       "      <th>sex</th>\n",
       "      <th>capital-gain</th>\n",
       "      <th>capital-loss</th>\n",
       "      <th>hours-per-week</th>\n",
       "      <th>native-country</th>\n",
       "      <th>Annual_Income</th>\n",
       "    </tr>\n",
       "  </thead>\n",
       "  <tbody>\n",
       "    <tr>\n",
       "      <th>0</th>\n",
       "      <td>22</td>\n",
       "      <td>5</td>\n",
       "      <td>2491</td>\n",
       "      <td>9</td>\n",
       "      <td>12</td>\n",
       "      <td>4</td>\n",
       "      <td>0</td>\n",
       "      <td>1</td>\n",
       "      <td>4</td>\n",
       "      <td>1</td>\n",
       "      <td>24</td>\n",
       "      <td>0</td>\n",
       "      <td>39</td>\n",
       "      <td>38</td>\n",
       "      <td>0</td>\n",
       "    </tr>\n",
       "    <tr>\n",
       "      <th>1</th>\n",
       "      <td>33</td>\n",
       "      <td>4</td>\n",
       "      <td>2727</td>\n",
       "      <td>9</td>\n",
       "      <td>12</td>\n",
       "      <td>2</td>\n",
       "      <td>3</td>\n",
       "      <td>0</td>\n",
       "      <td>4</td>\n",
       "      <td>1</td>\n",
       "      <td>0</td>\n",
       "      <td>0</td>\n",
       "      <td>12</td>\n",
       "      <td>38</td>\n",
       "      <td>0</td>\n",
       "    </tr>\n",
       "    <tr>\n",
       "      <th>2</th>\n",
       "      <td>21</td>\n",
       "      <td>2</td>\n",
       "      <td>13188</td>\n",
       "      <td>11</td>\n",
       "      <td>8</td>\n",
       "      <td>0</td>\n",
       "      <td>5</td>\n",
       "      <td>1</td>\n",
       "      <td>4</td>\n",
       "      <td>1</td>\n",
       "      <td>0</td>\n",
       "      <td>0</td>\n",
       "      <td>39</td>\n",
       "      <td>38</td>\n",
       "      <td>0</td>\n",
       "    </tr>\n",
       "    <tr>\n",
       "      <th>3</th>\n",
       "      <td>36</td>\n",
       "      <td>2</td>\n",
       "      <td>14354</td>\n",
       "      <td>1</td>\n",
       "      <td>6</td>\n",
       "      <td>2</td>\n",
       "      <td>5</td>\n",
       "      <td>0</td>\n",
       "      <td>2</td>\n",
       "      <td>1</td>\n",
       "      <td>0</td>\n",
       "      <td>0</td>\n",
       "      <td>39</td>\n",
       "      <td>38</td>\n",
       "      <td>0</td>\n",
       "    </tr>\n",
       "    <tr>\n",
       "      <th>4</th>\n",
       "      <td>11</td>\n",
       "      <td>2</td>\n",
       "      <td>18120</td>\n",
       "      <td>9</td>\n",
       "      <td>12</td>\n",
       "      <td>2</td>\n",
       "      <td>9</td>\n",
       "      <td>5</td>\n",
       "      <td>2</td>\n",
       "      <td>0</td>\n",
       "      <td>0</td>\n",
       "      <td>0</td>\n",
       "      <td>39</td>\n",
       "      <td>4</td>\n",
       "      <td>0</td>\n",
       "    </tr>\n",
       "  </tbody>\n",
       "</table>\n",
       "</div>"
      ],
      "text/plain": [
       "   age  workclass  fnlwgt  education  education-num  marital-status  \\\n",
       "0   22          5    2491          9             12               4   \n",
       "1   33          4    2727          9             12               2   \n",
       "2   21          2   13188         11              8               0   \n",
       "3   36          2   14354          1              6               2   \n",
       "4   11          2   18120          9             12               2   \n",
       "\n",
       "   occupation  relationship  race  sex  capital-gain  capital-loss  \\\n",
       "0           0             1     4    1            24             0   \n",
       "1           3             0     4    1             0             0   \n",
       "2           5             1     4    1             0             0   \n",
       "3           5             0     2    1             0             0   \n",
       "4           9             5     2    0             0             0   \n",
       "\n",
       "   hours-per-week  native-country  Annual_Income  \n",
       "0              39              38              0  \n",
       "1              12              38              0  \n",
       "2              39              38              0  \n",
       "3              39              38              0  \n",
       "4              39               4              0  "
      ]
     },
     "execution_count": 36,
     "metadata": {},
     "output_type": "execute_result"
    }
   ],
   "source": [
    "census.head()"
   ]
  },
  {
   "cell_type": "raw",
   "id": "e5472248",
   "metadata": {},
   "source": [
    "from statsmodels.stats.outliers_influence import variance_inflation_factor as vif"
   ]
  },
  {
   "cell_type": "raw",
   "id": "2d69c20f",
   "metadata": {},
   "source": [
    "col_list = []\n",
    "for i in census.columns:\n",
    "    if((census[i].dtype != 'object')&(i!='Annual_Income')):\n",
    "        col_list.append(i)\n",
    "\n",
    "x = census[col_list]\n",
    "vif_data = pd.DataFrame()\n",
    "vif_data['Feature'] = x.columns\n",
    "vif_data['vif'] = [vif(x.values,i) for i in range(len(x.columns))]\n",
    "vif_data"
   ]
  },
  {
   "cell_type": "raw",
   "id": "25c704b0",
   "metadata": {},
   "source": [
    "census= census.drop(['native-country'],axis= 1)"
   ]
  },
  {
   "cell_type": "raw",
   "id": "bb95dd5d",
   "metadata": {},
   "source": [
    "# col_list = []\n",
    "for i in census.columns:\n",
    "    if((census[i].dtype != 'object')&(i!='Annual_Income')):\n",
    "        col_list.append(i)\n",
    "\n",
    "x = census[col_list]\n",
    "vif_data = pd.DataFrame()\n",
    "vif_data['Feature'] = x.columns\n",
    "vif_data['vif'] = [vif(x.values,i) for i in range(len(x.columns))]\n",
    "vif_data"
   ]
  },
  {
   "cell_type": "raw",
   "id": "2abe5257",
   "metadata": {},
   "source": [
    "census = census.drop(['education-num'],axis= 1)"
   ]
  },
  {
   "cell_type": "raw",
   "id": "38704d52",
   "metadata": {},
   "source": [
    "col_list = []\n",
    "for i in census.columns:\n",
    "    if((census[i].dtype != 'object')&(i!='Annual_Income')):\n",
    "        col_list.append(i)\n",
    "\n",
    "x = census[col_list]\n",
    "vif_data = pd.DataFrame()\n",
    "vif_data['Feature'] = x.columns\n",
    "vif_data['vif'] = [vif(x.values,i) for i in range(len(x.columns))]\n",
    "vif_data"
   ]
  },
  {
   "cell_type": "raw",
   "id": "4c43336d",
   "metadata": {},
   "source": [
    "census = census.drop(['race'],axis= 1)"
   ]
  },
  {
   "cell_type": "raw",
   "id": "c7250ad3",
   "metadata": {},
   "source": [
    "col_list = []\n",
    "for i in census.columns:\n",
    "    if((census[i].dtype != 'object')&(i!='Annual_Income')):\n",
    "        col_list.append(i)\n",
    "\n",
    "x = census[col_list]\n",
    "vif_data = pd.DataFrame()\n",
    "vif_data['Feature'] = x.columns\n",
    "vif_data['vif'] = [vif(x.values,i) for i in range(len(x.columns))]\n",
    "vif_data"
   ]
  },
  {
   "cell_type": "raw",
   "id": "8541f731",
   "metadata": {},
   "source": [
    "census = census.drop(['hours-per-week'],axis= 1)"
   ]
  },
  {
   "cell_type": "raw",
   "id": "66122a0a",
   "metadata": {},
   "source": [
    "col_list = []\n",
    "for i in census.columns:\n",
    "    if((census[i].dtype != 'object')&(i!='Annual_Income')):\n",
    "        col_list.append(i)\n",
    "\n",
    "x = census[col_list]\n",
    "vif_data = pd.DataFrame()\n",
    "vif_data['Feature'] = x.columns\n",
    "vif_data['vif'] = [vif(x.values,i) for i in range(len(x.columns))]\n",
    "vif_data"
   ]
  },
  {
   "cell_type": "raw",
   "id": "b2264861",
   "metadata": {},
   "source": [
    "census = census.drop(['education'],axis= 1)"
   ]
  },
  {
   "cell_type": "raw",
   "id": "7fd6c307",
   "metadata": {},
   "source": [
    "col_list = []\n",
    "for i in census.columns:\n",
    "    if((census[i].dtype != 'object')&(i!='Annual_Income')):\n",
    "        col_list.append(i)\n",
    "\n",
    "x = census[col_list]\n",
    "vif_data = pd.DataFrame()\n",
    "vif_data['Feature'] = x.columns\n",
    "vif_data['vif'] = [vif(x.values,i) for i in range(len(x.columns))]\n",
    "vif_data"
   ]
  },
  {
   "cell_type": "raw",
   "id": "e009960f",
   "metadata": {},
   "source": [
    "X = census[vif_data.Feature]\n",
    "y = census['Annual_Income']"
   ]
  },
  {
   "cell_type": "code",
   "execution_count": 37,
   "id": "f33dd284",
   "metadata": {},
   "outputs": [],
   "source": [
    "X=census.drop(['Annual_Income'],axis=1)\n",
    "y=census['Annual_Income']"
   ]
  },
  {
   "cell_type": "code",
   "execution_count": 38,
   "id": "3d906beb",
   "metadata": {},
   "outputs": [],
   "source": [
    "#● Split the dataset into a train and test of proportions 70:30 and set the random_state to 0."
   ]
  },
  {
   "cell_type": "code",
   "execution_count": 39,
   "id": "123a9c3a",
   "metadata": {},
   "outputs": [],
   "source": [
    "from sklearn.model_selection import train_test_split\n",
    "X_train,X_test,y_train,y_test=train_test_split(X,y,test_size=0.3,random_state=0)"
   ]
  },
  {
   "cell_type": "code",
   "execution_count": 40,
   "id": "9db414f8",
   "metadata": {},
   "outputs": [
    {
     "data": {
      "text/html": [
       "<div>\n",
       "<style scoped>\n",
       "    .dataframe tbody tr th:only-of-type {\n",
       "        vertical-align: middle;\n",
       "    }\n",
       "\n",
       "    .dataframe tbody tr th {\n",
       "        vertical-align: top;\n",
       "    }\n",
       "\n",
       "    .dataframe thead th {\n",
       "        text-align: right;\n",
       "    }\n",
       "</style>\n",
       "<table border=\"1\" class=\"dataframe\">\n",
       "  <thead>\n",
       "    <tr style=\"text-align: right;\">\n",
       "      <th></th>\n",
       "      <th>age</th>\n",
       "      <th>workclass</th>\n",
       "      <th>fnlwgt</th>\n",
       "      <th>education</th>\n",
       "      <th>education-num</th>\n",
       "      <th>marital-status</th>\n",
       "      <th>occupation</th>\n",
       "      <th>relationship</th>\n",
       "      <th>race</th>\n",
       "      <th>sex</th>\n",
       "      <th>capital-gain</th>\n",
       "      <th>capital-loss</th>\n",
       "      <th>hours-per-week</th>\n",
       "      <th>native-country</th>\n",
       "    </tr>\n",
       "  </thead>\n",
       "  <tbody>\n",
       "    <tr>\n",
       "      <th>15977</th>\n",
       "      <td>27</td>\n",
       "      <td>2</td>\n",
       "      <td>13658</td>\n",
       "      <td>11</td>\n",
       "      <td>8</td>\n",
       "      <td>0</td>\n",
       "      <td>11</td>\n",
       "      <td>1</td>\n",
       "      <td>4</td>\n",
       "      <td>0</td>\n",
       "      <td>0</td>\n",
       "      <td>18</td>\n",
       "      <td>39</td>\n",
       "      <td>38</td>\n",
       "    </tr>\n",
       "    <tr>\n",
       "      <th>13574</th>\n",
       "      <td>15</td>\n",
       "      <td>2</td>\n",
       "      <td>2725</td>\n",
       "      <td>15</td>\n",
       "      <td>9</td>\n",
       "      <td>2</td>\n",
       "      <td>13</td>\n",
       "      <td>0</td>\n",
       "      <td>4</td>\n",
       "      <td>1</td>\n",
       "      <td>0</td>\n",
       "      <td>0</td>\n",
       "      <td>59</td>\n",
       "      <td>38</td>\n",
       "    </tr>\n",
       "    <tr>\n",
       "      <th>23210</th>\n",
       "      <td>13</td>\n",
       "      <td>1</td>\n",
       "      <td>17855</td>\n",
       "      <td>11</td>\n",
       "      <td>8</td>\n",
       "      <td>0</td>\n",
       "      <td>10</td>\n",
       "      <td>3</td>\n",
       "      <td>4</td>\n",
       "      <td>0</td>\n",
       "      <td>0</td>\n",
       "      <td>0</td>\n",
       "      <td>31</td>\n",
       "      <td>38</td>\n",
       "    </tr>\n",
       "    <tr>\n",
       "      <th>9284</th>\n",
       "      <td>6</td>\n",
       "      <td>2</td>\n",
       "      <td>4386</td>\n",
       "      <td>15</td>\n",
       "      <td>9</td>\n",
       "      <td>2</td>\n",
       "      <td>2</td>\n",
       "      <td>0</td>\n",
       "      <td>4</td>\n",
       "      <td>1</td>\n",
       "      <td>0</td>\n",
       "      <td>0</td>\n",
       "      <td>59</td>\n",
       "      <td>38</td>\n",
       "    </tr>\n",
       "    <tr>\n",
       "      <th>8841</th>\n",
       "      <td>37</td>\n",
       "      <td>1</td>\n",
       "      <td>12303</td>\n",
       "      <td>15</td>\n",
       "      <td>9</td>\n",
       "      <td>2</td>\n",
       "      <td>10</td>\n",
       "      <td>0</td>\n",
       "      <td>4</td>\n",
       "      <td>1</td>\n",
       "      <td>0</td>\n",
       "      <td>0</td>\n",
       "      <td>51</td>\n",
       "      <td>38</td>\n",
       "    </tr>\n",
       "    <tr>\n",
       "      <th>...</th>\n",
       "      <td>...</td>\n",
       "      <td>...</td>\n",
       "      <td>...</td>\n",
       "      <td>...</td>\n",
       "      <td>...</td>\n",
       "      <td>...</td>\n",
       "      <td>...</td>\n",
       "      <td>...</td>\n",
       "      <td>...</td>\n",
       "      <td>...</td>\n",
       "      <td>...</td>\n",
       "      <td>...</td>\n",
       "      <td>...</td>\n",
       "      <td>...</td>\n",
       "    </tr>\n",
       "    <tr>\n",
       "      <th>14169</th>\n",
       "      <td>49</td>\n",
       "      <td>1</td>\n",
       "      <td>18960</td>\n",
       "      <td>10</td>\n",
       "      <td>15</td>\n",
       "      <td>0</td>\n",
       "      <td>9</td>\n",
       "      <td>1</td>\n",
       "      <td>4</td>\n",
       "      <td>0</td>\n",
       "      <td>51</td>\n",
       "      <td>0</td>\n",
       "      <td>39</td>\n",
       "      <td>38</td>\n",
       "    </tr>\n",
       "    <tr>\n",
       "      <th>21206</th>\n",
       "      <td>33</td>\n",
       "      <td>2</td>\n",
       "      <td>7857</td>\n",
       "      <td>12</td>\n",
       "      <td>13</td>\n",
       "      <td>2</td>\n",
       "      <td>3</td>\n",
       "      <td>0</td>\n",
       "      <td>4</td>\n",
       "      <td>1</td>\n",
       "      <td>0</td>\n",
       "      <td>0</td>\n",
       "      <td>49</td>\n",
       "      <td>38</td>\n",
       "    </tr>\n",
       "    <tr>\n",
       "      <th>10646</th>\n",
       "      <td>33</td>\n",
       "      <td>2</td>\n",
       "      <td>2284</td>\n",
       "      <td>9</td>\n",
       "      <td>12</td>\n",
       "      <td>0</td>\n",
       "      <td>11</td>\n",
       "      <td>1</td>\n",
       "      <td>4</td>\n",
       "      <td>1</td>\n",
       "      <td>0</td>\n",
       "      <td>0</td>\n",
       "      <td>44</td>\n",
       "      <td>38</td>\n",
       "    </tr>\n",
       "    <tr>\n",
       "      <th>11687</th>\n",
       "      <td>32</td>\n",
       "      <td>4</td>\n",
       "      <td>15725</td>\n",
       "      <td>9</td>\n",
       "      <td>12</td>\n",
       "      <td>2</td>\n",
       "      <td>3</td>\n",
       "      <td>0</td>\n",
       "      <td>4</td>\n",
       "      <td>1</td>\n",
       "      <td>0</td>\n",
       "      <td>0</td>\n",
       "      <td>59</td>\n",
       "      <td>38</td>\n",
       "    </tr>\n",
       "    <tr>\n",
       "      <th>2976</th>\n",
       "      <td>17</td>\n",
       "      <td>2</td>\n",
       "      <td>10037</td>\n",
       "      <td>11</td>\n",
       "      <td>8</td>\n",
       "      <td>0</td>\n",
       "      <td>2</td>\n",
       "      <td>1</td>\n",
       "      <td>4</td>\n",
       "      <td>1</td>\n",
       "      <td>52</td>\n",
       "      <td>0</td>\n",
       "      <td>34</td>\n",
       "      <td>38</td>\n",
       "    </tr>\n",
       "  </tbody>\n",
       "</table>\n",
       "<p>21113 rows × 14 columns</p>\n",
       "</div>"
      ],
      "text/plain": [
       "       age  workclass  fnlwgt  education  education-num  marital-status  \\\n",
       "15977   27          2   13658         11              8               0   \n",
       "13574   15          2    2725         15              9               2   \n",
       "23210   13          1   17855         11              8               0   \n",
       "9284     6          2    4386         15              9               2   \n",
       "8841    37          1   12303         15              9               2   \n",
       "...    ...        ...     ...        ...            ...             ...   \n",
       "14169   49          1   18960         10             15               0   \n",
       "21206   33          2    7857         12             13               2   \n",
       "10646   33          2    2284          9             12               0   \n",
       "11687   32          4   15725          9             12               2   \n",
       "2976    17          2   10037         11              8               0   \n",
       "\n",
       "       occupation  relationship  race  sex  capital-gain  capital-loss  \\\n",
       "15977          11             1     4    0             0            18   \n",
       "13574          13             0     4    1             0             0   \n",
       "23210          10             3     4    0             0             0   \n",
       "9284            2             0     4    1             0             0   \n",
       "8841           10             0     4    1             0             0   \n",
       "...           ...           ...   ...  ...           ...           ...   \n",
       "14169           9             1     4    0            51             0   \n",
       "21206           3             0     4    1             0             0   \n",
       "10646          11             1     4    1             0             0   \n",
       "11687           3             0     4    1             0             0   \n",
       "2976            2             1     4    1            52             0   \n",
       "\n",
       "       hours-per-week  native-country  \n",
       "15977              39              38  \n",
       "13574              59              38  \n",
       "23210              31              38  \n",
       "9284               59              38  \n",
       "8841               51              38  \n",
       "...               ...             ...  \n",
       "14169              39              38  \n",
       "21206              49              38  \n",
       "10646              44              38  \n",
       "11687              59              38  \n",
       "2976               34              38  \n",
       "\n",
       "[21113 rows x 14 columns]"
      ]
     },
     "execution_count": 40,
     "metadata": {},
     "output_type": "execute_result"
    }
   ],
   "source": [
    "X_train"
   ]
  },
  {
   "cell_type": "code",
   "execution_count": 41,
   "id": "bdc94ede",
   "metadata": {},
   "outputs": [],
   "source": [
    "from sklearn.preprocessing import StandardScaler\n",
    "\n",
    "scaler = StandardScaler()\n",
    "X_train = pd.DataFrame(scaler.fit_transform(X_train), columns = X.columns)\n",
    "X_test = pd.DataFrame(scaler.transform(X_test), columns = X.columns)"
   ]
  },
  {
   "cell_type": "code",
   "execution_count": 42,
   "id": "2838b451",
   "metadata": {},
   "outputs": [
    {
     "data": {
      "text/html": [
       "<div>\n",
       "<style scoped>\n",
       "    .dataframe tbody tr th:only-of-type {\n",
       "        vertical-align: middle;\n",
       "    }\n",
       "\n",
       "    .dataframe tbody tr th {\n",
       "        vertical-align: top;\n",
       "    }\n",
       "\n",
       "    .dataframe thead th {\n",
       "        text-align: right;\n",
       "    }\n",
       "</style>\n",
       "<table border=\"1\" class=\"dataframe\">\n",
       "  <thead>\n",
       "    <tr style=\"text-align: right;\">\n",
       "      <th></th>\n",
       "      <th>age</th>\n",
       "      <th>workclass</th>\n",
       "      <th>fnlwgt</th>\n",
       "      <th>education</th>\n",
       "      <th>education-num</th>\n",
       "      <th>marital-status</th>\n",
       "      <th>occupation</th>\n",
       "      <th>relationship</th>\n",
       "      <th>race</th>\n",
       "      <th>sex</th>\n",
       "      <th>capital-gain</th>\n",
       "      <th>capital-loss</th>\n",
       "      <th>hours-per-week</th>\n",
       "      <th>native-country</th>\n",
       "    </tr>\n",
       "  </thead>\n",
       "  <tbody>\n",
       "    <tr>\n",
       "      <th>0</th>\n",
       "      <td>0.418210</td>\n",
       "      <td>-0.204511</td>\n",
       "      <td>0.678476</td>\n",
       "      <td>0.170452</td>\n",
       "      <td>-0.434574</td>\n",
       "      <td>-1.721729</td>\n",
       "      <td>1.251744</td>\n",
       "      <td>-0.266868</td>\n",
       "      <td>0.382579</td>\n",
       "      <td>-1.438780</td>\n",
       "      <td>-0.282504</td>\n",
       "      <td>1.582712</td>\n",
       "      <td>-0.074863</td>\n",
       "      <td>0.265946</td>\n",
       "    </tr>\n",
       "    <tr>\n",
       "      <th>1</th>\n",
       "      <td>-0.494731</td>\n",
       "      <td>-0.204511</td>\n",
       "      <td>-1.250513</td>\n",
       "      <td>1.222721</td>\n",
       "      <td>-0.042490</td>\n",
       "      <td>-0.387728</td>\n",
       "      <td>1.748265</td>\n",
       "      <td>-0.890070</td>\n",
       "      <td>0.382579</td>\n",
       "      <td>0.695033</td>\n",
       "      <td>-0.282504</td>\n",
       "      <td>-0.208140</td>\n",
       "      <td>1.637212</td>\n",
       "      <td>0.265946</td>\n",
       "    </tr>\n",
       "    <tr>\n",
       "      <th>2</th>\n",
       "      <td>-0.646888</td>\n",
       "      <td>-1.261772</td>\n",
       "      <td>1.418984</td>\n",
       "      <td>0.170452</td>\n",
       "      <td>-0.434574</td>\n",
       "      <td>-1.721729</td>\n",
       "      <td>1.003483</td>\n",
       "      <td>0.979538</td>\n",
       "      <td>0.382579</td>\n",
       "      <td>-1.438780</td>\n",
       "      <td>-0.282504</td>\n",
       "      <td>-0.208140</td>\n",
       "      <td>-0.759693</td>\n",
       "      <td>0.265946</td>\n",
       "    </tr>\n",
       "    <tr>\n",
       "      <th>3</th>\n",
       "      <td>-1.179437</td>\n",
       "      <td>-0.204511</td>\n",
       "      <td>-0.957451</td>\n",
       "      <td>1.222721</td>\n",
       "      <td>-0.042490</td>\n",
       "      <td>-0.387728</td>\n",
       "      <td>-0.982600</td>\n",
       "      <td>-0.890070</td>\n",
       "      <td>0.382579</td>\n",
       "      <td>0.695033</td>\n",
       "      <td>-0.282504</td>\n",
       "      <td>-0.208140</td>\n",
       "      <td>1.637212</td>\n",
       "      <td>0.265946</td>\n",
       "    </tr>\n",
       "    <tr>\n",
       "      <th>4</th>\n",
       "      <td>1.178994</td>\n",
       "      <td>-1.261772</td>\n",
       "      <td>0.439404</td>\n",
       "      <td>1.222721</td>\n",
       "      <td>-0.042490</td>\n",
       "      <td>-0.387728</td>\n",
       "      <td>1.003483</td>\n",
       "      <td>-0.890070</td>\n",
       "      <td>0.382579</td>\n",
       "      <td>0.695033</td>\n",
       "      <td>-0.282504</td>\n",
       "      <td>-0.208140</td>\n",
       "      <td>0.952382</td>\n",
       "      <td>0.265946</td>\n",
       "    </tr>\n",
       "  </tbody>\n",
       "</table>\n",
       "</div>"
      ],
      "text/plain": [
       "        age  workclass    fnlwgt  education  education-num  marital-status  \\\n",
       "0  0.418210  -0.204511  0.678476   0.170452      -0.434574       -1.721729   \n",
       "1 -0.494731  -0.204511 -1.250513   1.222721      -0.042490       -0.387728   \n",
       "2 -0.646888  -1.261772  1.418984   0.170452      -0.434574       -1.721729   \n",
       "3 -1.179437  -0.204511 -0.957451   1.222721      -0.042490       -0.387728   \n",
       "4  1.178994  -1.261772  0.439404   1.222721      -0.042490       -0.387728   \n",
       "\n",
       "   occupation  relationship      race       sex  capital-gain  capital-loss  \\\n",
       "0    1.251744     -0.266868  0.382579 -1.438780     -0.282504      1.582712   \n",
       "1    1.748265     -0.890070  0.382579  0.695033     -0.282504     -0.208140   \n",
       "2    1.003483      0.979538  0.382579 -1.438780     -0.282504     -0.208140   \n",
       "3   -0.982600     -0.890070  0.382579  0.695033     -0.282504     -0.208140   \n",
       "4    1.003483     -0.890070  0.382579  0.695033     -0.282504     -0.208140   \n",
       "\n",
       "   hours-per-week  native-country  \n",
       "0       -0.074863        0.265946  \n",
       "1        1.637212        0.265946  \n",
       "2       -0.759693        0.265946  \n",
       "3        1.637212        0.265946  \n",
       "4        0.952382        0.265946  "
      ]
     },
     "execution_count": 42,
     "metadata": {},
     "output_type": "execute_result"
    }
   ],
   "source": [
    "X_train.head()"
   ]
  },
  {
   "cell_type": "code",
   "execution_count": 43,
   "id": "3d0ea0dd",
   "metadata": {},
   "outputs": [
    {
     "data": {
      "text/html": [
       "<div>\n",
       "<style scoped>\n",
       "    .dataframe tbody tr th:only-of-type {\n",
       "        vertical-align: middle;\n",
       "    }\n",
       "\n",
       "    .dataframe tbody tr th {\n",
       "        vertical-align: top;\n",
       "    }\n",
       "\n",
       "    .dataframe thead th {\n",
       "        text-align: right;\n",
       "    }\n",
       "</style>\n",
       "<table border=\"1\" class=\"dataframe\">\n",
       "  <thead>\n",
       "    <tr style=\"text-align: right;\">\n",
       "      <th></th>\n",
       "      <th>age</th>\n",
       "      <th>workclass</th>\n",
       "      <th>fnlwgt</th>\n",
       "      <th>education</th>\n",
       "      <th>education-num</th>\n",
       "      <th>marital-status</th>\n",
       "      <th>occupation</th>\n",
       "      <th>relationship</th>\n",
       "      <th>race</th>\n",
       "      <th>sex</th>\n",
       "      <th>capital-gain</th>\n",
       "      <th>capital-loss</th>\n",
       "      <th>hours-per-week</th>\n",
       "      <th>native-country</th>\n",
       "    </tr>\n",
       "  </thead>\n",
       "  <tbody>\n",
       "    <tr>\n",
       "      <th>0</th>\n",
       "      <td>0.418210</td>\n",
       "      <td>-0.204511</td>\n",
       "      <td>-1.262511</td>\n",
       "      <td>0.170452</td>\n",
       "      <td>-0.434574</td>\n",
       "      <td>0.946273</td>\n",
       "      <td>1.251744</td>\n",
       "      <td>-0.266868</td>\n",
       "      <td>-3.217507</td>\n",
       "      <td>-1.438780</td>\n",
       "      <td>-0.282504</td>\n",
       "      <td>-0.20814</td>\n",
       "      <td>-0.074863</td>\n",
       "      <td>0.265946</td>\n",
       "    </tr>\n",
       "    <tr>\n",
       "      <th>1</th>\n",
       "      <td>-1.331594</td>\n",
       "      <td>-0.204511</td>\n",
       "      <td>1.312768</td>\n",
       "      <td>1.222721</td>\n",
       "      <td>-0.042490</td>\n",
       "      <td>0.946273</td>\n",
       "      <td>-1.479121</td>\n",
       "      <td>0.979538</td>\n",
       "      <td>0.382579</td>\n",
       "      <td>0.695033</td>\n",
       "      <td>-0.282504</td>\n",
       "      <td>-0.20814</td>\n",
       "      <td>-1.786938</td>\n",
       "      <td>0.265946</td>\n",
       "    </tr>\n",
       "    <tr>\n",
       "      <th>2</th>\n",
       "      <td>-0.190418</td>\n",
       "      <td>-0.204511</td>\n",
       "      <td>0.114406</td>\n",
       "      <td>1.222721</td>\n",
       "      <td>-0.042490</td>\n",
       "      <td>-0.387728</td>\n",
       "      <td>1.748265</td>\n",
       "      <td>-0.890070</td>\n",
       "      <td>0.382579</td>\n",
       "      <td>0.695033</td>\n",
       "      <td>-0.282504</td>\n",
       "      <td>-0.20814</td>\n",
       "      <td>-0.074863</td>\n",
       "      <td>0.265946</td>\n",
       "    </tr>\n",
       "    <tr>\n",
       "      <th>3</th>\n",
       "      <td>-0.646888</td>\n",
       "      <td>1.910009</td>\n",
       "      <td>-1.517992</td>\n",
       "      <td>-0.618749</td>\n",
       "      <td>0.349594</td>\n",
       "      <td>-1.721729</td>\n",
       "      <td>-0.982600</td>\n",
       "      <td>-0.266868</td>\n",
       "      <td>0.382579</td>\n",
       "      <td>0.695033</td>\n",
       "      <td>-0.282504</td>\n",
       "      <td>-0.20814</td>\n",
       "      <td>0.695570</td>\n",
       "      <td>0.265946</td>\n",
       "    </tr>\n",
       "    <tr>\n",
       "      <th>4</th>\n",
       "      <td>0.266053</td>\n",
       "      <td>1.910009</td>\n",
       "      <td>-0.646744</td>\n",
       "      <td>1.222721</td>\n",
       "      <td>-0.042490</td>\n",
       "      <td>-0.387728</td>\n",
       "      <td>-0.982600</td>\n",
       "      <td>-0.890070</td>\n",
       "      <td>0.382579</td>\n",
       "      <td>0.695033</td>\n",
       "      <td>-0.282504</td>\n",
       "      <td>-0.20814</td>\n",
       "      <td>-0.074863</td>\n",
       "      <td>-4.861988</td>\n",
       "    </tr>\n",
       "  </tbody>\n",
       "</table>\n",
       "</div>"
      ],
      "text/plain": [
       "        age  workclass    fnlwgt  education  education-num  marital-status  \\\n",
       "0  0.418210  -0.204511 -1.262511   0.170452      -0.434574        0.946273   \n",
       "1 -1.331594  -0.204511  1.312768   1.222721      -0.042490        0.946273   \n",
       "2 -0.190418  -0.204511  0.114406   1.222721      -0.042490       -0.387728   \n",
       "3 -0.646888   1.910009 -1.517992  -0.618749       0.349594       -1.721729   \n",
       "4  0.266053   1.910009 -0.646744   1.222721      -0.042490       -0.387728   \n",
       "\n",
       "   occupation  relationship      race       sex  capital-gain  capital-loss  \\\n",
       "0    1.251744     -0.266868 -3.217507 -1.438780     -0.282504      -0.20814   \n",
       "1   -1.479121      0.979538  0.382579  0.695033     -0.282504      -0.20814   \n",
       "2    1.748265     -0.890070  0.382579  0.695033     -0.282504      -0.20814   \n",
       "3   -0.982600     -0.266868  0.382579  0.695033     -0.282504      -0.20814   \n",
       "4   -0.982600     -0.890070  0.382579  0.695033     -0.282504      -0.20814   \n",
       "\n",
       "   hours-per-week  native-country  \n",
       "0       -0.074863        0.265946  \n",
       "1       -1.786938        0.265946  \n",
       "2       -0.074863        0.265946  \n",
       "3        0.695570        0.265946  \n",
       "4       -0.074863       -4.861988  "
      ]
     },
     "execution_count": 43,
     "metadata": {},
     "output_type": "execute_result"
    }
   ],
   "source": [
    "X_test.head()"
   ]
  },
  {
   "cell_type": "code",
   "execution_count": 44,
   "id": "6481cf32",
   "metadata": {},
   "outputs": [
    {
     "data": {
      "text/plain": [
       "15977    0\n",
       "13574    0\n",
       "23210    0\n",
       "9284     0\n",
       "8841     0\n",
       "Name: Annual_Income, dtype: int64"
      ]
     },
     "execution_count": 44,
     "metadata": {},
     "output_type": "execute_result"
    }
   ],
   "source": [
    "y_train.head()"
   ]
  },
  {
   "cell_type": "code",
   "execution_count": 45,
   "id": "48dcc88c",
   "metadata": {},
   "outputs": [
    {
     "data": {
      "text/plain": [
       "2135     0\n",
       "15639    0\n",
       "29059    0\n",
       "27523    0\n",
       "9280     0\n",
       "Name: Annual_Income, dtype: int64"
      ]
     },
     "execution_count": 45,
     "metadata": {},
     "output_type": "execute_result"
    }
   ],
   "source": [
    "y_test.head()"
   ]
  },
  {
   "cell_type": "code",
   "execution_count": 46,
   "id": "46f2b0f5",
   "metadata": {},
   "outputs": [
    {
     "data": {
      "text/plain": [
       "(21113, 14)"
      ]
     },
     "execution_count": 46,
     "metadata": {},
     "output_type": "execute_result"
    }
   ],
   "source": [
    "X_train.shape"
   ]
  },
  {
   "cell_type": "code",
   "execution_count": 47,
   "id": "f83c9a28",
   "metadata": {},
   "outputs": [],
   "source": [
    "from sklearn.linear_model import LogisticRegression\n",
    "log_model=LogisticRegression()"
   ]
  },
  {
   "cell_type": "code",
   "execution_count": 48,
   "id": "e2eba80d",
   "metadata": {},
   "outputs": [
    {
     "data": {
      "text/plain": [
       "LogisticRegression()"
      ]
     },
     "execution_count": 48,
     "metadata": {},
     "output_type": "execute_result"
    }
   ],
   "source": [
    "log_model.fit(X_train,y_train)"
   ]
  },
  {
   "cell_type": "code",
   "execution_count": 49,
   "id": "01b1f361",
   "metadata": {},
   "outputs": [
    {
     "data": {
      "text/plain": [
       "array([0, 1], dtype=int64)"
      ]
     },
     "execution_count": 49,
     "metadata": {},
     "output_type": "execute_result"
    }
   ],
   "source": [
    "np.unique(y)"
   ]
  },
  {
   "cell_type": "code",
   "execution_count": 50,
   "id": "a2d75d44",
   "metadata": {},
   "outputs": [
    {
     "data": {
      "text/plain": [
       "array([0, 1], dtype=int64)"
      ]
     },
     "execution_count": 50,
     "metadata": {},
     "output_type": "execute_result"
    }
   ],
   "source": [
    "np.unique(y_train)"
   ]
  },
  {
   "cell_type": "code",
   "execution_count": 51,
   "id": "3ef652d2",
   "metadata": {},
   "outputs": [
    {
     "data": {
      "text/plain": [
       "array([0, 1], dtype=int64)"
      ]
     },
     "execution_count": 51,
     "metadata": {},
     "output_type": "execute_result"
    }
   ],
   "source": [
    "np.unique(y_test)"
   ]
  },
  {
   "cell_type": "code",
   "execution_count": 52,
   "id": "aaf469c3",
   "metadata": {},
   "outputs": [
    {
     "name": "stdout",
     "output_type": "stream",
     "text": [
      "The Accuracy for Test Set is 81.30180130401149\n"
     ]
    }
   ],
   "source": [
    "from sklearn.metrics import accuracy_score\n",
    "y_pred = log_model.predict(X_test)\n",
    "test_acc = accuracy_score(y_test, y_pred)\n",
    "print('The Accuracy for Test Set is {}'.format(test_acc*100))"
   ]
  },
  {
   "cell_type": "code",
   "execution_count": 53,
   "id": "35b1db5a",
   "metadata": {},
   "outputs": [
    {
     "data": {
      "text/plain": [
       "array([0, 0, 0, ..., 1, 0, 0], dtype=int64)"
      ]
     },
     "execution_count": 53,
     "metadata": {},
     "output_type": "execute_result"
    }
   ],
   "source": [
    "y_pred"
   ]
  },
  {
   "cell_type": "code",
   "execution_count": 54,
   "id": "369d1197",
   "metadata": {},
   "outputs": [
    {
     "data": {
      "text/plain": [
       "2135     0\n",
       "15639    0\n",
       "29059    0\n",
       "27523    0\n",
       "9280     0\n",
       "        ..\n",
       "16826    0\n",
       "25246    0\n",
       "18980    1\n",
       "953      0\n",
       "30925    0\n",
       "Name: Annual_Income, Length: 9049, dtype: int64"
      ]
     },
     "execution_count": 54,
     "metadata": {},
     "output_type": "execute_result"
    }
   ],
   "source": [
    "y_test"
   ]
  },
  {
   "cell_type": "code",
   "execution_count": 55,
   "id": "c4113b33",
   "metadata": {},
   "outputs": [
    {
     "data": {
      "text/plain": [
       "array([0, 1], dtype=int64)"
      ]
     },
     "execution_count": 55,
     "metadata": {},
     "output_type": "execute_result"
    }
   ],
   "source": [
    "log_model.classes_\n"
   ]
  },
  {
   "cell_type": "code",
   "execution_count": 56,
   "id": "d8329445",
   "metadata": {},
   "outputs": [
    {
     "data": {
      "text/plain": [
       "array([-1.62151825])"
      ]
     },
     "execution_count": 56,
     "metadata": {},
     "output_type": "execute_result"
    }
   ],
   "source": [
    "log_model.intercept_"
   ]
  },
  {
   "cell_type": "code",
   "execution_count": 57,
   "id": "67d642f5",
   "metadata": {},
   "outputs": [
    {
     "data": {
      "text/plain": [
       "array([[ 0.50582305, -0.11576016,  0.03509428,  0.06654074,  0.86209191,\n",
       "        -0.33022612, -0.01067867, -0.20882353,  0.08315792,  0.42101031,\n",
       "         0.6479142 ,  0.30312046,  0.34529571,  0.01210541]])"
      ]
     },
     "execution_count": 57,
     "metadata": {},
     "output_type": "execute_result"
    }
   ],
   "source": [
    "log_model.coef_"
   ]
  },
  {
   "cell_type": "code",
   "execution_count": 58,
   "id": "dab36cdf",
   "metadata": {},
   "outputs": [
    {
     "data": {
      "text/plain": [
       "Text(0.5, 33.0, 'Predicted Values')"
      ]
     },
     "execution_count": 58,
     "metadata": {},
     "output_type": "execute_result"
    },
    {
     "data": {
      "image/png": "[encoded data removed]",
      "text/plain": [
       "<Figure size 864x432 with 2 Axes>"
      ]
     },
     "metadata": {
      "needs_background": "light"
     },
     "output_type": "display_data"
    }
   ],
   "source": [
    "import matplotlib.pyplot as plt\n",
    "import seaborn as sns\n",
    "from sklearn.metrics import classification_report as cls ,accuracy_score as acc, confusion_matrix\n",
    "cm=confusion_matrix(y_test,y_pred)\n",
    "plt.figure(figsize=(12,6))\n",
    "plt.title('Confusion Matrix')\n",
    "sns.heatmap(cm, annot=True,fmt='d', cmap='Blues')\n",
    "plt.ylabel('Actual Values')\n",
    "plt.xlabel('Predicted Values')"
   ]
  },
  {
   "cell_type": "code",
   "execution_count": 59,
   "id": "0fecc878",
   "metadata": {},
   "outputs": [
    {
     "name": "stdout",
     "output_type": "stream",
     "text": [
      "0.8130180130401149\n",
      "              precision    recall  f1-score   support\n",
      "\n",
      "           0       0.84      0.93      0.88      6764\n",
      "           1       0.70      0.45      0.55      2285\n",
      "\n",
      "    accuracy                           0.81      9049\n",
      "   macro avg       0.77      0.69      0.72      9049\n",
      "weighted avg       0.80      0.81      0.80      9049\n",
      "\n"
     ]
    }
   ],
   "source": [
    "print(acc(y_test,y_pred))\n",
    "print(cls(y_test,y_pred))"
   ]
  },
  {
   "cell_type": "code",
   "execution_count": 60,
   "id": "0fae3016",
   "metadata": {},
   "outputs": [
    {
     "data": {
      "text/plain": [
       "array([[0.96106309, 0.03893691],\n",
       "       [0.96148143, 0.03851857],\n",
       "       [0.78490945, 0.21509055],\n",
       "       ...,\n",
       "       [0.26008397, 0.73991603],\n",
       "       [0.99103128, 0.00896872],\n",
       "       [0.94311049, 0.05688951]])"
      ]
     },
     "execution_count": 60,
     "metadata": {},
     "output_type": "execute_result"
    }
   ],
   "source": [
    "y_pred_prob=log_model.predict_proba(X_test) \n",
    "y_pred_prob"
   ]
  },
  {
   "cell_type": "code",
   "execution_count": 61,
   "id": "c63c4640",
   "metadata": {},
   "outputs": [
    {
     "data": {
      "text/html": [
       "<div>\n",
       "<style scoped>\n",
       "    .dataframe tbody tr th:only-of-type {\n",
       "        vertical-align: middle;\n",
       "    }\n",
       "\n",
       "    .dataframe tbody tr th {\n",
       "        vertical-align: top;\n",
       "    }\n",
       "\n",
       "    .dataframe thead th {\n",
       "        text-align: right;\n",
       "    }\n",
       "</style>\n",
       "<table border=\"1\" class=\"dataframe\">\n",
       "  <thead>\n",
       "    <tr style=\"text-align: right;\">\n",
       "      <th></th>\n",
       "      <th>Prob of - &lt;=50K</th>\n",
       "      <th>Prob of - &gt;50K</th>\n",
       "    </tr>\n",
       "  </thead>\n",
       "  <tbody>\n",
       "    <tr>\n",
       "      <th>0</th>\n",
       "      <td>0.961063</td>\n",
       "      <td>0.038937</td>\n",
       "    </tr>\n",
       "    <tr>\n",
       "      <th>1</th>\n",
       "      <td>0.961481</td>\n",
       "      <td>0.038519</td>\n",
       "    </tr>\n",
       "    <tr>\n",
       "      <th>2</th>\n",
       "      <td>0.784909</td>\n",
       "      <td>0.215091</td>\n",
       "    </tr>\n",
       "    <tr>\n",
       "      <th>3</th>\n",
       "      <td>0.732318</td>\n",
       "      <td>0.267682</td>\n",
       "    </tr>\n",
       "    <tr>\n",
       "      <th>4</th>\n",
       "      <td>0.797060</td>\n",
       "      <td>0.202940</td>\n",
       "    </tr>\n",
       "    <tr>\n",
       "      <th>...</th>\n",
       "      <td>...</td>\n",
       "      <td>...</td>\n",
       "    </tr>\n",
       "    <tr>\n",
       "      <th>9044</th>\n",
       "      <td>0.972164</td>\n",
       "      <td>0.027836</td>\n",
       "    </tr>\n",
       "    <tr>\n",
       "      <th>9045</th>\n",
       "      <td>0.942423</td>\n",
       "      <td>0.057577</td>\n",
       "    </tr>\n",
       "    <tr>\n",
       "      <th>9046</th>\n",
       "      <td>0.260084</td>\n",
       "      <td>0.739916</td>\n",
       "    </tr>\n",
       "    <tr>\n",
       "      <th>9047</th>\n",
       "      <td>0.991031</td>\n",
       "      <td>0.008969</td>\n",
       "    </tr>\n",
       "    <tr>\n",
       "      <th>9048</th>\n",
       "      <td>0.943110</td>\n",
       "      <td>0.056890</td>\n",
       "    </tr>\n",
       "  </tbody>\n",
       "</table>\n",
       "<p>9049 rows × 2 columns</p>\n",
       "</div>"
      ],
      "text/plain": [
       "      Prob of - <=50K  Prob of - >50K\n",
       "0            0.961063        0.038937\n",
       "1            0.961481        0.038519\n",
       "2            0.784909        0.215091\n",
       "3            0.732318        0.267682\n",
       "4            0.797060        0.202940\n",
       "...               ...             ...\n",
       "9044         0.972164        0.027836\n",
       "9045         0.942423        0.057577\n",
       "9046         0.260084        0.739916\n",
       "9047         0.991031        0.008969\n",
       "9048         0.943110        0.056890\n",
       "\n",
       "[9049 rows x 2 columns]"
      ]
     },
     "execution_count": 61,
     "metadata": {},
     "output_type": "execute_result"
    }
   ],
   "source": [
    "y_pred_prob_df = pd.DataFrame(data=y_pred_prob, columns=['Prob of - <=50K', 'Prob of - >50K'])\n",
    "\n",
    "y_pred_prob_df"
   ]
  },
  {
   "cell_type": "code",
   "execution_count": 62,
   "id": "868de2b6",
   "metadata": {},
   "outputs": [
    {
     "name": "stdout",
     "output_type": "stream",
     "text": [
      "0.8130180130401149\n"
     ]
    }
   ],
   "source": [
    "log_model.fit(X_train,y_train)\n",
    "print(log_model.score(X_test,y_test))"
   ]
  },
  {
   "cell_type": "code",
   "execution_count": 63,
   "id": "cdf4d817",
   "metadata": {},
   "outputs": [
    {
     "data": {
      "text/plain": [
       "array([0.03893691, 0.03851857, 0.21509055, ..., 0.73991603, 0.00896872,\n",
       "       0.05688951])"
      ]
     },
     "execution_count": 63,
     "metadata": {},
     "output_type": "execute_result"
    }
   ],
   "source": [
    "y_pred1 = log_model.predict_proba(X_test)[:,1]\n",
    "y_pred1"
   ]
  },
  {
   "cell_type": "code",
   "execution_count": 64,
   "id": "8df4df6e",
   "metadata": {},
   "outputs": [
    {
     "data": {
      "text/plain": [
       "array([0.96106309, 0.96148143, 0.78490945, ..., 0.26008397, 0.99103128,\n",
       "       0.94311049])"
      ]
     },
     "execution_count": 64,
     "metadata": {},
     "output_type": "execute_result"
    }
   ],
   "source": [
    "y_pred0 = log_model.predict_proba(X_test)[:,0]\n",
    "y_pred0"
   ]
  },
  {
   "cell_type": "code",
   "execution_count": 65,
   "id": "fe007ab9",
   "metadata": {},
   "outputs": [
    {
     "name": "stdout",
     "output_type": "stream",
     "text": [
      "Model accuracy score: 0.8130\n"
     ]
    }
   ],
   "source": [
    "print('Model accuracy score: {0:0.4f}'. format(acc(y_test, y_pred)))"
   ]
  },
  {
   "cell_type": "code",
   "execution_count": 66,
   "id": "14e0a337",
   "metadata": {},
   "outputs": [
    {
     "name": "stdout",
     "output_type": "stream",
     "text": [
      "Training set score: 0.8218\n",
      "Test set score: 0.8130\n"
     ]
    }
   ],
   "source": [
    "print('Training set score: {:.4f}'.format(log_model.score(X_train, y_train)))\n",
    "\n",
    "print('Test set score: {:.4f}'.format(log_model.score(X_test, y_test)))"
   ]
  },
  {
   "cell_type": "markdown",
   "id": "aef1b971",
   "metadata": {},
   "source": [
    "The training-set accuracy score is 0.8218 while the test-set accuracy to be 0.8130. These two values are quite comparable. So, there is no sign of overfitting."
   ]
  },
  {
   "cell_type": "code",
   "execution_count": 67,
   "id": "adb79f04",
   "metadata": {},
   "outputs": [
    {
     "data": {
      "text/plain": [
       "0    6764\n",
       "1    2285\n",
       "Name: Annual_Income, dtype: int64"
      ]
     },
     "execution_count": 67,
     "metadata": {},
     "output_type": "execute_result"
    }
   ],
   "source": [
    "y_test.value_counts()"
   ]
  },
  {
   "cell_type": "code",
   "execution_count": 68,
   "id": "60cf3089",
   "metadata": {},
   "outputs": [
    {
     "name": "stdout",
     "output_type": "stream",
     "text": [
      "Null accuracy score: 0.7582\n"
     ]
    }
   ],
   "source": [
    "# check null accuracy score\n",
    "\n",
    "null_accuracy = (7407/(7407+2362))\n",
    "\n",
    "print('Null accuracy score: {0:0.4f}'. format(null_accuracy))"
   ]
  },
  {
   "cell_type": "raw",
   "id": "b6054bdf",
   "metadata": {},
   "source": [
    "We can see that our model accuracy score is 0.8218 but null accuracy score is 0.7582. So, we can conclude that our logistic regression classification model is doing a better job in predicting the class labels."
   ]
  },
  {
   "cell_type": "code",
   "execution_count": 69,
   "id": "43b0a888",
   "metadata": {},
   "outputs": [
    {
     "name": "stdout",
     "output_type": "stream",
     "text": [
      "Confusion matrix\n",
      "\n",
      " [[6319  445]\n",
      " [1247 1038]]\n",
      "\n",
      "True Positives(TP) =  6319\n",
      "\n",
      "True Negatives(TN) =  1038\n",
      "\n",
      "False Positives(FP) =  445\n",
      "\n",
      "False Negatives(FN) =  1247\n"
     ]
    }
   ],
   "source": [
    "from sklearn.metrics import confusion_matrix\n",
    "\n",
    "cm = confusion_matrix(y_test, y_pred)\n",
    "\n",
    "print('Confusion matrix\\n\\n', cm)\n",
    "\n",
    "print('\\nTrue Positives(TP) = ', cm[0,0])\n",
    "\n",
    "print('\\nTrue Negatives(TN) = ', cm[1,1])\n",
    "\n",
    "print('\\nFalse Positives(FP) = ', cm[0,1])\n",
    "\n",
    "print('\\nFalse Negatives(FN) = ', cm[1,0])"
   ]
  },
  {
   "cell_type": "code",
   "execution_count": 70,
   "id": "8a8003e8",
   "metadata": {},
   "outputs": [
    {
     "name": "stdout",
     "output_type": "stream",
     "text": [
      "              precision    recall  f1-score   support\n",
      "\n",
      "           0       0.84      0.93      0.88      6764\n",
      "           1       0.70      0.45      0.55      2285\n",
      "\n",
      "    accuracy                           0.81      9049\n",
      "   macro avg       0.77      0.69      0.72      9049\n",
      "weighted avg       0.80      0.81      0.80      9049\n",
      "\n",
      "Accuracy 0.8130180130401149\n",
      "Recall 0.45426695842450765\n",
      "Precision 0.6999325691166555\n"
     ]
    }
   ],
   "source": [
    "from sklearn.metrics import classification_report as cls ,accuracy_score as acc\n",
    "from sklearn.metrics import recall_score as recall,precision_score as precision\n",
    "\n",
    "print(cls(y_test,y_pred))\n",
    "print('Accuracy', acc(y_test,y_pred))\n",
    "print('Recall', recall(y_test, y_pred,pos_label=1))\n",
    "print('Precision', precision(y_test, y_pred,pos_label=1))\n",
    "\n"
   ]
  },
  {
   "cell_type": "code",
   "execution_count": 71,
   "id": "6d5ce458",
   "metadata": {},
   "outputs": [
    {
     "data": {
      "text/plain": [
       "Text(0, 0.5, 'Frequency')"
      ]
     },
     "execution_count": 71,
     "metadata": {},
     "output_type": "execute_result"
    },
    {
     "data": {
      "image/png": "[encoded data removed]",
      "text/plain": [
       "<Figure size 432x288 with 1 Axes>"
      ]
     },
     "metadata": {
      "needs_background": "light"
     },
     "output_type": "display_data"
    }
   ],
   "source": [
    "# plot histogram of predicted probabilities\n",
    "\n",
    "plt.rcParams['font.size'] = 12\n",
    "plt.hist(y_pred1, bins = 10)\n",
    "plt.title('Histogram of predicted probabilities of salaries >50K')\n",
    "plt.xlim(0,1)\n",
    "plt.xlabel('Predicted probabilities of salaries >50K')\n",
    "plt.ylabel('Frequency')"
   ]
  },
  {
   "cell_type": "code",
   "execution_count": 72,
   "id": "b9f0cd6d",
   "metadata": {},
   "outputs": [
    {
     "data": {
      "image/png": "[encoded data removed]",
      "text/plain": [
       "<Figure size 432x288 with 1 Axes>"
      ]
     },
     "metadata": {
      "needs_background": "light"
     },
     "output_type": "display_data"
    }
   ],
   "source": [
    "# plot ROC Curve\n",
    "\n",
    "from sklearn.metrics import roc_curve\n",
    "\n",
    "fpr, tpr, thresholds = roc_curve(y_test, y_pred1, pos_label = 1)\n",
    "plt.figure(figsize=(6,4))\n",
    "plt.plot(fpr, tpr, linewidth=2)\n",
    "plt.plot([0,1], [0,1], 'k--' )\n",
    "plt.rcParams['font.size'] = 12\n",
    "plt.title('ROC curve for Gaussian Naive Bayes Classifier for Predicting Salaries')\n",
    "plt.xlabel('False Positive Rate (1 - Specificity)')\n",
    "plt.ylabel('True Positive Rate (Sensitivity)')\n",
    "plt.show()\n"
   ]
  },
  {
   "cell_type": "code",
   "execution_count": 73,
   "id": "63d45950",
   "metadata": {},
   "outputs": [
    {
     "name": "stdout",
     "output_type": "stream",
     "text": [
      "ROC AUC : 0.8496\n"
     ]
    }
   ],
   "source": [
    "# compute ROC AUC\n",
    "\n",
    "from sklearn.metrics import roc_auc_score\n",
    "\n",
    "ROC_AUC = roc_auc_score(y_test, y_pred1)\n",
    "\n",
    "print('ROC AUC : {:.4f}'.format(ROC_AUC))"
   ]
  },
  {
   "cell_type": "code",
   "execution_count": 74,
   "id": "55e7478c",
   "metadata": {},
   "outputs": [
    {
     "name": "stdout",
     "output_type": "stream",
     "text": [
      "Cross validated ROC AUC : 0.8524\n"
     ]
    }
   ],
   "source": [
    "# calculate cross-validated ROC AUC \n",
    "\n",
    "from sklearn.model_selection import cross_val_score\n",
    "\n",
    "Cross_validated_ROC_AUC = cross_val_score(log_model, X_train, y_train, cv=5, scoring='roc_auc').mean()\n",
    "\n",
    "print('Cross validated ROC AUC : {:.4f}'.format(Cross_validated_ROC_AUC))"
   ]
  },
  {
   "cell_type": "code",
   "execution_count": 75,
   "id": "c3e4cfa1",
   "metadata": {},
   "outputs": [
    {
     "name": "stdout",
     "output_type": "stream",
     "text": [
      "Cross-validation scores:[0.81297348 0.83522727 0.81912879 0.8185694  0.80720038 0.81762198\n",
      " 0.83467551 0.8237802  0.82188536 0.82662245]\n"
     ]
    }
   ],
   "source": [
    "# Applying 10-Fold Cross Validation\n",
    "\n",
    "from sklearn.model_selection import cross_val_score\n",
    "\n",
    "scores = cross_val_score(log_model, X_train, y_train, cv = 10, scoring='accuracy')\n",
    "\n",
    "print('Cross-validation scores:{}'.format(scores))"
   ]
  },
  {
   "cell_type": "code",
   "execution_count": 76,
   "id": "38f5f114",
   "metadata": {},
   "outputs": [
    {
     "name": "stdout",
     "output_type": "stream",
     "text": [
      "Average cross-validation score: 0.8218\n"
     ]
    }
   ],
   "source": [
    "# compute Average cross-validation score\n",
    "\n",
    "print('Average cross-validation score: {:.4f}'.format(scores.mean()))"
   ]
  },
  {
   "cell_type": "code",
   "execution_count": 77,
   "id": "c25984f8",
   "metadata": {},
   "outputs": [
    {
     "data": {
      "text/plain": [
       "<AxesSubplot:xlabel='Predicted', ylabel='Actual'>"
      ]
     },
     "execution_count": 77,
     "metadata": {},
     "output_type": "execute_result"
    },
    {
     "data": {
      "image/png": "[encoded data removed]",
      "text/plain": [
       "<Figure size 432x288 with 2 Axes>"
      ]
     },
     "metadata": {
      "needs_background": "light"
     },
     "output_type": "display_data"
    }
   ],
   "source": [
    "#confusion_matrix\n",
    "import seaborn as sns\n",
    "confusion_matrix=pd.crosstab(y_test,y_pred,rownames=['Actual'],colnames=['Predicted'])\n",
    "sns.heatmap(confusion_matrix,annot=True)"
   ]
  },
  {
   "cell_type": "code",
   "execution_count": 78,
   "id": "4ded3342",
   "metadata": {},
   "outputs": [
    {
     "data": {
      "text/plain": [
       "array([[   22,     5,  2491, ...,     0,    39,    38],\n",
       "       [   33,     4,  2727, ...,     0,    12,    38],\n",
       "       [   21,     2, 13188, ...,     0,    39,    38],\n",
       "       ...,\n",
       "       [   41,     2,  7377, ...,     0,    39,    38],\n",
       "       [    5,     2, 12060, ...,     0,    19,    38],\n",
       "       [   35,     3, 16689, ...,     0,    39,    38]], dtype=int64)"
      ]
     },
     "execution_count": 78,
     "metadata": {},
     "output_type": "execute_result"
    }
   ],
   "source": [
    "np.asarray(X)"
   ]
  },
  {
   "cell_type": "code",
   "execution_count": 79,
   "id": "5b53c369",
   "metadata": {},
   "outputs": [
    {
     "name": "stdout",
     "output_type": "stream",
     "text": [
      "Optimization terminated successfully.\n",
      "         Current function value: 0.421533\n",
      "         Iterations 7\n",
      "                           Logit Regression Results                           \n",
      "==============================================================================\n",
      "Dep. Variable:          Annual_Income   No. Observations:                30162\n",
      "Model:                          Logit   Df Residuals:                    30148\n",
      "Method:                           MLE   Df Model:                           13\n",
      "Date:                Fri, 14 Oct 2022   Pseudo R-squ.:                  0.2488\n",
      "Time:                        13:50:46   Log-Likelihood:                -12714.\n",
      "converged:                       True   LL-Null:                       -16925.\n",
      "Covariance Type:            nonrobust   LLR p-value:                     0.000\n",
      "==================================================================================\n",
      "                     coef    std err          z      P>|z|      [0.025      0.975]\n",
      "----------------------------------------------------------------------------------\n",
      "age                0.0187      0.001     14.443      0.000       0.016       0.021\n",
      "workclass         -0.2141      0.016    -13.312      0.000      -0.246      -0.183\n",
      "fnlwgt         -1.832e-05   2.71e-06     -6.751      0.000   -2.36e-05    -1.3e-05\n",
      "education         -0.0362      0.005     -7.847      0.000      -0.045      -0.027\n",
      "education-num      0.2462      0.007     37.460      0.000       0.233       0.259\n",
      "marital-status    -0.3397      0.012    -28.764      0.000      -0.363      -0.317\n",
      "occupation        -0.0130      0.004     -3.312      0.001      -0.021      -0.005\n",
      "relationship      -0.3205      0.014    -23.470      0.000      -0.347      -0.294\n",
      "race              -0.1837      0.018    -10.362      0.000      -0.218      -0.149\n",
      "sex                0.3550      0.046      7.656      0.000       0.264       0.446\n",
      "capital-gain       0.0282      0.001     38.915      0.000       0.027       0.030\n",
      "capital-loss       0.0301      0.001     21.742      0.000       0.027       0.033\n",
      "hours-per-week     0.0094      0.001      6.828      0.000       0.007       0.012\n",
      "native-country    -0.0507      0.002    -23.730      0.000      -0.055      -0.046\n",
      "==================================================================================\n"
     ]
    }
   ],
   "source": [
    "import statsmodels.api as sm\n",
    "logit_model=sm.Logit(y,X)\n",
    "result=logit_model.fit()\n",
    "print(result.summary())"
   ]
  },
  {
   "cell_type": "code",
   "execution_count": 80,
   "id": "41ce8522",
   "metadata": {},
   "outputs": [
    {
     "data": {
      "text/plain": [
       "0.39930414398268654"
      ]
     },
     "execution_count": 80,
     "metadata": {},
     "output_type": "execute_result"
    }
   ],
   "source": [
    "#Calculate log loss\n",
    "from sklearn.metrics import log_loss\n",
    "log_loss(y_test,y_pred1)"
   ]
  },
  {
   "cell_type": "code",
   "execution_count": 81,
   "id": "effc4948",
   "metadata": {},
   "outputs": [
    {
     "name": "stdout",
     "output_type": "stream",
     "text": [
      "Logistic: ROC AUC=0.849614\n"
     ]
    },
    {
     "data": {
      "image/png": "[encoded data removed]",
      "text/plain": [
       "<Figure size 432x288 with 1 Axes>"
      ]
     },
     "metadata": {
      "needs_background": "light"
     },
     "output_type": "display_data"
    }
   ],
   "source": [
    "#roc curve and auc\n",
    "from sklearn.datasets import make_classification\n",
    "from sklearn.linear_model import LogisticRegression\n",
    "from sklearn.model_selection import train_test_split\n",
    "from sklearn.metrics import roc_curve\n",
    "from sklearn.metrics import roc_auc_score\n",
    "import matplotlib.pyplot as plt\n",
    "\n",
    "auc=roc_auc_score(np.array(y_test), y_pred1)\n",
    "print('Logistic: ROC AUC=%3F' % (auc))\n",
    "fpr,tpr, _ =roc_curve(np.array(y_test), y_pred1)\n",
    "plt.plot(fpr,tpr, marker='.', label='Logistic')\n",
    "plt.xlabel('False Positive Rate')\n",
    "plt.ylabel('True Positive Rate')\n",
    "plt.legend()\n",
    "plt.show()"
   ]
  },
  {
   "cell_type": "code",
   "execution_count": 82,
   "id": "d85502a5",
   "metadata": {},
   "outputs": [
    {
     "name": "stdout",
     "output_type": "stream",
     "text": [
      "Confusion Matrix : \n",
      " [[6319  445]\n",
      " [1247 1038]]\n",
      "Accuracy :  0.8130180130401149\n",
      "Sensitivity :  0.9342105263157895\n",
      "Specificity :  0.45426695842450765\n"
     ]
    }
   ],
   "source": [
    "#Confusion matrix, Accuracy, sensitivity and specificity\n",
    "from sklearn.metrics import confusion_matrix\n",
    "\n",
    "cm1 = confusion_matrix(y_test,y_pred)\n",
    "print('Confusion Matrix : \\n', cm1)\n",
    "\n",
    "total1=sum(sum(cm1))\n",
    "#####from confusion matrix calculate accuracy\n",
    "accuracy1=(cm1[0,0]+cm1[1,1])/total1\n",
    "print ('Accuracy : ', accuracy1)\n",
    "\n",
    "sensitivity1 = cm1[0,0]/(cm1[0,0]+cm1[0,1])\n",
    "print('Sensitivity : ', sensitivity1 )\n",
    "\n",
    "specificity1 = cm1[1,1]/(cm1[1,0]+cm1[1,1])\n",
    "print('Specificity : ', specificity1)"
   ]
  },
  {
   "cell_type": "raw",
   "id": "a7f7a8c4",
   "metadata": {},
   "source": [
    "14.What is the accuracy score of the above model?\n",
    "a. 0.60 to 0.70\n",
    "b. 0.40 to 0.60\n",
    "c. 0.70 to 0.85\n",
    "d. None of the above\n",
    "\n",
    "Ans:c. 0.70 to 0.85"
   ]
  },
  {
   "cell_type": "raw",
   "id": "1bc38754",
   "metadata": {},
   "source": [
    "15.What is the specificity of the above model?\n",
    "a. 0.20 to 0.30\n",
    "b. 0.30 to 0.40\n",
    "c. 0.50 to 0.60\n",
    "d. None of the above\n",
    "\n",
    "Ans: a. 0.20 to 0.30"
   ]
  },
  {
   "cell_type": "raw",
   "id": "6c4a9277",
   "metadata": {},
   "source": [
    "16.What is the model’s precision when the target is False?\n",
    "a. 0.60 to 0.70\n",
    "b. 0.40 to 0.60\n",
    "c. 0.70 to 0.80\n",
    "d. None of the above\n",
    "\n",
    "Ans: c. 0.70 to 0.80\n",
    "\n"
   ]
  },
  {
   "cell_type": "code",
   "execution_count": 83,
   "id": "f24d6283",
   "metadata": {},
   "outputs": [],
   "source": [
    "from sklearn.metrics import precision_score,recall_score\n",
    "pr= precision_score(\n",
    "   y_test,\n",
    "   y_pred,\n",
    "   labels=None,\n",
    "   pos_label=1,\n",
    "   average='binary',\n",
    "   sample_weight=None,\n",
    "   zero_division='warn',\n",
    ")\n",
    "re= recall_score(\n",
    "   y_test,\n",
    "   y_pred,\n",
    "   labels=None,\n",
    "   pos_label=1,\n",
    "   average='binary',\n",
    "   sample_weight=None,\n",
    "   zero_division='warn',)"
   ]
  },
  {
   "cell_type": "code",
   "execution_count": 84,
   "id": "1784181b",
   "metadata": {},
   "outputs": [
    {
     "data": {
      "text/plain": [
       "(0.6999325691166555, 0.45426695842450765)"
      ]
     },
     "execution_count": 84,
     "metadata": {},
     "output_type": "execute_result"
    }
   ],
   "source": [
    "pr,re"
   ]
  },
  {
   "cell_type": "code",
   "execution_count": 85,
   "id": "03348e1d",
   "metadata": {},
   "outputs": [
    {
     "data": {
      "text/plain": [
       "0.799562363238512"
      ]
     },
     "execution_count": 85,
     "metadata": {},
     "output_type": "execute_result"
    }
   ],
   "source": [
    "from sklearn.metrics import precision_recall_curve\n",
    "ys=log_model.decision_function(X_test)\n",
    "precision, recall, thresholds = precision_recall_curve(y_test,ys)\n",
    "thr_90_recall=thresholds[np.argmin(recall >= 0.80)]\n",
    "yscore=(ys>= thr_90_recall)\n",
    "recall_score(y_test,yscore)"
   ]
  },
  {
   "cell_type": "code",
   "execution_count": 86,
   "id": "bdf5460d",
   "metadata": {},
   "outputs": [],
   "source": [
    "from sklearn.metrics import precision_recall_curve\n",
    "precision, recall, thresholds =precision_recall_curve(y_test,ys)"
   ]
  },
  {
   "cell_type": "code",
   "execution_count": 87,
   "id": "dddd5a29",
   "metadata": {},
   "outputs": [],
   "source": [
    "threshold_90_precision=thresholds[np.argmax(precision>=0.90)]"
   ]
  },
  {
   "cell_type": "code",
   "execution_count": 88,
   "id": "e983ddc8",
   "metadata": {},
   "outputs": [
    {
     "data": {
      "text/plain": [
       "1.5055612958530997"
      ]
     },
     "execution_count": 88,
     "metadata": {},
     "output_type": "execute_result"
    }
   ],
   "source": [
    "threshold_90_precision"
   ]
  },
  {
   "cell_type": "code",
   "execution_count": 89,
   "id": "8090deac",
   "metadata": {},
   "outputs": [],
   "source": [
    "ys=log_model.decision_function(X_test)"
   ]
  },
  {
   "cell_type": "code",
   "execution_count": 90,
   "id": "50ee7d8a",
   "metadata": {},
   "outputs": [],
   "source": [
    "yscore=(ys>=threshold_90_precision)"
   ]
  },
  {
   "cell_type": "code",
   "execution_count": 91,
   "id": "e89869e1",
   "metadata": {},
   "outputs": [
    {
     "data": {
      "text/plain": [
       "0.9"
      ]
     },
     "execution_count": 91,
     "metadata": {},
     "output_type": "execute_result"
    }
   ],
   "source": [
    "precision_score(y_test,yscore)"
   ]
  },
  {
   "cell_type": "code",
   "execution_count": 92,
   "id": "0ede836e",
   "metadata": {},
   "outputs": [
    {
     "data": {
      "text/plain": [
       "0.5509554140127388"
      ]
     },
     "execution_count": 92,
     "metadata": {},
     "output_type": "execute_result"
    }
   ],
   "source": [
    "from sklearn.metrics import f1_score\n",
    "f1_score(y_test,y_pred)"
   ]
  },
  {
   "cell_type": "raw",
   "id": "24863935",
   "metadata": {},
   "source": [
    "17.What is the total support value from the above model?\n",
    "a. 9049\n",
    "b. 9032\n",
    "c. 10000\n",
    "d. 9847\n",
    "\n",
    "#Ans:a. 9049"
   ]
  },
  {
   "cell_type": "raw",
   "id": "efc0426e",
   "metadata": {},
   "source": [
    "18.What is the f1 score of the above model when the target is\n",
    "True?\n",
    "a. 0.30 to 0.40\n",
    "b. 0.40 to 0.50\n",
    "c. 0.60 to 0.70\n",
    "d. 0.90 to 0.99\n",
    "\n",
    "#Ans: a. 0.30 to 0.40"
   ]
  },
  {
   "cell_type": "code",
   "execution_count": 93,
   "id": "6613540b",
   "metadata": {},
   "outputs": [
    {
     "name": "stdout",
     "output_type": "stream",
     "text": [
      "              precision    recall  f1-score   support\n",
      "\n",
      "           0       0.84      0.93      0.88      6764\n",
      "           1       0.70      0.45      0.55      2285\n",
      "\n",
      "    accuracy                           0.81      9049\n",
      "   macro avg       0.77      0.69      0.72      9049\n",
      "weighted avg       0.80      0.81      0.80      9049\n",
      "\n"
     ]
    }
   ],
   "source": [
    "print(cls(y_test,y_pred))"
   ]
  },
  {
   "cell_type": "code",
   "execution_count": 94,
   "id": "803373ea",
   "metadata": {},
   "outputs": [
    {
     "name": "stdout",
     "output_type": "stream",
     "text": [
      "Precision : 0.6999325691166555\n",
      "Recall    : 0.45426695842450765\n",
      "F-score   : 0.5509554140127388\n",
      "Support   : None\n"
     ]
    }
   ],
   "source": [
    "from sklearn.metrics import precision_recall_fscore_support as score\n",
    "\n",
    "precision,recall,fscore,support=score(y_test,y_pred,average='binary')\n",
    "print ('Precision : {}'.format(precision))\n",
    "print ('Recall    : {}'.format(recall))\n",
    "print ('F-score   : {}'.format(fscore))\n",
    "print ('Support   : {}'.format(support))"
   ]
  },
  {
   "cell_type": "raw",
   "id": "3343c681",
   "metadata": {},
   "source": [
    "19.How many records are correctly classified by the\n",
    "model?\n",
    "a. 7173\n",
    "b. 7043\n",
    "c. 7000\n",
    "d. None of the above\n",
    "\n",
    "#Ans: a. 7173"
   ]
  }
 ],
 "metadata": {
  "kernelspec": {
   "display_name": "Python 3 (ipykernel)",
   "language": "python",
   "name": "python3"
  },
  "language_info": {
   "codemirror_mode": {
    "name": "ipython",
    "version": 3
   },
   "file_extension": ".py",
   "mimetype": "text/x-python",
   "name": "python",
   "nbconvert_exporter": "python",
   "pygments_lexer": "ipython3",
   "version": "3.9.15"
  }
 },
 "nbformat": 4,
 "nbformat_minor": 5
}
