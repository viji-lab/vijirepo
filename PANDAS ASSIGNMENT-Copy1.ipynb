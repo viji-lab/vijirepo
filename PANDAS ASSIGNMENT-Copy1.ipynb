{
 "cells": [
  {
   "cell_type": "code",
   "execution_count": 24,
   "id": "f8f74f70",
   "metadata": {},
   "outputs": [],
   "source": [
    "import pandas as pd\n",
    "house=pd.read_csv(r\"C:\\Users\\Lenovo\\OneDrive\\Desktop\\research\\HOUSING CSV FILE.csv\")"
   ]
  },
  {
   "cell_type": "code",
   "execution_count": null,
   "id": "1032c019",
   "metadata": {},
   "outputs": [],
   "source": [
    "1. How many houses are having waterfront?\n",
    "a. 140\n",
    "b. 340\n",
    "c. 323\n",
    "d. 163\n",
    "\n",
    "# Ans:d. 163"
   ]
  },
  {
   "cell_type": "code",
   "execution_count": 2,
   "id": "5148ce10",
   "metadata": {},
   "outputs": [
    {
     "data": {
      "text/html": [
       "<div>\n",
       "<style scoped>\n",
       "    .dataframe tbody tr th:only-of-type {\n",
       "        vertical-align: middle;\n",
       "    }\n",
       "\n",
       "    .dataframe tbody tr th {\n",
       "        vertical-align: top;\n",
       "    }\n",
       "\n",
       "    .dataframe thead th {\n",
       "        text-align: right;\n",
       "    }\n",
       "</style>\n",
       "<table border=\"1\" class=\"dataframe\">\n",
       "  <thead>\n",
       "    <tr style=\"text-align: right;\">\n",
       "      <th></th>\n",
       "      <th>waterfront</th>\n",
       "    </tr>\n",
       "  </thead>\n",
       "  <tbody>\n",
       "    <tr>\n",
       "      <th>0</th>\n",
       "      <td>21450</td>\n",
       "    </tr>\n",
       "    <tr>\n",
       "      <th>1</th>\n",
       "      <td>163</td>\n",
       "    </tr>\n",
       "  </tbody>\n",
       "</table>\n",
       "</div>"
      ],
      "text/plain": [
       "   waterfront\n",
       "0       21450\n",
       "1         163"
      ]
     },
     "execution_count": 2,
     "metadata": {},
     "output_type": "execute_result"
    }
   ],
   "source": [
    "house['waterfront'].value_counts().to_frame()"
   ]
  },
  {
   "cell_type": "code",
   "execution_count": null,
   "id": "14215286",
   "metadata": {},
   "outputs": [],
   "source": [
    "2. Which zip code is having the costliest house?\n",
    "a. 98456\n",
    "b. 98102\n",
    "c. 98283\n",
    "d. 89034\n",
    "\n",
    "#Ans: b. 98102"
   ]
  },
  {
   "cell_type": "code",
   "execution_count": 138,
   "id": "8aa076fa",
   "metadata": {},
   "outputs": [
    {
     "data": {
      "text/html": [
       "<div>\n",
       "<style scoped>\n",
       "    .dataframe tbody tr th:only-of-type {\n",
       "        vertical-align: middle;\n",
       "    }\n",
       "\n",
       "    .dataframe tbody tr th {\n",
       "        vertical-align: top;\n",
       "    }\n",
       "\n",
       "    .dataframe thead th {\n",
       "        text-align: right;\n",
       "    }\n",
       "</style>\n",
       "<table border=\"1\" class=\"dataframe\">\n",
       "  <thead>\n",
       "    <tr style=\"text-align: right;\">\n",
       "      <th></th>\n",
       "      <th>id</th>\n",
       "      <th>date</th>\n",
       "      <th>price</th>\n",
       "      <th>bedrooms</th>\n",
       "      <th>bathrooms</th>\n",
       "      <th>sqft_living</th>\n",
       "      <th>sqft_lot</th>\n",
       "      <th>floors</th>\n",
       "      <th>waterfront</th>\n",
       "      <th>view</th>\n",
       "      <th>...</th>\n",
       "      <th>sqft_above</th>\n",
       "      <th>sqft_basement</th>\n",
       "      <th>yr_built</th>\n",
       "      <th>yr_renovated</th>\n",
       "      <th>zipcode</th>\n",
       "      <th>lat</th>\n",
       "      <th>long</th>\n",
       "      <th>sqft_living15</th>\n",
       "      <th>sqft_lot15</th>\n",
       "      <th>grade_up</th>\n",
       "    </tr>\n",
       "  </thead>\n",
       "  <tbody>\n",
       "    <tr>\n",
       "      <th>7252</th>\n",
       "      <td>6762700020</td>\n",
       "      <td>20141013T000000</td>\n",
       "      <td>7700000</td>\n",
       "      <td>6</td>\n",
       "      <td>8.0</td>\n",
       "      <td>12050</td>\n",
       "      <td>27600</td>\n",
       "      <td>2.5</td>\n",
       "      <td>0</td>\n",
       "      <td>3</td>\n",
       "      <td>...</td>\n",
       "      <td>8570</td>\n",
       "      <td>3480</td>\n",
       "      <td>1910</td>\n",
       "      <td>1987</td>\n",
       "      <td>98102</td>\n",
       "      <td>47.6298</td>\n",
       "      <td>-122.323</td>\n",
       "      <td>3940</td>\n",
       "      <td>8800</td>\n",
       "      <td>15</td>\n",
       "    </tr>\n",
       "  </tbody>\n",
       "</table>\n",
       "<p>1 rows × 22 columns</p>\n",
       "</div>"
      ],
      "text/plain": [
       "              id             date    price  bedrooms  bathrooms  sqft_living  \\\n",
       "7252  6762700020  20141013T000000  7700000         6        8.0        12050   \n",
       "\n",
       "      sqft_lot  floors  waterfront  view  ...  sqft_above  sqft_basement  \\\n",
       "7252     27600     2.5           0     3  ...        8570           3480   \n",
       "\n",
       "      yr_built  yr_renovated  zipcode      lat     long  sqft_living15  \\\n",
       "7252      1910          1987    98102  47.6298 -122.323           3940   \n",
       "\n",
       "      sqft_lot15  grade_up  \n",
       "7252        8800        15  \n",
       "\n",
       "[1 rows x 22 columns]"
      ]
     },
     "execution_count": 138,
     "metadata": {},
     "output_type": "execute_result"
    }
   ],
   "source": [
    "house.nlargest(1,['price'], keep='first')"
   ]
  },
  {
   "cell_type": "code",
   "execution_count": null,
   "id": "f6bae440",
   "metadata": {},
   "outputs": [],
   "source": [
    "3. How many houses are having grade 10?\n",
    "a. 1133\n",
    "b. 1134\n",
    "c. 1135\n",
    "d. 1132\n",
    "\n",
    "#Ans: b. 1134"
   ]
  },
  {
   "cell_type": "code",
   "execution_count": 27,
   "id": "ca096a55",
   "metadata": {},
   "outputs": [
    {
     "data": {
      "text/plain": [
       "7     8981\n",
       "8     6068\n",
       "9     2615\n",
       "6     2038\n",
       "10    1134\n",
       "11     399\n",
       "5      242\n",
       "12      90\n",
       "4       29\n",
       "13      13\n",
       "3        3\n",
       "1        1\n",
       "Name: grade, dtype: int64"
      ]
     },
     "execution_count": 27,
     "metadata": {},
     "output_type": "execute_result"
    }
   ],
   "source": [
    "house['grade'].value_counts()"
   ]
  },
  {
   "cell_type": "code",
   "execution_count": 29,
   "id": "5220aa9a",
   "metadata": {},
   "outputs": [
    {
     "data": {
      "text/plain": [
       "(1134, 12)"
      ]
     },
     "execution_count": 29,
     "metadata": {},
     "output_type": "execute_result"
    }
   ],
   "source": [
    "house.loc[(house['grade']==10),'id':'grade'].shape"
   ]
  },
  {
   "cell_type": "code",
   "execution_count": null,
   "id": "3f5a5bae",
   "metadata": {},
   "outputs": [],
   "source": [
    "4. How many null values are there in the dataset?\n",
    "a. 20\n",
    "b. 19\n",
    "c. 0\n",
    "d. 4\n",
    "\n",
    "#Ans:c. 0\n"
   ]
  },
  {
   "cell_type": "code",
   "execution_count": null,
   "id": "b07411e6",
   "metadata": {},
   "outputs": [],
   "source": [
    "house.isnull().sum()"
   ]
  },
  {
   "cell_type": "code",
   "execution_count": null,
   "id": "81e33554",
   "metadata": {},
   "outputs": [],
   "source": [
    "5. Does this 9126100861 customer have a waterfront?\n",
    "a. Yes\n",
    "b. No\n",
    "\n",
    "#Ans: b. No"
   ]
  },
  {
   "cell_type": "code",
   "execution_count": 8,
   "id": "b4408836",
   "metadata": {},
   "outputs": [
    {
     "data": {
      "text/html": [
       "<div>\n",
       "<style scoped>\n",
       "    .dataframe tbody tr th:only-of-type {\n",
       "        vertical-align: middle;\n",
       "    }\n",
       "\n",
       "    .dataframe tbody tr th {\n",
       "        vertical-align: top;\n",
       "    }\n",
       "\n",
       "    .dataframe thead th {\n",
       "        text-align: right;\n",
       "    }\n",
       "</style>\n",
       "<table border=\"1\" class=\"dataframe\">\n",
       "  <thead>\n",
       "    <tr style=\"text-align: right;\">\n",
       "      <th></th>\n",
       "      <th>waterfront</th>\n",
       "    </tr>\n",
       "  </thead>\n",
       "  <tbody>\n",
       "    <tr>\n",
       "      <th>400</th>\n",
       "      <td>0</td>\n",
       "    </tr>\n",
       "  </tbody>\n",
       "</table>\n",
       "</div>"
      ],
      "text/plain": [
       "     waterfront\n",
       "400           0"
      ]
     },
     "execution_count": 8,
     "metadata": {},
     "output_type": "execute_result"
    }
   ],
   "source": [
    "house.loc[house['id']==9126100861,['waterfront']]"
   ]
  },
  {
   "cell_type": "code",
   "execution_count": null,
   "id": "176e7bea",
   "metadata": {},
   "outputs": [],
   "source": [
    "6. How many houses are having 3 views?\n",
    "a. 340\n",
    "b. 550\n",
    "c. 510\n",
    "d. 90\n",
    "\n",
    "#Ans: c. 510"
   ]
  },
  {
   "cell_type": "code",
   "execution_count": 17,
   "id": "76fe40c3",
   "metadata": {},
   "outputs": [
    {
     "data": {
      "text/html": [
       "<div>\n",
       "<style scoped>\n",
       "    .dataframe tbody tr th:only-of-type {\n",
       "        vertical-align: middle;\n",
       "    }\n",
       "\n",
       "    .dataframe tbody tr th {\n",
       "        vertical-align: top;\n",
       "    }\n",
       "\n",
       "    .dataframe thead th {\n",
       "        text-align: right;\n",
       "    }\n",
       "</style>\n",
       "<table border=\"1\" class=\"dataframe\">\n",
       "  <thead>\n",
       "    <tr style=\"text-align: right;\">\n",
       "      <th></th>\n",
       "      <th>id</th>\n",
       "    </tr>\n",
       "  </thead>\n",
       "  <tbody>\n",
       "    <tr>\n",
       "      <th>15</th>\n",
       "      <td>9297300055</td>\n",
       "    </tr>\n",
       "    <tr>\n",
       "      <th>60</th>\n",
       "      <td>1516000055</td>\n",
       "    </tr>\n",
       "    <tr>\n",
       "      <th>114</th>\n",
       "      <td>8961960160</td>\n",
       "    </tr>\n",
       "    <tr>\n",
       "      <th>153</th>\n",
       "      <td>7855801670</td>\n",
       "    </tr>\n",
       "    <tr>\n",
       "      <th>216</th>\n",
       "      <td>46100204</td>\n",
       "    </tr>\n",
       "    <tr>\n",
       "      <th>...</th>\n",
       "      <td>...</td>\n",
       "    </tr>\n",
       "    <tr>\n",
       "      <th>21327</th>\n",
       "      <td>7394400080</td>\n",
       "    </tr>\n",
       "    <tr>\n",
       "      <th>21344</th>\n",
       "      <td>8835770170</td>\n",
       "    </tr>\n",
       "    <tr>\n",
       "      <th>21505</th>\n",
       "      <td>9468200109</td>\n",
       "    </tr>\n",
       "    <tr>\n",
       "      <th>21539</th>\n",
       "      <td>8902000201</td>\n",
       "    </tr>\n",
       "    <tr>\n",
       "      <th>21540</th>\n",
       "      <td>715010530</td>\n",
       "    </tr>\n",
       "  </tbody>\n",
       "</table>\n",
       "<p>510 rows × 1 columns</p>\n",
       "</div>"
      ],
      "text/plain": [
       "               id\n",
       "15     9297300055\n",
       "60     1516000055\n",
       "114    8961960160\n",
       "153    7855801670\n",
       "216      46100204\n",
       "...           ...\n",
       "21327  7394400080\n",
       "21344  8835770170\n",
       "21505  9468200109\n",
       "21539  8902000201\n",
       "21540   715010530\n",
       "\n",
       "[510 rows x 1 columns]"
      ]
     },
     "execution_count": 17,
     "metadata": {},
     "output_type": "execute_result"
    }
   ],
   "source": [
    "house.loc[(house['view']==3),['id']]"
   ]
  },
  {
   "cell_type": "code",
   "execution_count": null,
   "id": "ddf3dbca",
   "metadata": {},
   "outputs": [],
   "source": [
    "7. What is the lowest price of the house?\n",
    "a. 45000\n",
    "b. 28000\n",
    "c. 75000\n",
    "d. 25000\n",
    "\n",
    "#Ans: c. 75000"
   ]
  },
  {
   "cell_type": "code",
   "execution_count": 18,
   "id": "bcf69b2f",
   "metadata": {},
   "outputs": [
    {
     "data": {
      "text/plain": [
       "75000"
      ]
     },
     "execution_count": 18,
     "metadata": {},
     "output_type": "execute_result"
    }
   ],
   "source": [
    "house['price'].min()"
   ]
  },
  {
   "cell_type": "code",
   "execution_count": null,
   "id": "74a0d7af",
   "metadata": {},
   "outputs": [],
   "source": [
    "8. Which zip code area is having the cheapest house?\n",
    "a. 98000\n",
    "b. 98022\n",
    "c. 80000\n",
    "d. 94500\n",
    "\n",
    "#Ans:98022"
   ]
  },
  {
   "cell_type": "code",
   "execution_count": 144,
   "id": "d09799b8",
   "metadata": {},
   "outputs": [
    {
     "data": {
      "text/html": [
       "<div>\n",
       "<style scoped>\n",
       "    .dataframe tbody tr th:only-of-type {\n",
       "        vertical-align: middle;\n",
       "    }\n",
       "\n",
       "    .dataframe tbody tr th {\n",
       "        vertical-align: top;\n",
       "    }\n",
       "\n",
       "    .dataframe thead th {\n",
       "        text-align: right;\n",
       "    }\n",
       "</style>\n",
       "<table border=\"1\" class=\"dataframe\">\n",
       "  <thead>\n",
       "    <tr style=\"text-align: right;\">\n",
       "      <th></th>\n",
       "      <th>id</th>\n",
       "      <th>date</th>\n",
       "      <th>price</th>\n",
       "      <th>bedrooms</th>\n",
       "      <th>bathrooms</th>\n",
       "      <th>sqft_living</th>\n",
       "      <th>sqft_lot</th>\n",
       "      <th>floors</th>\n",
       "      <th>waterfront</th>\n",
       "      <th>view</th>\n",
       "      <th>...</th>\n",
       "      <th>sqft_above</th>\n",
       "      <th>sqft_basement</th>\n",
       "      <th>yr_built</th>\n",
       "      <th>yr_renovated</th>\n",
       "      <th>zipcode</th>\n",
       "      <th>lat</th>\n",
       "      <th>long</th>\n",
       "      <th>sqft_living15</th>\n",
       "      <th>sqft_lot15</th>\n",
       "      <th>grade_up</th>\n",
       "    </tr>\n",
       "  </thead>\n",
       "  <tbody>\n",
       "    <tr>\n",
       "      <th>1149</th>\n",
       "      <td>3421079032</td>\n",
       "      <td>20150217T000000</td>\n",
       "      <td>75000</td>\n",
       "      <td>1</td>\n",
       "      <td>0.0</td>\n",
       "      <td>670</td>\n",
       "      <td>43377</td>\n",
       "      <td>1.0</td>\n",
       "      <td>0</td>\n",
       "      <td>0</td>\n",
       "      <td>...</td>\n",
       "      <td>670</td>\n",
       "      <td>0</td>\n",
       "      <td>1966</td>\n",
       "      <td>0</td>\n",
       "      <td>98022</td>\n",
       "      <td>47.2638</td>\n",
       "      <td>-121.906</td>\n",
       "      <td>1160</td>\n",
       "      <td>42882</td>\n",
       "      <td>5</td>\n",
       "    </tr>\n",
       "  </tbody>\n",
       "</table>\n",
       "<p>1 rows × 22 columns</p>\n",
       "</div>"
      ],
      "text/plain": [
       "              id             date  price  bedrooms  bathrooms  sqft_living  \\\n",
       "1149  3421079032  20150217T000000  75000         1        0.0          670   \n",
       "\n",
       "      sqft_lot  floors  waterfront  view  ...  sqft_above  sqft_basement  \\\n",
       "1149     43377     1.0           0     0  ...         670              0   \n",
       "\n",
       "      yr_built  yr_renovated  zipcode      lat     long  sqft_living15  \\\n",
       "1149      1966             0    98022  47.2638 -121.906           1160   \n",
       "\n",
       "      sqft_lot15  grade_up  \n",
       "1149       42882         5  \n",
       "\n",
       "[1 rows x 22 columns]"
      ]
     },
     "execution_count": 144,
     "metadata": {},
     "output_type": "execute_result"
    }
   ],
   "source": [
    "house.nsmallest(1,['price'], keep='first')"
   ]
  },
  {
   "cell_type": "code",
   "execution_count": null,
   "id": "52e79dde",
   "metadata": {},
   "outputs": [],
   "source": [
    "9. Which area is having the biggest sqft_living?\n",
    "a. 98053\n",
    "b. 98055\n",
    "c. 98035\n",
    "d. None of the above\n",
    "\n",
    "#Ans: a. 98053"
   ]
  },
  {
   "cell_type": "code",
   "execution_count": 153,
   "id": "9f5340ca",
   "metadata": {},
   "outputs": [
    {
     "data": {
      "text/html": [
       "<div>\n",
       "<style scoped>\n",
       "    .dataframe tbody tr th:only-of-type {\n",
       "        vertical-align: middle;\n",
       "    }\n",
       "\n",
       "    .dataframe tbody tr th {\n",
       "        vertical-align: top;\n",
       "    }\n",
       "\n",
       "    .dataframe thead th {\n",
       "        text-align: right;\n",
       "    }\n",
       "</style>\n",
       "<table border=\"1\" class=\"dataframe\">\n",
       "  <thead>\n",
       "    <tr style=\"text-align: right;\">\n",
       "      <th></th>\n",
       "      <th>id</th>\n",
       "      <th>date</th>\n",
       "      <th>price</th>\n",
       "      <th>bedrooms</th>\n",
       "      <th>bathrooms</th>\n",
       "      <th>sqft_living</th>\n",
       "      <th>sqft_lot</th>\n",
       "      <th>floors</th>\n",
       "      <th>waterfront</th>\n",
       "      <th>view</th>\n",
       "      <th>...</th>\n",
       "      <th>sqft_above</th>\n",
       "      <th>sqft_basement</th>\n",
       "      <th>yr_built</th>\n",
       "      <th>yr_renovated</th>\n",
       "      <th>zipcode</th>\n",
       "      <th>lat</th>\n",
       "      <th>long</th>\n",
       "      <th>sqft_living15</th>\n",
       "      <th>sqft_lot15</th>\n",
       "      <th>grade_up</th>\n",
       "    </tr>\n",
       "  </thead>\n",
       "  <tbody>\n",
       "    <tr>\n",
       "      <th>12777</th>\n",
       "      <td>1225069038</td>\n",
       "      <td>20140505T000000</td>\n",
       "      <td>2280000</td>\n",
       "      <td>7</td>\n",
       "      <td>8.0</td>\n",
       "      <td>13540</td>\n",
       "      <td>307752</td>\n",
       "      <td>3.0</td>\n",
       "      <td>0</td>\n",
       "      <td>4</td>\n",
       "      <td>...</td>\n",
       "      <td>9410</td>\n",
       "      <td>4130</td>\n",
       "      <td>1999</td>\n",
       "      <td>0</td>\n",
       "      <td>98053</td>\n",
       "      <td>47.6675</td>\n",
       "      <td>-121.986</td>\n",
       "      <td>4850</td>\n",
       "      <td>217800</td>\n",
       "      <td>14</td>\n",
       "    </tr>\n",
       "  </tbody>\n",
       "</table>\n",
       "<p>1 rows × 22 columns</p>\n",
       "</div>"
      ],
      "text/plain": [
       "               id             date    price  bedrooms  bathrooms  sqft_living  \\\n",
       "12777  1225069038  20140505T000000  2280000         7        8.0        13540   \n",
       "\n",
       "       sqft_lot  floors  waterfront  view  ...  sqft_above  sqft_basement  \\\n",
       "12777    307752     3.0           0     4  ...        9410           4130   \n",
       "\n",
       "       yr_built  yr_renovated  zipcode      lat     long  sqft_living15  \\\n",
       "12777      1999             0    98053  47.6675 -121.986           4850   \n",
       "\n",
       "       sqft_lot15  grade_up  \n",
       "12777      217800        14  \n",
       "\n",
       "[1 rows x 22 columns]"
      ]
     },
     "execution_count": 153,
     "metadata": {},
     "output_type": "execute_result"
    }
   ],
   "source": [
    "house.nlargest(1,['sqft_living','zipcode'], keep='first')"
   ]
  },
  {
   "cell_type": "code",
   "execution_count": null,
   "id": "4436a6c8",
   "metadata": {},
   "outputs": [],
   "source": [
    "10. In which year the costliest house has been built?\n",
    "a. 2000\n",
    "b. 1992\n",
    "c. 1911\n",
    "d. 1910\n",
    "\n",
    "# Ans: d. 1910"
   ]
  },
  {
   "cell_type": "code",
   "execution_count": 19,
   "id": "40d542aa",
   "metadata": {},
   "outputs": [
    {
     "data": {
      "text/html": [
       "<div>\n",
       "<style scoped>\n",
       "    .dataframe tbody tr th:only-of-type {\n",
       "        vertical-align: middle;\n",
       "    }\n",
       "\n",
       "    .dataframe tbody tr th {\n",
       "        vertical-align: top;\n",
       "    }\n",
       "\n",
       "    .dataframe thead th {\n",
       "        text-align: right;\n",
       "    }\n",
       "</style>\n",
       "<table border=\"1\" class=\"dataframe\">\n",
       "  <thead>\n",
       "    <tr style=\"text-align: right;\">\n",
       "      <th></th>\n",
       "      <th>yr_built</th>\n",
       "      <th>price</th>\n",
       "    </tr>\n",
       "  </thead>\n",
       "  <tbody>\n",
       "    <tr>\n",
       "      <th>7252</th>\n",
       "      <td>1910</td>\n",
       "      <td>7700000</td>\n",
       "    </tr>\n",
       "  </tbody>\n",
       "</table>\n",
       "</div>"
      ],
      "text/plain": [
       "      yr_built    price\n",
       "7252      1910  7700000"
      ]
     },
     "execution_count": 19,
     "metadata": {},
     "output_type": "execute_result"
    }
   ],
   "source": [
    "house = house [['yr_built','price']][house.price==house['price'].max()]\n",
    "house"
   ]
  },
  {
   "cell_type": "code",
   "execution_count": null,
   "id": "25ac35c0",
   "metadata": {},
   "outputs": [],
   "source": [
    "11. Which of the following data types can a Pandas Series have?\n",
    "a. Int\n",
    "b. Str\n",
    "c. Float\n",
    "d. All of the above\n",
    "\n",
    "#Ans: d. All of the above"
   ]
  },
  {
   "cell_type": "code",
   "execution_count": null,
   "id": "159eae89",
   "metadata": {},
   "outputs": [],
   "source": [
    "df = pd.DataFrame({'A':[41, 23, 56], 'B':[1, '2021-01-01', 34.34], 'C':[1.3, 3.23, 267.3]})\n",
    "\n",
    "print(\"DataFrame:\")\n",
    "print(df)\n",
    "\n",
    "\n",
    "# apply the dtype attribute\n",
    "result = df.dtypes\n",
    "\n",
    "print(\"Output:\")\n",
    "print(result)"
   ]
  },
  {
   "cell_type": "code",
   "execution_count": null,
   "id": "cd6d10ca",
   "metadata": {},
   "outputs": [],
   "source": [
    "12. Which of the following is having a one-dimensional array?\n",
    "a. Series data type\n",
    "b. DataFrame data type\n",
    "c. Both of the above\n",
    "d. None of the above\n",
    "\n",
    "\n",
    "#Ans:  a. Series data type"
   ]
  },
  {
   "cell_type": "code",
   "execution_count": null,
   "id": "8edb169a",
   "metadata": {},
   "outputs": [],
   "source": [
    "13. What value you will get on the left side after printing a series format data?\n",
    "a. Data\n",
    "b. Value\n",
    "c. Index\n",
    "d. All of the above\n",
    "\n",
    "#Ans: c. Index"
   ]
  },
  {
   "cell_type": "code",
   "execution_count": null,
   "id": "58f95c15",
   "metadata": {},
   "outputs": [],
   "source": [
    "series1 = pd.Series([10,20,30])\n",
    "\n",
    "print(series1)\n"
   ]
  },
  {
   "cell_type": "code",
   "execution_count": null,
   "id": "05e51ba7",
   "metadata": {},
   "outputs": [],
   "source": [
    "14. Which of the following is considered as data in pandas?\n",
    "a. Dictionary\n",
    "b. Boolean\n",
    "c. Nd-array\n",
    "d. All of the above\n",
    "\n",
    "#Ans: d. All of the above"
   ]
  },
  {
   "cell_type": "code",
   "execution_count": null,
   "id": "43066074",
   "metadata": {},
   "outputs": [],
   "source": [
    "15. In what format the keys will get converted into when we convert the dictionary data into\n",
    "data frame format?\n",
    "a. Rows\n",
    "b. Columns\n",
    "c. Indexes\n",
    "d. Records\n",
    "\n",
    "# Ans: b. Columns"
   ]
  },
  {
   "cell_type": "code",
   "execution_count": null,
   "id": "0028ea72",
   "metadata": {},
   "outputs": [],
   "source": [
    "details = {'Name': ['Nick', 'David', 'Joe', 'John'],\n",
    "        'Age': ['5', '10', '7', '36']} \n",
    "new = pd.DataFrame.from_dict(details)  \n",
    "new"
   ]
  },
  {
   "cell_type": "code",
   "execution_count": null,
   "id": "84513bad",
   "metadata": {},
   "outputs": [],
   "source": [
    "16. Write a function to perform the following operation:\n",
    "Increase the grade of the house by 1 if the sqft of the house is greater than 0 and less than\n",
    "equal to 400. If the total sqft of the house is greater than 400, increase the grade of the house\n",
    "by 2.\n",
    "After creating the above function, which syntax will be using when using apply function to run\n",
    "the above created function in the dataset?\n",
    "a. data.apply(your_function_name(arg1))\n",
    "b. data.apply_fun(function_name())\n",
    "c. data.app(data)\n",
    "d. None of the above\n",
    "\n",
    "# Ans: a. data.apply(your_function_name(arg1))"
   ]
  },
  {
   "cell_type": "code",
   "execution_count": 110,
   "id": "35b8dc50",
   "metadata": {},
   "outputs": [
    {
     "data": {
      "text/html": [
       "<div>\n",
       "<style scoped>\n",
       "    .dataframe tbody tr th:only-of-type {\n",
       "        vertical-align: middle;\n",
       "    }\n",
       "\n",
       "    .dataframe tbody tr th {\n",
       "        vertical-align: top;\n",
       "    }\n",
       "\n",
       "    .dataframe thead th {\n",
       "        text-align: right;\n",
       "    }\n",
       "</style>\n",
       "<table border=\"1\" class=\"dataframe\">\n",
       "  <thead>\n",
       "    <tr style=\"text-align: right;\">\n",
       "      <th></th>\n",
       "      <th>sqft_living</th>\n",
       "      <th>grade</th>\n",
       "    </tr>\n",
       "  </thead>\n",
       "  <tbody>\n",
       "    <tr>\n",
       "      <th>0</th>\n",
       "      <td>1180</td>\n",
       "      <td>7</td>\n",
       "    </tr>\n",
       "    <tr>\n",
       "      <th>1</th>\n",
       "      <td>2570</td>\n",
       "      <td>7</td>\n",
       "    </tr>\n",
       "    <tr>\n",
       "      <th>2</th>\n",
       "      <td>770</td>\n",
       "      <td>6</td>\n",
       "    </tr>\n",
       "    <tr>\n",
       "      <th>3</th>\n",
       "      <td>1960</td>\n",
       "      <td>7</td>\n",
       "    </tr>\n",
       "    <tr>\n",
       "      <th>4</th>\n",
       "      <td>1680</td>\n",
       "      <td>8</td>\n",
       "    </tr>\n",
       "    <tr>\n",
       "      <th>...</th>\n",
       "      <td>...</td>\n",
       "      <td>...</td>\n",
       "    </tr>\n",
       "    <tr>\n",
       "      <th>21608</th>\n",
       "      <td>1530</td>\n",
       "      <td>8</td>\n",
       "    </tr>\n",
       "    <tr>\n",
       "      <th>21609</th>\n",
       "      <td>2310</td>\n",
       "      <td>8</td>\n",
       "    </tr>\n",
       "    <tr>\n",
       "      <th>21610</th>\n",
       "      <td>1020</td>\n",
       "      <td>7</td>\n",
       "    </tr>\n",
       "    <tr>\n",
       "      <th>21611</th>\n",
       "      <td>1600</td>\n",
       "      <td>8</td>\n",
       "    </tr>\n",
       "    <tr>\n",
       "      <th>21612</th>\n",
       "      <td>1020</td>\n",
       "      <td>7</td>\n",
       "    </tr>\n",
       "  </tbody>\n",
       "</table>\n",
       "<p>21613 rows × 2 columns</p>\n",
       "</div>"
      ],
      "text/plain": [
       "       sqft_living  grade\n",
       "0             1180      7\n",
       "1             2570      7\n",
       "2              770      6\n",
       "3             1960      7\n",
       "4             1680      8\n",
       "...            ...    ...\n",
       "21608         1530      8\n",
       "21609         2310      8\n",
       "21610         1020      7\n",
       "21611         1600      8\n",
       "21612         1020      7\n",
       "\n",
       "[21613 rows x 2 columns]"
      ]
     },
     "execution_count": 110,
     "metadata": {},
     "output_type": "execute_result"
    }
   ],
   "source": [
    "house.loc[:,['sqft_living','grade']]"
   ]
  },
  {
   "cell_type": "code",
   "execution_count": 122,
   "id": "a08fbba8",
   "metadata": {},
   "outputs": [],
   "source": [
    "def add_grade(row):\n",
    "    sqft_living=row[0]\n",
    "    grade=row[1]\n",
    "    if sqft_living > 0 and sqft_living <= 400:\n",
    "        return grade + 1\n",
    "    else:\n",
    "        return grade + 2\n",
    "    return grade"
   ]
  },
  {
   "cell_type": "code",
   "execution_count": 128,
   "id": "cb378833",
   "metadata": {},
   "outputs": [],
   "source": [
    "house['grade_up']=house.loc[:,['sqft_living','grade']].apply(add_grade, axis=1)"
   ]
  },
  {
   "cell_type": "code",
   "execution_count": 132,
   "id": "75ed087f",
   "metadata": {},
   "outputs": [
    {
     "data": {
      "text/html": [
       "<div>\n",
       "<style scoped>\n",
       "    .dataframe tbody tr th:only-of-type {\n",
       "        vertical-align: middle;\n",
       "    }\n",
       "\n",
       "    .dataframe tbody tr th {\n",
       "        vertical-align: top;\n",
       "    }\n",
       "\n",
       "    .dataframe thead th {\n",
       "        text-align: right;\n",
       "    }\n",
       "</style>\n",
       "<table border=\"1\" class=\"dataframe\">\n",
       "  <thead>\n",
       "    <tr style=\"text-align: right;\">\n",
       "      <th></th>\n",
       "      <th>sqft_living</th>\n",
       "      <th>grade</th>\n",
       "      <th>grade_up</th>\n",
       "    </tr>\n",
       "  </thead>\n",
       "  <tbody>\n",
       "    <tr>\n",
       "      <th>0</th>\n",
       "      <td>1180</td>\n",
       "      <td>7</td>\n",
       "      <td>9</td>\n",
       "    </tr>\n",
       "    <tr>\n",
       "      <th>1</th>\n",
       "      <td>2570</td>\n",
       "      <td>7</td>\n",
       "      <td>9</td>\n",
       "    </tr>\n",
       "    <tr>\n",
       "      <th>2</th>\n",
       "      <td>770</td>\n",
       "      <td>6</td>\n",
       "      <td>8</td>\n",
       "    </tr>\n",
       "    <tr>\n",
       "      <th>3</th>\n",
       "      <td>1960</td>\n",
       "      <td>7</td>\n",
       "      <td>9</td>\n",
       "    </tr>\n",
       "    <tr>\n",
       "      <th>4</th>\n",
       "      <td>1680</td>\n",
       "      <td>8</td>\n",
       "      <td>10</td>\n",
       "    </tr>\n",
       "    <tr>\n",
       "      <th>...</th>\n",
       "      <td>...</td>\n",
       "      <td>...</td>\n",
       "      <td>...</td>\n",
       "    </tr>\n",
       "    <tr>\n",
       "      <th>21608</th>\n",
       "      <td>1530</td>\n",
       "      <td>8</td>\n",
       "      <td>10</td>\n",
       "    </tr>\n",
       "    <tr>\n",
       "      <th>21609</th>\n",
       "      <td>2310</td>\n",
       "      <td>8</td>\n",
       "      <td>10</td>\n",
       "    </tr>\n",
       "    <tr>\n",
       "      <th>21610</th>\n",
       "      <td>1020</td>\n",
       "      <td>7</td>\n",
       "      <td>9</td>\n",
       "    </tr>\n",
       "    <tr>\n",
       "      <th>21611</th>\n",
       "      <td>1600</td>\n",
       "      <td>8</td>\n",
       "      <td>10</td>\n",
       "    </tr>\n",
       "    <tr>\n",
       "      <th>21612</th>\n",
       "      <td>1020</td>\n",
       "      <td>7</td>\n",
       "      <td>9</td>\n",
       "    </tr>\n",
       "  </tbody>\n",
       "</table>\n",
       "<p>21613 rows × 3 columns</p>\n",
       "</div>"
      ],
      "text/plain": [
       "       sqft_living  grade  grade_up\n",
       "0             1180      7         9\n",
       "1             2570      7         9\n",
       "2              770      6         8\n",
       "3             1960      7         9\n",
       "4             1680      8        10\n",
       "...            ...    ...       ...\n",
       "21608         1530      8        10\n",
       "21609         2310      8        10\n",
       "21610         1020      7         9\n",
       "21611         1600      8        10\n",
       "21612         1020      7         9\n",
       "\n",
       "[21613 rows x 3 columns]"
      ]
     },
     "execution_count": 132,
     "metadata": {},
     "output_type": "execute_result"
    }
   ],
   "source": [
    "house.loc[:,['sqft_living','grade','grade_up']]"
   ]
  },
  {
   "cell_type": "code",
   "execution_count": null,
   "id": "38350653",
   "metadata": {},
   "outputs": [],
   "source": [
    "17. How to check the duplicate values on id,grade and location?\n",
    "a. house.duplicated(subset=['id','zipcode','grade'])\n",
    "b. house.duplicate(subset=['id','zipcode','grade'])\n",
    "c. house.duplicated({'id','zipcode','grade'})\n",
    "d. All of the above\n",
    "\n",
    "#Ans: a. house.duplicated(subset=['id','zipcode','grade'])\n"
   ]
  },
  {
   "cell_type": "code",
   "execution_count": null,
   "id": "cec37069",
   "metadata": {},
   "outputs": [],
   "source": [
    "house.duplicated(subset=['id','zipcode','grade'])"
   ]
  },
  {
   "cell_type": "code",
   "execution_count": null,
   "id": "3b5f91b5",
   "metadata": {},
   "outputs": [],
   "source": [
    "18. Which of the following code will help to display the 3rd, 4th and 5th rows from the 6th to 9th\n",
    "columns of a data frame data?\n",
    "a. data.loc[3:6, 6:10]\n",
    "b. data.iloc[3;6,6;10]\n",
    "c. data.iloc[3:6,6:10]\n",
    "d. None of the above\n",
    "\n",
    "#Ans: c. data.iloc[3:6,6:10]"
   ]
  },
  {
   "cell_type": "code",
   "execution_count": null,
   "id": "f3a522ac",
   "metadata": {},
   "outputs": [],
   "source": [
    "house.iloc[3:6,6:10]"
   ]
  },
  {
   "cell_type": "code",
   "execution_count": null,
   "id": "1cb6e814",
   "metadata": {},
   "outputs": [],
   "source": [
    "19. Which of the following syntax will display the last two records of house?\n",
    "import pandas as pd\n",
    "house = pd.DataFrame({'A':[34, 78, 54], 'B':[12, 67, 43]}, index=['r1', 'r2', 'r3'])\n",
    "a. house.iloc[:'r3']\n",
    "b. house.loc['r2':'r3']\n",
    "c. house.iloc['r2':'r3']\n",
    "d. house.loc[:'r3']\n",
    "\n",
    "#Ans: b. house.loc['r2':'r3']"
   ]
  },
  {
   "cell_type": "code",
   "execution_count": null,
   "id": "881e9afc",
   "metadata": {},
   "outputs": [],
   "source": [
    "import pandas as pd\n",
    "house = pd.DataFrame({'A':[34, 78, 54], 'B':[12, 67, 43]}, index=['r1', 'r2', 'r3'])\n",
    "print(house)\n",
    "house.loc['r2':'r3']"
   ]
  },
  {
   "cell_type": "code",
   "execution_count": null,
   "id": "18ae2fd5",
   "metadata": {},
   "outputs": [],
   "source": [
    "20. Which of the following is/are true about loc in pandas:\n",
    "a. Add new rows in the data frames\n",
    "b. To change the values of a row to a particular value\n",
    "c. To extract values from the particular rows\n",
    "d. All of the above\n",
    "\n",
    "#Ans: d. All of the above"
   ]
  },
  {
   "cell_type": "code",
   "execution_count": null,
   "id": "cf7482c8",
   "metadata": {},
   "outputs": [],
   "source": [
    "21. Change the date column in the format (dd/mm/year) using the pandas to_datetime()\n",
    "function."
   ]
  },
  {
   "cell_type": "code",
   "execution_count": null,
   "id": "0aac00bf",
   "metadata": {},
   "outputs": [],
   "source": [
    "house['date'] = pd.to_datetime(house['date']).dt.strftime('%d-%m-%Y')\n",
    "house"
   ]
  },
  {
   "cell_type": "code",
   "execution_count": null,
   "id": "ecae649a",
   "metadata": {},
   "outputs": [],
   "source": [
    "pd.to_datetime(data['date'], format='%Y-%m-%d', utc=False, dayfirst=True)"
   ]
  },
  {
   "cell_type": "code",
   "execution_count": null,
   "id": "aa6c51aa",
   "metadata": {},
   "outputs": [],
   "source": [
    "22. Create a separate data frame that satisfies the conditions below.\n",
    "1. Houses built before 1980\n",
    "2. Have more than 2 bedrooms\n",
    "3. Have more than 2 floors."
   ]
  },
  {
   "cell_type": "code",
   "execution_count": null,
   "id": "ff27379b",
   "metadata": {},
   "outputs": [],
   "source": [
    "h_2bf80=house.loc[(house['yr_built']<1980) & (house['bedrooms']>2) & (house['floors']>2)]\n",
    "h_2bf80"
   ]
  },
  {
   "cell_type": "code",
   "execution_count": null,
   "id": "3f341c82",
   "metadata": {},
   "outputs": [],
   "source": [
    "23. For a given nested list, convert the same into a dataframe.\n",
    "sample_list = [['Carl', 22],\n",
    "['Martha', 25],\n",
    "['Calvin', 12],\n",
    "['Stuart', 15]\n",
    "]\n",
    "The resulting dataframe must contain the column names as ‘Name’, and ‘Age’ with the\n",
    "respective values from the sample_list.\n",
    "Expected Output:"
   ]
  },
  {
   "cell_type": "code",
   "execution_count": null,
   "id": "28c452ca",
   "metadata": {},
   "outputs": [],
   "source": [
    "info=[['Carl', 22],\n",
    "['Martha', 25],\n",
    "['Calvin', 12],\n",
    "['Stuart', 15]\n",
    "]\n",
    "info\n",
    "n_lst_df = pd.DataFrame(info, columns=['Name', 'Age'])\n",
    "n_lst_df"
   ]
  },
  {
   "cell_type": "code",
   "execution_count": null,
   "id": "5040a141",
   "metadata": {},
   "outputs": [],
   "source": [
    "24. For a given dictionary, convert the same into a dataframe.\n",
    "sample_dict = {'Cristiano': ['Ronaldo','Man U', 801],\n",
    "'Lionel': ['Messi','PSG', 758],\n",
    "'Luis': ['Suarez','Atletico Madrid', 509],\n",
    "'Robert': ['Lewandowski','Bayern Munich', 527],\n",
    "'Zlatan': ['Ibrahimovic','AC Milan',553]\n",
    "}\n",
    "Expected Output:"
   ]
  },
  {
   "cell_type": "code",
   "execution_count": 2,
   "id": "9f3b811d",
   "metadata": {},
   "outputs": [
    {
     "data": {
      "text/html": [
       "<div>\n",
       "<style scoped>\n",
       "    .dataframe tbody tr th:only-of-type {\n",
       "        vertical-align: middle;\n",
       "    }\n",
       "\n",
       "    .dataframe tbody tr th {\n",
       "        vertical-align: top;\n",
       "    }\n",
       "\n",
       "    .dataframe thead th {\n",
       "        text-align: right;\n",
       "    }\n",
       "</style>\n",
       "<table border=\"1\" class=\"dataframe\">\n",
       "  <thead>\n",
       "    <tr style=\"text-align: right;\">\n",
       "      <th></th>\n",
       "      <th>Cristiano</th>\n",
       "      <th>Lionel</th>\n",
       "      <th>Luis</th>\n",
       "      <th>Robert</th>\n",
       "      <th>Zlatan</th>\n",
       "    </tr>\n",
       "  </thead>\n",
       "  <tbody>\n",
       "    <tr>\n",
       "      <th>0</th>\n",
       "      <td>[Ronaldo, Man U, 801]</td>\n",
       "      <td>[Messi, PSG, 758]</td>\n",
       "      <td>[Suarez, Atletico Madrid, 509]</td>\n",
       "      <td>[Lewandowski, Bayern Munich, 527]</td>\n",
       "      <td>[Ibrahimovic, AC Milan, 553]</td>\n",
       "    </tr>\n",
       "  </tbody>\n",
       "</table>\n",
       "</div>"
      ],
      "text/plain": [
       "               Cristiano             Lionel                            Luis  \\\n",
       "0  [Ronaldo, Man U, 801]  [Messi, PSG, 758]  [Suarez, Atletico Madrid, 509]   \n",
       "\n",
       "                              Robert                        Zlatan  \n",
       "0  [Lewandowski, Bayern Munich, 527]  [Ibrahimovic, AC Milan, 553]  "
      ]
     },
     "execution_count": 2,
     "metadata": {},
     "output_type": "execute_result"
    }
   ],
   "source": [
    "import pandas as pd\n",
    "dic={'Cristiano': ['Ronaldo','Man U', 801],\n",
    "'Lionel': ['Messi','PSG', 758],\n",
    "'Luis': ['Suarez','Atletico Madrid', 509],\n",
    "'Robert': ['Lewandowski','Bayern Munich', 527],\n",
    "'Zlatan': ['Ibrahimovic','AC Milan',553]\n",
    "}\n",
    "dic\n",
    "dic_df=pd.DataFrame([dic])\n",
    "dic_df"
   ]
  },
  {
   "cell_type": "code",
   "execution_count": 10,
   "id": "d3b7ef83",
   "metadata": {},
   "outputs": [],
   "source": [
    "df1 = pd.DataFrame(dic) \n",
    "df1 = df1.transpose() \n",
    "df1.reset_index(inplace = True) \n",
    "df1.columns = ['First Name','Last Name', 'Club', 'Goals']"
   ]
  },
  {
   "cell_type": "code",
   "execution_count": 11,
   "id": "ccfe5f41",
   "metadata": {},
   "outputs": [
    {
     "data": {
      "text/html": [
       "<div>\n",
       "<style scoped>\n",
       "    .dataframe tbody tr th:only-of-type {\n",
       "        vertical-align: middle;\n",
       "    }\n",
       "\n",
       "    .dataframe tbody tr th {\n",
       "        vertical-align: top;\n",
       "    }\n",
       "\n",
       "    .dataframe thead th {\n",
       "        text-align: right;\n",
       "    }\n",
       "</style>\n",
       "<table border=\"1\" class=\"dataframe\">\n",
       "  <thead>\n",
       "    <tr style=\"text-align: right;\">\n",
       "      <th></th>\n",
       "      <th>First Name</th>\n",
       "      <th>Last Name</th>\n",
       "      <th>Club</th>\n",
       "      <th>Goals</th>\n",
       "    </tr>\n",
       "  </thead>\n",
       "  <tbody>\n",
       "    <tr>\n",
       "      <th>0</th>\n",
       "      <td>Cristiano</td>\n",
       "      <td>Ronaldo</td>\n",
       "      <td>Man U</td>\n",
       "      <td>801</td>\n",
       "    </tr>\n",
       "    <tr>\n",
       "      <th>1</th>\n",
       "      <td>Lionel</td>\n",
       "      <td>Messi</td>\n",
       "      <td>PSG</td>\n",
       "      <td>758</td>\n",
       "    </tr>\n",
       "    <tr>\n",
       "      <th>2</th>\n",
       "      <td>Luis</td>\n",
       "      <td>Suarez</td>\n",
       "      <td>Atletico Madrid</td>\n",
       "      <td>509</td>\n",
       "    </tr>\n",
       "    <tr>\n",
       "      <th>3</th>\n",
       "      <td>Robert</td>\n",
       "      <td>Lewandowski</td>\n",
       "      <td>Bayern Munich</td>\n",
       "      <td>527</td>\n",
       "    </tr>\n",
       "    <tr>\n",
       "      <th>4</th>\n",
       "      <td>Zlatan</td>\n",
       "      <td>Ibrahimovic</td>\n",
       "      <td>AC Milan</td>\n",
       "      <td>553</td>\n",
       "    </tr>\n",
       "  </tbody>\n",
       "</table>\n",
       "</div>"
      ],
      "text/plain": [
       "  First Name    Last Name             Club Goals\n",
       "0  Cristiano      Ronaldo            Man U   801\n",
       "1     Lionel        Messi              PSG   758\n",
       "2       Luis       Suarez  Atletico Madrid   509\n",
       "3     Robert  Lewandowski    Bayern Munich   527\n",
       "4     Zlatan  Ibrahimovic         AC Milan   553"
      ]
     },
     "execution_count": 11,
     "metadata": {},
     "output_type": "execute_result"
    }
   ],
   "source": [
    "df1"
   ]
  },
  {
   "cell_type": "code",
   "execution_count": null,
   "id": "5f2fe6fc",
   "metadata": {},
   "outputs": [],
   "source": [
    "25. For a given tuple, convert the same into a dataframe.\n",
    "sample_tuple = ([1, 'one', 3],\n",
    "[2, 'two', 3],\n",
    "[3, 'Three', 5],\n",
    "[4, 'Four', 4],\n",
    "[5, 'Five', 4])\n",
    "Expected output:"
   ]
  },
  {
   "cell_type": "code",
   "execution_count": null,
   "id": "64ba7dfc",
   "metadata": {},
   "outputs": [],
   "source": [
    "tup=([1, 'one', 3],\n",
    "        [2, 'two', 3],\n",
    "        [3, 'Three', 5],\n",
    "        [4, 'Four', 4],\n",
    "        [5, 'Five', 4])\n",
    "tup\n",
    "tup_df=pd.DataFrame(list(tup), columns=['A','B','C'], index=[0,1,2,3,4])\n",
    "tup_df"
   ]
  },
  {
   "cell_type": "code",
   "execution_count": null,
   "id": "1017ab08",
   "metadata": {},
   "outputs": [],
   "source": [
    "pd.DataFrame(sample_tuple, columns=['Number', 'Number_text', 'txtlen'])"
   ]
  },
  {
   "cell_type": "code",
   "execution_count": null,
   "id": "8a42b183",
   "metadata": {},
   "outputs": [],
   "source": [
    "26. Create a separate dataframe that contains houses ordered in ascending or descending\n",
    "order of the prices of each house."
   ]
  },
  {
   "cell_type": "code",
   "execution_count": null,
   "id": "d019ee0c",
   "metadata": {},
   "outputs": [],
   "source": [
    "descprice_house=house.sort_values(by=[\"price\"], ascending = False,inplace=False)\n",
    "descprice_house"
   ]
  },
  {
   "cell_type": "code",
   "execution_count": null,
   "id": "061d8b59",
   "metadata": {},
   "outputs": [],
   "source": [
    "ascprice_house=house.sort_values(by=[\"price\"],inplace=False)\n",
    "ascprice_house"
   ]
  },
  {
   "cell_type": "code",
   "execution_count": null,
   "id": "23ad70cc",
   "metadata": {},
   "outputs": [],
   "source": [
    "ascending = housing.sort_values('price', ascending=False) descending = housing.sort_values('price', ascending=False)"
   ]
  },
  {
   "cell_type": "code",
   "execution_count": null,
   "id": "f35152bf",
   "metadata": {},
   "outputs": [],
   "source": [
    "27. Calculate the mean and standard deviation of all the numerical values in the dataset. For\n",
    "example - the mean for the bedrooms column is 3.370 and the standard deviation is 0.930."
   ]
  },
  {
   "cell_type": "code",
   "execution_count": null,
   "id": "a42eb4a6",
   "metadata": {},
   "outputs": [],
   "source": [
    "num_house=house.drop(['id'],axis=1,inplace=False)\n",
    "num_house.describe()"
   ]
  },
  {
   "cell_type": "code",
   "execution_count": null,
   "id": "5626ff15",
   "metadata": {},
   "outputs": [],
   "source": [
    "28. Perform the following operations on the pandas dataframe.\n",
    "1. Get the data starting from the rows 25 to 35.\n",
    "2. Get the price of the houses located at the longitude--122.045 latitude- 47.6168."
   ]
  },
  {
   "cell_type": "code",
   "execution_count": null,
   "id": "10ac37ab",
   "metadata": {},
   "outputs": [],
   "source": [
    "#1. Get the data starting from the rows 25 to 35\n",
    "house.iloc[25:36,:]"
   ]
  },
  {
   "cell_type": "code",
   "execution_count": null,
   "id": "8544a7c7",
   "metadata": {},
   "outputs": [],
   "source": [
    "#2. Get the price of the houses located at the longitude--122.045 latitude- 47.6168.\n",
    "#house.loc[house['id']=='9126100861',['waterfront']]\n",
    "houz=house.loc[(house['long']==-122.045) & (house['lat']==47.6168)].head()\n",
    "houz.iloc[:,2]"
   ]
  },
  {
   "cell_type": "code",
   "execution_count": null,
   "id": "02ad89a6",
   "metadata": {},
   "outputs": [],
   "source": [
    "data[25:35], data.loc[(housing[\"lat\"] == 47.6168) | (data[\"long\"] == -122.045)]"
   ]
  },
  {
   "cell_type": "code",
   "execution_count": null,
   "id": "b8152b47",
   "metadata": {},
   "outputs": [],
   "source": [
    "29. Create a new dataframe after dropping all the columns except, date, price, and floor\n",
    "area(sqft_living, sqft_lot, sqft_above, sqft_basement, all combined in one column).\n",
    "Expected output:"
   ]
  },
  {
   "cell_type": "code",
   "execution_count": null,
   "id": "203c3011",
   "metadata": {},
   "outputs": [],
   "source": [
    "filt_house['floorarea'] = filt_house[filt_house.columns[2:6]].apply(\n",
    "    lambda x: ','.join(x.astype(str)),axis=1)\n",
    "filt_house=filt_house.drop(['sqft_living','sqft_lot','sqft_above','sqft_basement'],axis=1,inplace=False)\n",
    "filt_house"
   ]
  },
  {
   "cell_type": "code",
   "execution_count": null,
   "id": "98a746e5",
   "metadata": {},
   "outputs": [],
   "source": [
    "data['Floor Area'] = data['sqft_living', 'sqft_lot','sqft_basement','sqft_above']"
   ]
  },
  {
   "cell_type": "code",
   "execution_count": null,
   "id": "d9f61387",
   "metadata": {},
   "outputs": [],
   "source": [
    "30. Perform the following operations on the dataframes given below.\n",
    "A = pd.DataFrame([['Carl', 22],['Martha', 25],['Calvin', 12],['Stuart', 15]], columns=[‘Name’, ‘Age’])\n",
    "B = pd.DataFrame([['Melvin', 25],['Martha', 34],['Lewis', 32],['Leo', 25]], columns=[‘Name’, ‘Age’])\n",
    "1. Left Outer Join\n",
    "2. Outer Join\n",
    "3. Inner Join\n",
    "4. Right Outer Join"
   ]
  },
  {
   "cell_type": "code",
   "execution_count": null,
   "id": "b8f2eb5c",
   "metadata": {},
   "outputs": [],
   "source": [
    "A = pd.DataFrame([['Carl', 22],['Martha', 25],['Calvin', 12],['Stuart', 15]], columns=['Name', 'Age'])\n",
    "B = pd.DataFrame([['Melvin', 25],['Martha', 34],['Lewis', 32],['Leo', 25]], columns=['Name', 'Age'])\n",
    "A.merge(B, on='Name', how='left')"
   ]
  },
  {
   "cell_type": "code",
   "execution_count": null,
   "id": "6dd0591e",
   "metadata": {},
   "outputs": [],
   "source": [
    "A.merge(B, on='Name', how='right')"
   ]
  },
  {
   "cell_type": "code",
   "execution_count": null,
   "id": "e822e59b",
   "metadata": {},
   "outputs": [],
   "source": [
    "A.merge(B, on='Name', how='inner')"
   ]
  },
  {
   "cell_type": "code",
   "execution_count": null,
   "id": "d6d0e46a",
   "metadata": {},
   "outputs": [],
   "source": [
    "A.merge(B, on='Name', how='outer')"
   ]
  },
  {
   "cell_type": "code",
   "execution_count": null,
   "id": "561cc017",
   "metadata": {},
   "outputs": [],
   "source": [
    "inner = pd.merge(A, B, on='Age', how='inner') outer = pd.merge(A, B, on='Age', how='outer') left_outer = pd.merge(A, B, on='Age', how='left') right_outer = pd.merge(A, B, on='Age', how='right')"
   ]
  },
  {
   "cell_type": "code",
   "execution_count": null,
   "id": "a69df01b",
   "metadata": {},
   "outputs": [],
   "source": [
    "31. What will be the correlation between the columns sqft_living and sqft_above?\n",
    "1. 0.702035\n",
    "2. 0.754665\n",
    "3. 0.876597\n",
    "4. 0.303093\n",
    "\n",
    "#Ans: 3. 0.876597"
   ]
  },
  {
   "cell_type": "code",
   "execution_count": null,
   "id": "ad4a76d7",
   "metadata": {},
   "outputs": [],
   "source": [
    "print(house['sqft_living'].corr(house['sqft_above']))"
   ]
  },
  {
   "cell_type": "code",
   "execution_count": null,
   "id": "a03e3dd3",
   "metadata": {},
   "outputs": [],
   "source": [
    "32. If the correlation between the columns bathrooms and sqft_living is 0.754665, what all\n",
    "interpretations can be made about the two columns?\n",
    "1. A positive correlation between the two columns\n",
    "2. The columns show perfect correlation.\n",
    "3. A strong negative correlation between the two columns\n",
    "4. No correlation between the two columns.\n",
    "\n",
    "#Ans: 1. A positive correlation between the two columns"
   ]
  },
  {
   "cell_type": "code",
   "execution_count": null,
   "id": "ca17b5e4",
   "metadata": {},
   "outputs": [],
   "source": [
    "print(house['sqft_living'].corr(house['bathrooms']))"
   ]
  }
 ],
 "metadata": {
  "kernelspec": {
   "display_name": "Python 3 (ipykernel)",
   "language": "python",
   "name": "python3"
  },
  "language_info": {
   "codemirror_mode": {
    "name": "ipython",
    "version": 3
   },
   "file_extension": ".py",
   "mimetype": "text/x-python",
   "name": "python",
   "nbconvert_exporter": "python",
   "pygments_lexer": "ipython3",
   "version": "3.9.12"
  }
 },
 "nbformat": 4,
 "nbformat_minor": 5
}
