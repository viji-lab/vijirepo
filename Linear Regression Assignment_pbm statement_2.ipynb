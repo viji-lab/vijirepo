{
 "cells": [
  {
   "cell_type": "raw",
   "id": "1b5b6916",
   "metadata": {},
   "source": [
    "Problem Statement:\n",
    "1. You have access to the salary information of several employees along with their Years of\n",
    "Experience. Using Linear regression analysis in machine learning, create a linear\n",
    "regression model can predict the salary of an employee based on the years of\n",
    "experience.\n",
    "2. House prices can be an ever changing trend, but it does change based on certain\n",
    "parameters. You are provided with housing data that has information on various houses\n",
    "and their prices. Use the data at hand to predict the prices of the house using linear\n",
    "regression in machine learning.\n"
   ]
  },
  {
   "cell_type": "raw",
   "id": "db34d52c",
   "metadata": {},
   "source": [
    "2. Housing.csv - The dataset is considerably larger and contains the following columns in\n",
    "the data. The dataset contains more than 20,000 entries for information about the\n",
    "houses, prices and various other parameters.\n",
    "Column Name Description\n",
    "id The id column contains a separate id for the\n",
    "houses in the data.\n",
    "date The data contains the time series in which all\n",
    "the houses' respective dates have been\n",
    "mentioned.\n",
    "price The price column lists the price of the house.\n",
    "bedrooms The number of bedrooms in the house.\n",
    "bathrooms The number of bathrooms in the house.\n",
    "sqft_living The area of the living room.\n",
    "sqft_lot The area of the lot.\n",
    "floors Number of floors in the house.\n",
    "waterfront If the house has a waterfront or not\n",
    "view If the house has a viewfront or not.\n",
    "condition Condition of the house represented in various\n",
    "categories.\n",
    "grade The grade of the house in various categories.\n",
    "sqft_above The area above.\n",
    "sqft_basement The basement area.\n",
    "yr_built In which year the house was built.\n",
    "yr_renovated In which year the house was renovated.\n",
    "zipcode The zipcode of the house.\n",
    "lat The latitude information of the house.\n",
    "long The longitude information of the house.\n",
    "sqft_lot15 The average square footage of the 15 closest\n",
    "houses.\n",
    "Sqft_basement_15 The average square footage of the 15 closest\n",
    "houses.\n",
    "Explore the datasets, and perform EDA on both the datasets before starting the following\n",
    "exercise.\n"
   ]
  },
  {
   "cell_type": "code",
   "execution_count": 1,
   "id": "8161ac53",
   "metadata": {},
   "outputs": [],
   "source": [
    "import pandas as pd\n",
    "import numpy as np\n",
    "import matplotlib.pyplot as plt\n",
    "from sklearn.metrics import *"
   ]
  },
  {
   "cell_type": "code",
   "execution_count": 2,
   "id": "7e55a243",
   "metadata": {},
   "outputs": [],
   "source": [
    "house=pd.read_csv(r\"C:\\Users\\Lenovo\\OneDrive\\Desktop\\housing.csv\")"
   ]
  },
  {
   "cell_type": "code",
   "execution_count": 3,
   "id": "d37025b6",
   "metadata": {},
   "outputs": [
    {
     "data": {
      "text/plain": [
       "(21613, 21)"
      ]
     },
     "execution_count": 3,
     "metadata": {},
     "output_type": "execute_result"
    }
   ],
   "source": [
    "house.shape"
   ]
  },
  {
   "cell_type": "code",
   "execution_count": 4,
   "id": "6707dc92",
   "metadata": {},
   "outputs": [
    {
     "data": {
      "text/html": [
       "<div>\n",
       "<style scoped>\n",
       "    .dataframe tbody tr th:only-of-type {\n",
       "        vertical-align: middle;\n",
       "    }\n",
       "\n",
       "    .dataframe tbody tr th {\n",
       "        vertical-align: top;\n",
       "    }\n",
       "\n",
       "    .dataframe thead th {\n",
       "        text-align: right;\n",
       "    }\n",
       "</style>\n",
       "<table border=\"1\" class=\"dataframe\">\n",
       "  <thead>\n",
       "    <tr style=\"text-align: right;\">\n",
       "      <th></th>\n",
       "      <th>id</th>\n",
       "      <th>date</th>\n",
       "      <th>price</th>\n",
       "      <th>bedrooms</th>\n",
       "      <th>bathrooms</th>\n",
       "      <th>sqft_living</th>\n",
       "      <th>sqft_lot</th>\n",
       "      <th>floors</th>\n",
       "      <th>waterfront</th>\n",
       "      <th>view</th>\n",
       "      <th>...</th>\n",
       "      <th>grade</th>\n",
       "      <th>sqft_above</th>\n",
       "      <th>sqft_basement</th>\n",
       "      <th>yr_built</th>\n",
       "      <th>yr_renovated</th>\n",
       "      <th>zipcode</th>\n",
       "      <th>lat</th>\n",
       "      <th>long</th>\n",
       "      <th>sqft_living15</th>\n",
       "      <th>sqft_lot15</th>\n",
       "    </tr>\n",
       "  </thead>\n",
       "  <tbody>\n",
       "    <tr>\n",
       "      <th>0</th>\n",
       "      <td>7129300520</td>\n",
       "      <td>20141013T000000</td>\n",
       "      <td>221900</td>\n",
       "      <td>3</td>\n",
       "      <td>1.00</td>\n",
       "      <td>1180</td>\n",
       "      <td>5650</td>\n",
       "      <td>1.0</td>\n",
       "      <td>0</td>\n",
       "      <td>0</td>\n",
       "      <td>...</td>\n",
       "      <td>7</td>\n",
       "      <td>1180</td>\n",
       "      <td>0</td>\n",
       "      <td>1955</td>\n",
       "      <td>0</td>\n",
       "      <td>98178</td>\n",
       "      <td>47.5112</td>\n",
       "      <td>-122.257</td>\n",
       "      <td>1340</td>\n",
       "      <td>5650</td>\n",
       "    </tr>\n",
       "    <tr>\n",
       "      <th>1</th>\n",
       "      <td>6414100192</td>\n",
       "      <td>20141209T000000</td>\n",
       "      <td>538000</td>\n",
       "      <td>3</td>\n",
       "      <td>2.25</td>\n",
       "      <td>2570</td>\n",
       "      <td>7242</td>\n",
       "      <td>2.0</td>\n",
       "      <td>0</td>\n",
       "      <td>0</td>\n",
       "      <td>...</td>\n",
       "      <td>7</td>\n",
       "      <td>2170</td>\n",
       "      <td>400</td>\n",
       "      <td>1951</td>\n",
       "      <td>1991</td>\n",
       "      <td>98125</td>\n",
       "      <td>47.7210</td>\n",
       "      <td>-122.319</td>\n",
       "      <td>1690</td>\n",
       "      <td>7639</td>\n",
       "    </tr>\n",
       "    <tr>\n",
       "      <th>2</th>\n",
       "      <td>5631500400</td>\n",
       "      <td>20150225T000000</td>\n",
       "      <td>180000</td>\n",
       "      <td>2</td>\n",
       "      <td>1.00</td>\n",
       "      <td>770</td>\n",
       "      <td>10000</td>\n",
       "      <td>1.0</td>\n",
       "      <td>0</td>\n",
       "      <td>0</td>\n",
       "      <td>...</td>\n",
       "      <td>6</td>\n",
       "      <td>770</td>\n",
       "      <td>0</td>\n",
       "      <td>1933</td>\n",
       "      <td>0</td>\n",
       "      <td>98028</td>\n",
       "      <td>47.7379</td>\n",
       "      <td>-122.233</td>\n",
       "      <td>2720</td>\n",
       "      <td>8062</td>\n",
       "    </tr>\n",
       "    <tr>\n",
       "      <th>3</th>\n",
       "      <td>2487200875</td>\n",
       "      <td>20141209T000000</td>\n",
       "      <td>604000</td>\n",
       "      <td>4</td>\n",
       "      <td>3.00</td>\n",
       "      <td>1960</td>\n",
       "      <td>5000</td>\n",
       "      <td>1.0</td>\n",
       "      <td>0</td>\n",
       "      <td>0</td>\n",
       "      <td>...</td>\n",
       "      <td>7</td>\n",
       "      <td>1050</td>\n",
       "      <td>910</td>\n",
       "      <td>1965</td>\n",
       "      <td>0</td>\n",
       "      <td>98136</td>\n",
       "      <td>47.5208</td>\n",
       "      <td>-122.393</td>\n",
       "      <td>1360</td>\n",
       "      <td>5000</td>\n",
       "    </tr>\n",
       "    <tr>\n",
       "      <th>4</th>\n",
       "      <td>1954400510</td>\n",
       "      <td>20150218T000000</td>\n",
       "      <td>510000</td>\n",
       "      <td>3</td>\n",
       "      <td>2.00</td>\n",
       "      <td>1680</td>\n",
       "      <td>8080</td>\n",
       "      <td>1.0</td>\n",
       "      <td>0</td>\n",
       "      <td>0</td>\n",
       "      <td>...</td>\n",
       "      <td>8</td>\n",
       "      <td>1680</td>\n",
       "      <td>0</td>\n",
       "      <td>1987</td>\n",
       "      <td>0</td>\n",
       "      <td>98074</td>\n",
       "      <td>47.6168</td>\n",
       "      <td>-122.045</td>\n",
       "      <td>1800</td>\n",
       "      <td>7503</td>\n",
       "    </tr>\n",
       "  </tbody>\n",
       "</table>\n",
       "<p>5 rows × 21 columns</p>\n",
       "</div>"
      ],
      "text/plain": [
       "           id             date   price  bedrooms  bathrooms  sqft_living  \\\n",
       "0  7129300520  20141013T000000  221900         3       1.00         1180   \n",
       "1  6414100192  20141209T000000  538000         3       2.25         2570   \n",
       "2  5631500400  20150225T000000  180000         2       1.00          770   \n",
       "3  2487200875  20141209T000000  604000         4       3.00         1960   \n",
       "4  1954400510  20150218T000000  510000         3       2.00         1680   \n",
       "\n",
       "   sqft_lot  floors  waterfront  view  ...  grade  sqft_above  sqft_basement  \\\n",
       "0      5650     1.0           0     0  ...      7        1180              0   \n",
       "1      7242     2.0           0     0  ...      7        2170            400   \n",
       "2     10000     1.0           0     0  ...      6         770              0   \n",
       "3      5000     1.0           0     0  ...      7        1050            910   \n",
       "4      8080     1.0           0     0  ...      8        1680              0   \n",
       "\n",
       "   yr_built  yr_renovated  zipcode      lat     long  sqft_living15  \\\n",
       "0      1955             0    98178  47.5112 -122.257           1340   \n",
       "1      1951          1991    98125  47.7210 -122.319           1690   \n",
       "2      1933             0    98028  47.7379 -122.233           2720   \n",
       "3      1965             0    98136  47.5208 -122.393           1360   \n",
       "4      1987             0    98074  47.6168 -122.045           1800   \n",
       "\n",
       "   sqft_lot15  \n",
       "0        5650  \n",
       "1        7639  \n",
       "2        8062  \n",
       "3        5000  \n",
       "4        7503  \n",
       "\n",
       "[5 rows x 21 columns]"
      ]
     },
     "execution_count": 4,
     "metadata": {},
     "output_type": "execute_result"
    }
   ],
   "source": [
    "house.head()"
   ]
  },
  {
   "cell_type": "raw",
   "id": "bc1ba9d6",
   "metadata": {},
   "source": [
    "The exercise after this contains questions that are based on\n",
    "the housing dataset."
   ]
  },
  {
   "cell_type": "raw",
   "id": "e8503a72",
   "metadata": {},
   "source": [
    "10. How many houses have a waterfront?\n",
    "a. 21000\n",
    "b. 21450\n",
    "c. 163\n",
    "d. 173\n",
    "\n",
    "# c. 163"
   ]
  },
  {
   "cell_type": "code",
   "execution_count": 5,
   "id": "6aed887c",
   "metadata": {},
   "outputs": [
    {
     "data": {
      "text/html": [
       "<div>\n",
       "<style scoped>\n",
       "    .dataframe tbody tr th:only-of-type {\n",
       "        vertical-align: middle;\n",
       "    }\n",
       "\n",
       "    .dataframe tbody tr th {\n",
       "        vertical-align: top;\n",
       "    }\n",
       "\n",
       "    .dataframe thead th {\n",
       "        text-align: right;\n",
       "    }\n",
       "</style>\n",
       "<table border=\"1\" class=\"dataframe\">\n",
       "  <thead>\n",
       "    <tr style=\"text-align: right;\">\n",
       "      <th></th>\n",
       "      <th>waterfront</th>\n",
       "    </tr>\n",
       "  </thead>\n",
       "  <tbody>\n",
       "    <tr>\n",
       "      <th>0</th>\n",
       "      <td>21450</td>\n",
       "    </tr>\n",
       "    <tr>\n",
       "      <th>1</th>\n",
       "      <td>163</td>\n",
       "    </tr>\n",
       "  </tbody>\n",
       "</table>\n",
       "</div>"
      ],
      "text/plain": [
       "   waterfront\n",
       "0       21450\n",
       "1         163"
      ]
     },
     "execution_count": 5,
     "metadata": {},
     "output_type": "execute_result"
    }
   ],
   "source": [
    "house['waterfront'].value_counts().to_frame()"
   ]
  },
  {
   "cell_type": "raw",
   "id": "43f23171",
   "metadata": {},
   "source": [
    "11. How many houses have 2 floors?\n",
    "a. 2692\n",
    "b. 8241\n",
    "c. 10680\n",
    "d. 161\n",
    "\n",
    "#Ans: b. 8241"
   ]
  },
  {
   "cell_type": "code",
   "execution_count": 6,
   "id": "51992399",
   "metadata": {},
   "outputs": [
    {
     "data": {
      "text/plain": [
       "8241"
      ]
     },
     "execution_count": 6,
     "metadata": {},
     "output_type": "execute_result"
    }
   ],
   "source": [
    "house[house['floors']==2].value_counts().count()"
   ]
  },
  {
   "cell_type": "raw",
   "id": "447f098d",
   "metadata": {},
   "source": [
    "12. How many houses built before 1960 have a waterfront?\n",
    "a. 80\n",
    "b. 7309\n",
    "c. 90\n",
    "d. 92\n",
    "\n",
    "#Ans: a. 80"
   ]
  },
  {
   "cell_type": "code",
   "execution_count": 7,
   "id": "32e61207",
   "metadata": {},
   "outputs": [
    {
     "data": {
      "text/plain": [
       "80"
      ]
     },
     "execution_count": 7,
     "metadata": {},
     "output_type": "execute_result"
    }
   ],
   "source": [
    "h_bf60=house.loc[(house['yr_built'] <1960) & (house['waterfront']==1)]\n",
    "h_bf60.value_counts().count()"
   ]
  },
  {
   "cell_type": "raw",
   "id": "98439b01",
   "metadata": {},
   "source": [
    "13. What is the price of the most expensive house having more than 4\n",
    "bathrooms?\n",
    "a. 7700000\n",
    "b. 187000\n",
    "c. 290000\n",
    "d. 399000\n",
    "\n",
    "#Ans: a. 7700000\n"
   ]
  },
  {
   "cell_type": "code",
   "execution_count": 8,
   "id": "a831b6ca",
   "metadata": {},
   "outputs": [
    {
     "data": {
      "text/plain": [
       "bathrooms\n",
       "False    4489000\n",
       "True     7700000\n",
       "Name: price, dtype: int64"
      ]
     },
     "execution_count": 8,
     "metadata": {},
     "output_type": "execute_result"
    }
   ],
   "source": [
    "h_bth_4mre=house.groupby(house['bathrooms']> 4)['price'].max()\n",
    "h_bth_4mre"
   ]
  },
  {
   "cell_type": "raw",
   "id": "a3a4782c",
   "metadata": {},
   "source": [
    "14. The image shown below shows the boxplot of the price column from the housing\n",
    "dataset. What inferences can you make from the plot?\n",
    "\n",
    "a. The price column is normally distributed.\n",
    "b. There might be high chances of price data having null values.\n",
    "c. There is a presence of outliers in the price data.\n",
    "d. There is no presence of outliers in the price data.\n",
    "\n",
    "#Ans: c. There is a presence of outliers in the price data.\n"
   ]
  },
  {
   "cell_type": "code",
   "execution_count": 9,
   "id": "0c02721e",
   "metadata": {},
   "outputs": [
    {
     "name": "stderr",
     "output_type": "stream",
     "text": [
      "C:\\Users\\Lenovo\\anaconda3\\lib\\site-packages\\seaborn\\_decorators.py:36: FutureWarning: Pass the following variable as a keyword arg: x. From version 0.12, the only valid positional argument will be `data`, and passing other arguments without an explicit keyword will result in an error or misinterpretation.\n",
      "  warnings.warn(\n"
     ]
    },
    {
     "data": {
      "image/png": "[encoded data removed]",
      "text/plain": [
       "<Figure size 1080x288 with 1 Axes>"
      ]
     },
     "metadata": {
      "needs_background": "light"
     },
     "output_type": "display_data"
    }
   ],
   "source": [
    "import seaborn as sns\n",
    "\n",
    "plt.figure(figsize=(15,4))\n",
    "ax=sns.boxplot(house[\"price\"])\n"
   ]
  },
  {
   "cell_type": "raw",
   "id": "bba587af",
   "metadata": {},
   "source": [
    "15. For instance, if the ‘price’ column consists of outliers, how can you make the data clean\n",
    "and remove the redundancies?\n",
    "a. Calculate the IQR range and drop the values outside the range.\n",
    "b. Calculate the p-value and remove the values less than 0.05.\n",
    "c. Calculate the correlation coefficient of the price column and remove the values less than\n",
    "the correlation coefficient.\n",
    "d. Calculate the Z-score of the price column and remove the values less than the z-score.\n",
    "\n",
    "#Ans: a. Calculate the IQR range and drop the values outside the range.\n"
   ]
  },
  {
   "cell_type": "raw",
   "id": "c69838f7",
   "metadata": {},
   "source": [
    "16. What are the various parameters that can be used to determine the dependent variables\n",
    "in the housing data to determine the price of the house?\n",
    "a. Correlation coefficients\n",
    "b. Z-score\n",
    "c. IQR Range\n",
    "d. Range of the Features\n",
    "\n",
    "#Ans: a. Correlation coefficients\n",
    "\n"
   ]
  },
  {
   "cell_type": "raw",
   "id": "a4856f4e",
   "metadata": {},
   "source": [
    "17. If we get the r2 score as 0.38, what inferences can we make about the model and\n",
    "its efficiency?\n",
    "a. The model is 38% accurate, and shows poor efficiency.\n",
    "b. The model is showing 0.38% discrepancies in the outcomes.\n",
    "c. Low difference between observed and fitted values.\n",
    "d. High difference between observed and fitted values.\n",
    "\n",
    "#Ans: a. The model is 38% accurate, and shows poor efficiency.\n"
   ]
  },
  {
   "cell_type": "raw",
   "id": "5956ff93",
   "metadata": {},
   "source": [
    "18. If the metrics show that the p-value for the grade column is 0.092, what all inferences\n",
    "can we make about the grade column?\n",
    "a. Significant in presence of other variables.\n",
    "b. Highly significant in presence of other variables\n",
    "c. insignificance in presence of other variables\n",
    "d. None of the above\n",
    "\n",
    "#Ans: c. insignificance in presence of other variables\n",
    "\n"
   ]
  },
  {
   "cell_type": "raw",
   "id": "0245e209",
   "metadata": {},
   "source": [
    "19. If the Variance Inflation Factor value for a feature is considerably higher than the\n",
    "other features, what can we say about that column/feature?\n",
    "a. High multicollinearity\n",
    "b. Low multicollinearity\n",
    "c. Both A and B\n",
    "d. None of the above\n",
    "\n",
    "#Ans: a. High multicollinearity\n",
    "\n"
   ]
  }
 ],
 "metadata": {
  "kernelspec": {
   "display_name": "Python 3 (ipykernel)",
   "language": "python",
   "name": "python3"
  },
  "language_info": {
   "codemirror_mode": {
    "name": "ipython",
    "version": 3
   },
   "file_extension": ".py",
   "mimetype": "text/x-python",
   "name": "python",
   "nbconvert_exporter": "python",
   "pygments_lexer": "ipython3",
   "version": "3.9.12"
  }
 },
 "nbformat": 4,
 "nbformat_minor": 5
}
